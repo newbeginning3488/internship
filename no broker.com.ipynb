{
 "cells": [
  {
   "cell_type": "code",
   "execution_count": 1,
   "id": "a194d71d",
   "metadata": {},
   "outputs": [
    {
     "data": {
      "text/plain": [
       "<Response [200]>"
      ]
     },
     "execution_count": 1,
     "metadata": {},
     "output_type": "execute_result"
    }
   ],
   "source": [
    "import sys\n",
    "import time\n",
    "from bs4 import BeautifulSoup\n",
    "import requests\n",
    "\n",
    "try:\n",
    "    \n",
    "    page_nb=requests.get('https://www.nobroker.in/property/sale/bangalore/multiple?searchParam=W3sibGF0IjoxMi45OTgxNzMyLCJsb24iOjc3LjU1MzA0NDU5OTk5OTk5LCJwbGFjZUlkIjoiQ2hJSnhmVzREUE05cmpzUktzTlRHLTVwX1FRIiwicGxhY2VOYW1lIjoiUmFqYWppbmFnYXIifSx7ImxhdCI6MTIuOTMwNzczNSwibG9uIjo3Ny41ODM4MzAyLCJwbGFjZUlkIjoiQ2hJSjJkZGxaNWdWcmpzUmgxQk9BYWYtb3JzIiwicGxhY2VOYW1lIjoiSmF5YW5hZ2FyIn0seyJsYXQiOjEyLjk3ODM2OTIsImxvbiI6NzcuNjQwODM1NiwicGxhY2VJZCI6IkNoSUprUU4zR0tRV3Jqc1JOaEJRSnJoR0Q3VSIsInBsYWNlTmFtZSI6IkluZGlyYW5hZ2FyIn1d&radius=2.0&city=bangalore&locality=Rajajinagar,&locality=Jayanagar,&locality=Indiranagar')\n",
    "    \n",
    "except Exception as e:\n",
    "    error_type,error_obj,error_info=sys.exc_info()\n",
    "    print('ERROR FOR LINK: ',url)\n",
    "    print(error_type,'Line: ',error_info.tb_lineno)\n",
    "    \n",
    "time.sleep(2)\n",
    "\n",
    "page_nb\n"
   ]
  },
  {
   "cell_type": "code",
   "execution_count": 2,
   "id": "890b8be1",
   "metadata": {},
   "outputs": [],
   "source": [
    "soup_nb=BeautifulSoup(page_nb.text,'html.parser')\n",
    "\n"
   ]
  },
  {
   "cell_type": "code",
   "execution_count": 12,
   "id": "5a24819e",
   "metadata": {},
   "outputs": [
    {
     "name": "stdout",
     "output_type": "stream",
     "text": [
      "4+ BHK In Independent House  For Sale  In Rajaji Nagar\n"
     ]
    }
   ],
   "source": [
    "nb=soup_nb.find('h2',class_=\"heading-6 flex items-center font-semi-bold m-0\")\n",
    "print(nb.text)\n"
   ]
  },
  {
   "cell_type": "code",
   "execution_count": 13,
   "id": "e73340fc",
   "metadata": {},
   "outputs": [
    {
     "data": {
      "text/plain": [
       "['4+ BHK In Independent House  For Sale  In Rajaji Nagar',\n",
       " '4+ BHK In Independent House  For Sale  In Jayanagar',\n",
       " '2 BHK Apartment  For Sale  In Blueberry Apartment In Indiranagar',\n",
       " '3 BHK Apartment  For Sale  In Mayitri Enclave In Jayanagar',\n",
       " '2 BHK Apartment  For Sale  In Tarang Parkway Apartment In Basaveshwar Nagar']"
      ]
     },
     "execution_count": 13,
     "metadata": {},
     "output_type": "execute_result"
    }
   ],
   "source": [
    "htitle=[]\n",
    "for i in soup_nb.find_all('h2',class_=\"heading-6 flex items-center font-semi-bold m-0\"):\n",
    "    htitle.append(i.text)\n",
    "    \n",
    "htitle\n"
   ]
  },
  {
   "cell_type": "code",
   "execution_count": 14,
   "id": "be1187e6",
   "metadata": {},
   "outputs": [
    {
     "data": {
      "text/plain": [
       "['Independent House,  6th Cross road,9th main road  Prakash Nagar, Near Metro Station,  BBMP YOGA CENTRE',\n",
       " 'Independent House, TMC Layout behind rajalaxmi kalyana mandira',\n",
       " 'Blueberry ApartmentÂ\\xa0 13th E Main Rd, Channakesahava Nagar, HAL 2nd Stage, Doopanahalli, Indiranagar, Bengaluru, Karnataka 560008, India',\n",
       " 'Mayitri EnclaveÂ\\xa0 Mayitri Enclave, 39th C, 5T Block, 4th T Block East, Jayanagar, Bengaluru, Karnataka 5600041, India',\n",
       " 'Tarang Parkway ApartmentÂ\\xa0 2nd Main Rd, Shivanagar, Basaveshwar Nagar, Bengaluru, Karnataka 560010, India']"
      ]
     },
     "execution_count": 14,
     "metadata": {},
     "output_type": "execute_result"
    }
   ],
   "source": [
    "hloc=[]\n",
    "for i in soup_nb.find_all('div',class_=\"mt-0.5p overflow-hidden overflow-ellipsis whitespace-nowrap max-w-70 text-gray-light leading-4 po:mb-0 po:max-w-95\"):\n",
    "    hloc.append(i.text)\n",
    "    \n",
    "hloc\n"
   ]
  },
  {
   "cell_type": "code",
   "execution_count": 15,
   "id": "ec4331b3",
   "metadata": {},
   "outputs": [
    {
     "name": "stdout",
     "output_type": "stream",
     "text": [
      "1,320 sqft\n",
      "â¹63,045/Month\n",
      "â¹1.1 Crores\n",
      "2,800 sqft\n",
      "â¹2.21 Lacs/Month\n",
      "â¹3.85 Crores\n",
      "1,074 sqft\n",
      "â¹87,691/Month\n",
      "â¹1.53 Crores\n",
      "1,450 sqft\n",
      "â¹44,705/Month\n",
      "â¹78 Lacs\n",
      "1,200 sqft\n",
      "â¹57,314/Month\n",
      "â¹1 Crore\n"
     ]
    }
   ],
   "source": [
    "for i in soup_nb.find_all('div',class_=\"font-semi-bold heading-6\"):\n",
    "    print(i.text)\n"
   ]
  },
  {
   "cell_type": "code",
   "execution_count": 16,
   "id": "fc39bf28",
   "metadata": {},
   "outputs": [
    {
     "data": {
      "text/plain": [
       "['1,320 sqft', '2,800 sqft', '1,074 sqft', '1,450 sqft', '1,200 sqft']"
      ]
     },
     "execution_count": 16,
     "metadata": {},
     "output_type": "execute_result"
    }
   ],
   "source": [
    "area=[]\n",
    "for i in soup_nb.find_all('div',class_=\"font-semi-bold heading-6\"):\n",
    "    area.append(i.text)\n",
    "area   \n",
    "\n",
    "area1=[]\n",
    "for i in range(0,len(area),3):\n",
    "    area1.append(area[i])\n",
    "area1\n"
   ]
  },
  {
   "cell_type": "code",
   "execution_count": 17,
   "id": "c0017ca8",
   "metadata": {},
   "outputs": [
    {
     "data": {
      "text/plain": [
       "['63,045/Month',\n",
       " '2.21 Lacs/Month',\n",
       " '87,691/Month',\n",
       " '44,705/Month',\n",
       " '57,314/Month']"
      ]
     },
     "execution_count": 17,
     "metadata": {},
     "output_type": "execute_result"
    }
   ],
   "source": [
    "emi=[]\n",
    "for i in soup_nb.find_all('div',class_=\"font-semi-bold heading-6\"):\n",
    "    emi.append(i.text.replace('â\\x82¹',''))\n",
    "emi   \n",
    "emi1=[]\n",
    "for i in range(1,len(emi),3):\n",
    "    emi1.append(emi[i])\n",
    "emi1\n"
   ]
  },
  {
   "cell_type": "code",
   "execution_count": 18,
   "id": "41547ff4",
   "metadata": {},
   "outputs": [
    {
     "data": {
      "text/plain": [
       "['1.1 Crores', '3.85 Crores', '1.53 Crores', '78 Lacs', '1 Crore']"
      ]
     },
     "execution_count": 18,
     "metadata": {},
     "output_type": "execute_result"
    }
   ],
   "source": [
    "price=[]\n",
    "for i in soup_nb.find_all('div',class_=\"font-semi-bold heading-6\"):\n",
    "    price.append(i.text.replace('â\\x82¹',''))\n",
    "price   \n",
    "price1=[]\n",
    "for i in range(2,len(price),3):\n",
    "    price1.append(price[i])\n",
    "price1\n"
   ]
  },
  {
   "cell_type": "code",
   "execution_count": 19,
   "id": "2d967887",
   "metadata": {},
   "outputs": [
    {
     "name": "stdout",
     "output_type": "stream",
     "text": [
      "5 5 5 5 5\n"
     ]
    }
   ],
   "source": [
    "print(len(htitle),len(hloc),len(area1),len(emi1),len(price1))\n"
   ]
  },
  {
   "cell_type": "code",
   "execution_count": 20,
   "id": "9abac310",
   "metadata": {},
   "outputs": [
    {
     "data": {
      "text/html": [
       "<div>\n",
       "<style scoped>\n",
       "    .dataframe tbody tr th:only-of-type {\n",
       "        vertical-align: middle;\n",
       "    }\n",
       "\n",
       "    .dataframe tbody tr th {\n",
       "        vertical-align: top;\n",
       "    }\n",
       "\n",
       "    .dataframe thead th {\n",
       "        text-align: right;\n",
       "    }\n",
       "</style>\n",
       "<table border=\"1\" class=\"dataframe\">\n",
       "  <thead>\n",
       "    <tr style=\"text-align: right;\">\n",
       "      <th></th>\n",
       "      <th>House Title</th>\n",
       "      <th>House Location</th>\n",
       "      <th>Area</th>\n",
       "      <th>EMI</th>\n",
       "      <th>Price</th>\n",
       "    </tr>\n",
       "  </thead>\n",
       "  <tbody>\n",
       "    <tr>\n",
       "      <th>0</th>\n",
       "      <td>4+ BHK In Independent House  For Sale  In Raja...</td>\n",
       "      <td>Independent House,  6th Cross road,9th main ro...</td>\n",
       "      <td>1,320 sqft</td>\n",
       "      <td>63,045/Month</td>\n",
       "      <td>1.1 Crores</td>\n",
       "    </tr>\n",
       "    <tr>\n",
       "      <th>1</th>\n",
       "      <td>4+ BHK In Independent House  For Sale  In Jaya...</td>\n",
       "      <td>Independent House, TMC Layout behind rajalaxmi...</td>\n",
       "      <td>2,800 sqft</td>\n",
       "      <td>2.21 Lacs/Month</td>\n",
       "      <td>3.85 Crores</td>\n",
       "    </tr>\n",
       "    <tr>\n",
       "      <th>2</th>\n",
       "      <td>2 BHK Apartment  For Sale  In Blueberry Apartm...</td>\n",
       "      <td>Blueberry ApartmentÂ  13th E Main Rd, Channake...</td>\n",
       "      <td>1,074 sqft</td>\n",
       "      <td>87,691/Month</td>\n",
       "      <td>1.53 Crores</td>\n",
       "    </tr>\n",
       "    <tr>\n",
       "      <th>3</th>\n",
       "      <td>3 BHK Apartment  For Sale  In Mayitri Enclave ...</td>\n",
       "      <td>Mayitri EnclaveÂ  Mayitri Enclave, 39th C, 5T ...</td>\n",
       "      <td>1,450 sqft</td>\n",
       "      <td>44,705/Month</td>\n",
       "      <td>78 Lacs</td>\n",
       "    </tr>\n",
       "    <tr>\n",
       "      <th>4</th>\n",
       "      <td>2 BHK Apartment  For Sale  In Tarang Parkway A...</td>\n",
       "      <td>Tarang Parkway ApartmentÂ  2nd Main Rd, Shivan...</td>\n",
       "      <td>1,200 sqft</td>\n",
       "      <td>57,314/Month</td>\n",
       "      <td>1 Crore</td>\n",
       "    </tr>\n",
       "  </tbody>\n",
       "</table>\n",
       "</div>"
      ],
      "text/plain": [
       "                                         House Title  \\\n",
       "0  4+ BHK In Independent House  For Sale  In Raja...   \n",
       "1  4+ BHK In Independent House  For Sale  In Jaya...   \n",
       "2  2 BHK Apartment  For Sale  In Blueberry Apartm...   \n",
       "3  3 BHK Apartment  For Sale  In Mayitri Enclave ...   \n",
       "4  2 BHK Apartment  For Sale  In Tarang Parkway A...   \n",
       "\n",
       "                                      House Location        Area  \\\n",
       "0  Independent House,  6th Cross road,9th main ro...  1,320 sqft   \n",
       "1  Independent House, TMC Layout behind rajalaxmi...  2,800 sqft   \n",
       "2  Blueberry ApartmentÂ  13th E Main Rd, Channake...  1,074 sqft   \n",
       "3  Mayitri EnclaveÂ  Mayitri Enclave, 39th C, 5T ...  1,450 sqft   \n",
       "4  Tarang Parkway ApartmentÂ  2nd Main Rd, Shivan...  1,200 sqft   \n",
       "\n",
       "               EMI        Price  \n",
       "0     63,045/Month   1.1 Crores  \n",
       "1  2.21 Lacs/Month  3.85 Crores  \n",
       "2     87,691/Month  1.53 Crores  \n",
       "3     44,705/Month      78 Lacs  \n",
       "4     57,314/Month      1 Crore  "
      ]
     },
     "execution_count": 20,
     "metadata": {},
     "output_type": "execute_result"
    }
   ],
   "source": [
    "import pandas as pd\n",
    "house_details=pd.DataFrame({'House Title':htitle,'House Location':hloc,'Area':area1,'EMI':emi1,'Price':price1})\n",
    "house_details\n"
   ]
  },
  {
   "cell_type": "code",
   "execution_count": null,
   "id": "179177a5",
   "metadata": {},
   "outputs": [],
   "source": []
  }
 ],
 "metadata": {
  "kernelspec": {
   "display_name": "Python 3",
   "language": "python",
   "name": "python3"
  },
  "language_info": {
   "codemirror_mode": {
    "name": "ipython",
    "version": 3
   },
   "file_extension": ".py",
   "mimetype": "text/x-python",
   "name": "python",
   "nbconvert_exporter": "python",
   "pygments_lexer": "ipython3",
   "version": "3.8.8"
  }
 },
 "nbformat": 4,
 "nbformat_minor": 5
}
