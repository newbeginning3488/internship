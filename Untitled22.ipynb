{
 "cells": [
  {
   "cell_type": "markdown",
   "id": "266af5ec",
   "metadata": {},
   "source": [
    "python program to find factorial of number"
   ]
  },
  {
   "cell_type": "code",
   "execution_count": 1,
   "id": "b2603f0e",
   "metadata": {},
   "outputs": [
    {
     "name": "stdout",
     "output_type": "stream",
     "text": [
      "Input a number to compute factorial :18\n",
      "6402373705728000\n"
     ]
    }
   ],
   "source": [
    "def factorial(n):\n",
    "    if n==0:\n",
    "        return 1\n",
    "    else:\n",
    "        return n*factorial(n-1)\n",
    "n=int(input(\"Input a number to compute factorial :\")) \n",
    "print(factorial(n))\n",
    "\n",
    "        "
   ]
  },
  {
   "cell_type": "markdown",
   "id": "5e86e998",
   "metadata": {},
   "source": [
    "python program to find whether a number is prime or composite"
   ]
  },
  {
   "cell_type": "code",
   "execution_count": 2,
   "id": "bb7f171e",
   "metadata": {},
   "outputs": [
    {
     "name": "stdout",
     "output_type": "stream",
     "text": [
      "Enter any number: 19\n",
      "19 is a prime number\n"
     ]
    }
   ],
   "source": [
    "# taking input from user\n",
    "number = int(input(\"Enter any number: \"))\n",
    "\n",
    "#prime number is always greater than 1\n",
    "if number > 1:\n",
    "    for i in range(2, number):\n",
    "        if (number % i) == 0: \n",
    "            print(number, \"is not a prime number\")\n",
    "            break\n",
    "    else:\n",
    "        print(number,\"is a prime number\")\n",
    "\n",
    "# if the entered number is lessthan or equal to 1\n",
    "# then it is not prime number\n",
    "else:\n",
    "    print(number,\"is not a prime number\")\n",
    "    "
   ]
  },
  {
   "cell_type": "markdown",
   "id": "8fb19bb9",
   "metadata": {},
   "source": [
    "python program to check whether given string is palindrome or not"
   ]
  },
  {
   "cell_type": "code",
   "execution_count": 3,
   "id": "a3853ec0",
   "metadata": {},
   "outputs": [
    {
     "name": "stdout",
     "output_type": "stream",
     "text": [
      "Enter a string: madam\n",
      "The string is a palindrome\n"
     ]
    }
   ],
   "source": [
    "string=input((\"Enter a string: \"))\n",
    "if (string == string [::-1]):\n",
    "    print(\"The string is a palindrome\")\n",
    "else:\n",
    "    print(\"Not a palindrome\")\n"
   ]
  },
  {
   "cell_type": "markdown",
   "id": "b7f73198",
   "metadata": {},
   "source": [
    "python program to get the third side of right angled triangle from two given sides"
   ]
  },
  {
   "cell_type": "code",
   "execution_count": 4,
   "id": "8b3d61a3",
   "metadata": {},
   "outputs": [],
   "source": [
    "import math"
   ]
  },
  {
   "cell_type": "code",
   "execution_count": 5,
   "id": "e6ddc2fe",
   "metadata": {},
   "outputs": [
    {
     "name": "stdout",
     "output_type": "stream",
     "text": [
      "Enter base: 10.5\n",
      "Enter height: 5.5\n",
      "Enter angle: 60\n",
      "Hypotenuse = 11.853269591129697\n"
     ]
    }
   ],
   "source": [
    "a = float(input(\"Enter base: \"))\n",
    "b = float(input(\"Enter height: \"))\n",
    "x = float(input(\"Enter angle: \"))\n",
    "\n",
    "c = math.sqrt(a ** 2 + b ** 2)\n",
    "\n",
    "    \n",
    "print(\"Hypotenuse =\", c)    \n",
    "\n",
    "    "
   ]
  },
  {
   "cell_type": "markdown",
   "id": "a84d49d0",
   "metadata": {},
   "source": [
    "python program to print the frequency of each of the characters present in the string"
   ]
  },
  {
   "cell_type": "code",
   "execution_count": 8,
   "id": "db5dd195",
   "metadata": {},
   "outputs": [
    {
     "name": "stdout",
     "output_type": "stream",
     "text": [
      "Enter the string: mypython\n",
      "m,1\n",
      "y,2\n",
      "p,1\n",
      "t,1\n",
      "h,1\n",
      "o,1\n",
      "n,1\n"
     ]
    }
   ],
   "source": [
    "string=input(\"Enter the string: \")\n",
    "str1=list(string)\n",
    "strlist=[]\n",
    "\n",
    "for k in str1:\n",
    "    if k not in strlist:\n",
    "        strlist.append(k)\n",
    "        count=0\n",
    "        \n",
    "        for i in range(len(str1)):\n",
    "            if k==str1[i]: \n",
    "              count+=1\n",
    "        print(\"{},{}\".format(k,count))        "
   ]
  },
  {
   "cell_type": "code",
   "execution_count": null,
   "id": "76ba0eca",
   "metadata": {},
   "outputs": [],
   "source": []
  }
 ],
 "metadata": {
  "kernelspec": {
   "display_name": "Python 3",
   "language": "python",
   "name": "python3"
  },
  "language_info": {
   "codemirror_mode": {
    "name": "ipython",
    "version": 3
   },
   "file_extension": ".py",
   "mimetype": "text/x-python",
   "name": "python",
   "nbconvert_exporter": "python",
   "pygments_lexer": "ipython3",
   "version": "3.8.8"
  }
 },
 "nbformat": 4,
 "nbformat_minor": 5
}
