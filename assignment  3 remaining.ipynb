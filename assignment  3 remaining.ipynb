{
 "cells": [
  {
   "cell_type": "markdown",
   "id": "1c663d82",
   "metadata": {},
   "source": [
    "# question 4"
   ]
  },
  {
   "cell_type": "code",
   "execution_count": 1,
   "id": "c4696eb8",
   "metadata": {},
   "outputs": [],
   "source": [
    "import selenium\n",
    "from selenium import webdriver\n",
    "import pandas as pd\n",
    "\n",
    "\n",
    "from bs4 import BeautifulSoup\n",
    "import requests\n",
    "\n",
    "import time\n",
    "\n",
    "from selenium.common.exceptions import StaleElementReferenceException\n",
    "from selenium.common.exceptions import NoSuchElementException\n",
    "from selenium.webdriver.support.ui import WebDriverWait\n",
    "\n",
    "import warnings\n",
    "warnings.filterwarnings(\"ignore\")\n"
   ]
  },
  {
   "cell_type": "code",
   "execution_count": 3,
   "id": "536c031c",
   "metadata": {},
   "outputs": [],
   "source": [
    "driver_4 = webdriver.Chrome(r\"C:\\Users\\reach\\chromedriver.exe\")\n",
    "time.sleep(5)"
   ]
  },
  {
   "cell_type": "code",
   "execution_count": 4,
   "id": "ecafed7d",
   "metadata": {},
   "outputs": [],
   "source": [
    "driver_4.get('https://www.flipkart.com/')\n",
    "driver_4.maximize_window()\n"
   ]
  },
  {
   "cell_type": "code",
   "execution_count": 5,
   "id": "200eba7e",
   "metadata": {},
   "outputs": [],
   "source": [
    "search4 = driver_4.find_element_by_class_name('_3704LK')\n",
    "search4.send_keys(\"pixel 4A\")"
   ]
  },
  {
   "cell_type": "code",
   "execution_count": 11,
   "id": "d78209a6",
   "metadata": {},
   "outputs": [],
   "source": [
    "button4 = driver_4.find_element_by_xpath('/html/body/div[1]/div/div[3]/div[1]/div[2]/div[26]/div/div/nav/a[11]/span')\n"
   ]
  },
  {
   "cell_type": "code",
   "execution_count": 12,
   "id": "3259b593",
   "metadata": {},
   "outputs": [],
   "source": [
    "button4.click()"
   ]
  },
  {
   "cell_type": "code",
   "execution_count": 13,
   "id": "78708858",
   "metadata": {},
   "outputs": [
    {
     "data": {
      "text/plain": [
       "['Redmi',\n",
       " 'vivo',\n",
       " 'Redmi',\n",
       " 'REDMI',\n",
       " 'Redmi',\n",
       " 'Redmi',\n",
       " 'Redmi',\n",
       " 'Redmi',\n",
       " 'REDMI',\n",
       " 'Redmi',\n",
       " 'Tecno',\n",
       " 'SAMSUNG',\n",
       " 'REDMI',\n",
       " 'Redmi',\n",
       " 'Redmi',\n",
       " 'REDMI',\n",
       " 'I',\n",
       " 'REDMI',\n",
       " 'Redmi',\n",
       " 'vivo',\n",
       " 'realme',\n",
       " 'Redmi',\n",
       " 'Redmi',\n",
       " 'SAMSUNG']"
      ]
     },
     "execution_count": 13,
     "metadata": {},
     "output_type": "execute_result"
    }
   ],
   "source": [
    "Brand=[]\n",
    "try:\n",
    "    brand_tags = driver_4.find_elements_by_xpath('//div[@class=\"_4rR01T\"]')\n",
    "    for i in brand_tags:\n",
    "        Brand.append(i.text.split()[0])\n",
    "except NoSuchElementException:\n",
    "        Brand.append('-')\n",
    "        \n",
    "Brand"
   ]
  },
  {
   "cell_type": "code",
   "execution_count": 14,
   "id": "3721ea7c",
   "metadata": {},
   "outputs": [
    {
     "data": {
      "text/plain": [
       "['Redmi 9A Sport (Carbon Black, 32 GB)',\n",
       " 'vivo T1 Pro 5G (Turbo Black, 128 GB)',\n",
       " 'Redmi 9A Sport (Carbon Black, 32 GB)',\n",
       " 'REDMI 10 Prime (Astral White, 128 GB)',\n",
       " 'Redmi Note 11 (Horizon Blue, 128 GB)',\n",
       " 'Redmi Note 11 (Starburst White, 128 GB)',\n",
       " 'Redmi 9A (Nature Green, 32 GB)',\n",
       " 'Redmi 9A (SeaBlue, 32 GB)',\n",
       " 'REDMI 10A (Slate Grey, 32 GB)',\n",
       " 'Redmi 9A (Midnight Black, 32 GB)',\n",
       " 'Tecno Spark 8 (Turquoise Cyan, 64 GB)',\n",
       " 'SAMSUNG M21 2021 Edition (Arctic blue, 64 GB)',\n",
       " 'REDMI Note 11S (Horizon Blue, 128 GB)',\n",
       " 'Redmi Note 11 PRO Plus 5G (Stealth Black, 128 GB)',\n",
       " 'Redmi Note 11 (Space Black, 64 GB)',\n",
       " 'REDMI Note 11S (Space Black, 128 GB)',\n",
       " 'I Kall K3310',\n",
       " 'REDMI 10 Prime (Bifrost Blue, 64 GB)',\n",
       " 'Redmi Note 11 PRO Plus 5G (Stealth Black, 256 GB)',\n",
       " 'vivo Y21G (Diamond Glow, 64 GB)',\n",
       " 'realme GT 2 (Steel Black, 128 GB)',\n",
       " 'Redmi Note 11 (Space Black, 64 GB)',\n",
       " 'Redmi 9 (Sporty Orange, 64 GB)',\n",
       " 'SAMSUNG Galaxy M52 5G (Icy Blue, 128 GB)']"
      ]
     },
     "execution_count": 14,
     "metadata": {},
     "output_type": "execute_result"
    }
   ],
   "source": [
    "Name=[]\n",
    "try:\n",
    "    name_tags = driver_4.find_elements_by_xpath('//div[@class=\"_4rR01T\"]')\n",
    "    for i in name_tags:\n",
    "        Name.append(i.text.replace('\\n',''))\n",
    "except NoSuchElementException:\n",
    "        Name.append('-')\n",
    "        \n",
    "Name"
   ]
  },
  {
   "cell_type": "code",
   "execution_count": 15,
   "id": "e0d30637",
   "metadata": {},
   "outputs": [
    {
     "data": {
      "text/plain": [
       "[['Carbon', 'Black'],\n",
       " ['5G', 'Turbo'],\n",
       " ['Carbon', 'Black'],\n",
       " ['Astral', 'White'],\n",
       " ['Horizon', 'Blue'],\n",
       " ['Starburst', 'White'],\n",
       " ['Green', '32'],\n",
       " ['32', 'GB)'],\n",
       " ['Grey', '32'],\n",
       " ['Black', '32'],\n",
       " ['Turquoise', 'Cyan'],\n",
       " ['Edition', 'Arctic'],\n",
       " ['Horizon', 'Blue'],\n",
       " ['PRO', 'Plus'],\n",
       " ['Space', 'Black'],\n",
       " ['Space', 'Black'],\n",
       " [],\n",
       " ['Bifrost', 'Blue'],\n",
       " ['PRO', 'Plus'],\n",
       " ['Glow', '64'],\n",
       " ['Steel', 'Black'],\n",
       " ['Space', 'Black'],\n",
       " ['Orange', '64'],\n",
       " ['5G', 'Icy']]"
      ]
     },
     "execution_count": 15,
     "metadata": {},
     "output_type": "execute_result"
    }
   ],
   "source": [
    "Color=[]\n",
    "try:\n",
    "    color_tags = driver_4.find_elements_by_xpath('//div[@class=\"_4rR01T\"]')\n",
    "    for i in color_tags:\n",
    "        Color.append(i.text.replace('(','').replace(',',' ').split()[3:5])\n",
    "except NoSuchElementException:\n",
    "        Color.append('-')\n",
    "        \n",
    "Color"
   ]
  },
  {
   "cell_type": "code",
   "execution_count": 16,
   "id": "08ab0e5c",
   "metadata": {},
   "outputs": [
    {
     "data": {
      "text/plain": [
       "['2 GB RAM  & 32 GB ROM  & Expandable Upto 512 GB',\n",
       " '6 GB RAM  & 128 GB ROM',\n",
       " '3 GB RAM  & 32 GB ROM  & Expandable Upto 512 GB',\n",
       " '6 GB RAM  & 128 GB ROM  & Expandable Upto 512 GB',\n",
       " '6 GB RAM  & 128 GB ROM',\n",
       " '6 GB RAM  & 128 GB ROM',\n",
       " '2 GB RAM  & 32 GB ROM',\n",
       " '2 GB RAM  & 32 GB ROM',\n",
       " '3 GB RAM  & 32 GB ROM',\n",
       " '2 GB RAM  & 32 GB ROM',\n",
       " '4 GB RAM  & 64 GB ROM  & Expandable Upto 256 GB',\n",
       " '4 GB RAM  & 64 GB ROM',\n",
       " '8 GB RAM  & 128 GB ROM',\n",
       " '8 GB RAM  & 128 GB ROM',\n",
       " '6 GB RAM  & 64 GB ROM',\n",
       " '6 GB RAM  & 128 GB ROM',\n",
       " '32 MB RAM  & 31 MB ROM',\n",
       " '4 GB RAM  & 64 GB ROM  & Expandable Upto 512 GB',\n",
       " '8 GB RAM  & 256 GB ROM',\n",
       " '4 GB RAM  & 64 GB ROM  & Expandable Upto 1 TB',\n",
       " '8 GB RAM  & 128 GB ROM',\n",
       " '4 GB RAM  & 64 GB ROM  & Expandable Upto 1 TB',\n",
       " '4 GB RAM  & 64 GB ROM',\n",
       " '6 GB RAM  & 128 GB ROM  & Expandable Upto 1 TB']"
      ]
     },
     "execution_count": 16,
     "metadata": {},
     "output_type": "execute_result"
    }
   ],
   "source": [
    "RAMROM=[]\n",
    "try:\n",
    "    r_tags = driver_4.find_elements_by_xpath('//ul[@class=\"_1xgFaf\"]/li[1]')\n",
    "    for i in r_tags:\n",
    "        RAMROM.append(i.text.replace('|',' &'))\n",
    "except NoSuchElementException:\n",
    "        RAMROM.append('-')\n",
    "        \n",
    "RAMROM"
   ]
  },
  {
   "cell_type": "code",
   "execution_count": 17,
   "id": "3e582c94",
   "metadata": {},
   "outputs": [
    {
     "data": {
      "text/plain": [
       "['16.59 cm (6.53 inch) HD+ Display',\n",
       " '16.36 cm (6.44 inch) Full HD+ AMOLED Display',\n",
       " '16.59 cm (6.53 inch) HD+ Display',\n",
       " '16.51 cm (6.5 inch) Full HD Display',\n",
       " '16.33 cm (6.43 inch) Display',\n",
       " '16.33 cm (6.43 inch) Display',\n",
       " '16.59 cm (6.53 inch) Full HD+ Display',\n",
       " '16.59 cm (6.53 inch) Full HD+ Display',\n",
       " '16.59 cm (6.53 inch) Display',\n",
       " '16.59 cm (6.53 inch) Full HD+ Display',\n",
       " '16.66 cm (6.56 inch) HD+ Display',\n",
       " '16.26 cm (6.4 inch) Display',\n",
       " '16.33 cm (6.43 inch) Display',\n",
       " '16.94 cm (6.67 inch) Display',\n",
       " '16.33 cm (6.43 inch) Display',\n",
       " '16.33 cm (6.43 inch) Display',\n",
       " '4.5 cm (1.77 inch) Display',\n",
       " '16.51 cm (6.5 inch) Full HD Display',\n",
       " '16.94 cm (6.67 inch) Display',\n",
       " '16.54 cm (6.51 inch) HD+ Display',\n",
       " '16.81 cm (6.62 inch) Full HD+ AMOLED Display',\n",
       " '16.33 cm (6.43 inch) Full HD+ Display',\n",
       " '16.59 cm (6.53 inch) HD+ Display',\n",
       " '17.02 cm (6.7 inch) Full HD+ Display']"
      ]
     },
     "execution_count": 17,
     "metadata": {},
     "output_type": "execute_result"
    }
   ],
   "source": [
    "Display=[]\n",
    "try:\n",
    "    pc_tags = driver_4.find_elements_by_xpath('//ul[@class=\"_1xgFaf\"]/li[2]')\n",
    "    for i in pc_tags:\n",
    "        Display.append(i.text.replace('\\n',''))\n",
    "except NoSuchElementException:\n",
    "        Display.append('-')\n",
    "        \n",
    "Display\n"
   ]
  },
  {
   "cell_type": "code",
   "execution_count": 18,
   "id": "5ba60569",
   "metadata": {},
   "outputs": [
    {
     "data": {
      "text/plain": [
       "['13MP Rear Camera & 5MP Front Camera',\n",
       " '64MP + 8MP + 2MP & 16MP Front Camera',\n",
       " '13MP Rear Camera & 5MP Front Camera',\n",
       " '50MP + 8MP + 2MP + 2MP & 8MP Front Camera',\n",
       " '50MP Rear Camera',\n",
       " '50MP Rear Camera',\n",
       " '13MP Rear Camera',\n",
       " '13MP Rear Camera',\n",
       " '13MP Rear Camera',\n",
       " '13MP Rear Camera',\n",
       " '16MP Rear Camera & 8MP Front Camera',\n",
       " '48MP Rear Camera',\n",
       " '108MP Rear Camera',\n",
       " '108MP Rear Camera',\n",
       " '50MP Rear Camera',\n",
       " '108MP Rear Camera',\n",
       " '0.3MP Rear Camera',\n",
       " '50MP + 8MP + 2MP + 2MP & 8MP Front Camera',\n",
       " '108MP Rear Camera',\n",
       " '13MP + 2MP & 8MP Front Camera',\n",
       " '50MP + 8MP + 2MP & 16MP Front Camera',\n",
       " '50MP + 8MP + 2MP + 2MP & 13MP Front Camera',\n",
       " '13MP + 2MP & 5MP Front Camera',\n",
       " '64MP + 12MP + 5MP & 32MP Front Camera']"
      ]
     },
     "execution_count": 18,
     "metadata": {},
     "output_type": "execute_result"
    }
   ],
   "source": [
    "Camera=[]\n",
    "try:\n",
    "    c_tags = driver_4.find_elements_by_xpath('//ul[@class=\"_1xgFaf\"]/li[3]')\n",
    "    for i in c_tags:\n",
    "        Camera.append(i.text.replace('|','&'))\n",
    "except NoSuchElementException:\n",
    "        Camera.append('-')\n",
    "        \n",
    "Camera"
   ]
  },
  {
   "cell_type": "code",
   "execution_count": 19,
   "id": "7c066ea9",
   "metadata": {},
   "outputs": [
    {
     "data": {
      "text/plain": [
       "['5000 mAh Battery',\n",
       " '4700 mAh Lithium Battery',\n",
       " '5000 mAh Battery',\n",
       " '6000 mAh Battery',\n",
       " '5000 mAh Battery',\n",
       " '5000 mAh Battery',\n",
       " '5000 mAh Battery',\n",
       " '5000 mAh Battery',\n",
       " '5000 mAh Battery',\n",
       " '5000 mAh Battery',\n",
       " '5000 mAh Battery',\n",
       " '6000 mAh Battery',\n",
       " '5000 mAh Battery',\n",
       " '5000 mAh Battery',\n",
       " '5000 mAh Battery',\n",
       " '5000 mAh Battery',\n",
       " '1000 mAh Battery',\n",
       " '6000 mAh Battery',\n",
       " '5000 mAh Battery',\n",
       " '5000 mAh Lithium Battery',\n",
       " '5000 mAh Lithium Ion Battery',\n",
       " '5000 mAh Battery',\n",
       " '5000 mAh Battery',\n",
       " '5000 mAh Battery']"
      ]
     },
     "execution_count": 19,
     "metadata": {},
     "output_type": "execute_result"
    }
   ],
   "source": [
    "Battery=[]\n",
    "try:\n",
    "    b_tags = driver_4.find_elements_by_xpath('//ul[@class=\"_1xgFaf\"]/li[4]')\n",
    "    for i in b_tags:\n",
    "        Battery.append(i.text.replace('\\n',''))\n",
    "except NoSuchElementException:\n",
    "        Battery.append('-')\n",
    "        \n",
    "Battery"
   ]
  },
  {
   "cell_type": "code",
   "execution_count": 20,
   "id": "cf8133b8",
   "metadata": {},
   "outputs": [
    {
     "data": {
      "text/plain": [
       "['₹6,917',\n",
       " '₹23,999',\n",
       " '₹7,749',\n",
       " '₹14,780',\n",
       " '₹15,445',\n",
       " '₹15,979',\n",
       " '₹6,969',\n",
       " '₹7,189',\n",
       " '₹9,189',\n",
       " '₹6,989',\n",
       " '₹9,699',\n",
       " '₹11,562',\n",
       " '₹18,297',\n",
       " '₹21,216',\n",
       " '₹13,735',\n",
       " '₹17,699',\n",
       " '₹729',\n",
       " '₹12,217',\n",
       " '₹25,785',\n",
       " '₹13,499',\n",
       " '₹34,999',\n",
       " '₹12,794',\n",
       " '₹10,890',\n",
       " '₹23,760']"
      ]
     },
     "execution_count": 20,
     "metadata": {},
     "output_type": "execute_result"
    }
   ],
   "source": [
    "Price=[]\n",
    "try:\n",
    "    p_tags = driver_4.find_elements_by_xpath('//div[@class=\"_30jeq3 _1_WHN1\"]')\n",
    "    for i in p_tags:\n",
    "        Price.append(i.text.replace('\\n',''))\n",
    "except NoSuchElementException:\n",
    "        Price.append('-')\n",
    "        \n",
    "Price\n"
   ]
  },
  {
   "cell_type": "code",
   "execution_count": 21,
   "id": "02b2c754",
   "metadata": {},
   "outputs": [
    {
     "data": {
      "text/plain": [
       "['https://www.flipkart.com/redmi-9a-sport-carbon-black-32-gb/p/itm53bc6ebfe147b?pid=MOBG7DGGNP5N2RXH&lid=LSTMOBG7DGGNP5N2RXHPHGAZG&marketplace=FLIPKART&q=pixel+4A&store=tyy%2F4io&srno=s_2_25&otracker=search&otracker1=search&fm=Search&iid=ec908a4a-9f34-4095-bc30-5117be2ad240.MOBG7DGGNP5N2RXH.SEARCH&ppt=sp&ppn=sp&ssid=naedfjkuxc0000001653325270953&qH=9b26a23b2cff510d',\n",
       " 'https://www.flipkart.com/vivo-t1-pro-5g-turbo-black-128-gb/p/itmdbb5d58c3018d?pid=MOBGDRHVT8RAZDYR&lid=LSTMOBGDRHVT8RAZDYR52GVHN&marketplace=FLIPKART&q=pixel+4A&store=tyy%2F4io&srno=s_2_26&otracker=search&otracker1=search&fm=Search&iid=ec908a4a-9f34-4095-bc30-5117be2ad240.MOBGDRHVT8RAZDYR.SEARCH&ppt=sp&ppn=sp&ssid=naedfjkuxc0000001653325270953&qH=9b26a23b2cff510d',\n",
       " 'https://www.flipkart.com/redmi-9a-sport-carbon-black-32-gb/p/itm53bc6ebfe147b?pid=MOBG7CJMHFQJFCX3&lid=LSTMOBG7CJMHFQJFCX3M7GF2X&marketplace=FLIPKART&q=pixel+4A&store=tyy%2F4io&srno=s_2_27&otracker=search&otracker1=search&fm=Search&iid=ec908a4a-9f34-4095-bc30-5117be2ad240.MOBG7CJMHFQJFCX3.SEARCH&ppt=sp&ppn=sp&ssid=naedfjkuxc0000001653325270953&qH=9b26a23b2cff510d',\n",
       " 'https://www.flipkart.com/redmi-10-prime-astral-white-128-gb/p/itm9377b4c936baa?pid=MOBG6RGJGTKTUVD9&lid=LSTMOBG6RGJGTKTUVD9OOYEWD&marketplace=FLIPKART&q=pixel+4A&store=tyy%2F4io&srno=s_2_28&otracker=search&otracker1=search&fm=Search&iid=ec908a4a-9f34-4095-bc30-5117be2ad240.MOBG6RGJGTKTUVD9.SEARCH&ppt=sp&ppn=sp&ssid=naedfjkuxc0000001653325270953&qH=9b26a23b2cff510d',\n",
       " 'https://www.flipkart.com/redmi-note-11-horizon-blue-128-gb/p/itm2a388ca843b21?pid=MOBGBGAMRJGHTKUM&lid=LSTMOBGBGAMRJGHTKUMWQXSVJ&marketplace=FLIPKART&q=pixel+4A&store=tyy%2F4io&srno=s_2_29&otracker=search&otracker1=search&fm=Search&iid=ec908a4a-9f34-4095-bc30-5117be2ad240.MOBGBGAMRJGHTKUM.SEARCH&ppt=sp&ppn=sp&ssid=naedfjkuxc0000001653325270953&qH=9b26a23b2cff510d',\n",
       " 'https://www.flipkart.com/redmi-note-11-starburst-white-128-gb/p/itm2a388ca843b21?pid=MOBGBGAYPKGYBUA2&lid=LSTMOBGBGAYPKGYBUA2HTVA9P&marketplace=FLIPKART&q=pixel+4A&store=tyy%2F4io&srno=s_2_30&otracker=search&otracker1=search&fm=Search&iid=ec908a4a-9f34-4095-bc30-5117be2ad240.MOBGBGAYPKGYBUA2.SEARCH&ppt=sp&ppn=sp&ssid=naedfjkuxc0000001653325270953&qH=9b26a23b2cff510d',\n",
       " 'https://www.flipkart.com/redmi-9a-nature-green-32-gb/p/itmeabd39a0cd669?pid=MOBFVDA5QCGNZKH9&lid=LSTMOBFVDA5QCGNZKH9LPVRPQ&marketplace=FLIPKART&q=pixel+4A&store=tyy%2F4io&srno=s_2_31&otracker=search&otracker1=search&fm=Search&iid=ec908a4a-9f34-4095-bc30-5117be2ad240.MOBFVDA5QCGNZKH9.SEARCH&ppt=sp&ppn=sp&ssid=naedfjkuxc0000001653325270953&qH=9b26a23b2cff510d',\n",
       " 'https://www.flipkart.com/redmi-9a-seablue-32-gb/p/itmeabd39a0cd669?pid=MOBFVD9ZGTYR2WGR&lid=LSTMOBFVD9ZGTYR2WGRRUHRWS&marketplace=FLIPKART&q=pixel+4A&store=tyy%2F4io&srno=s_2_32&otracker=search&otracker1=search&fm=Search&iid=ec908a4a-9f34-4095-bc30-5117be2ad240.MOBFVD9ZGTYR2WGR.SEARCH&ppt=sp&ppn=sp&ssid=naedfjkuxc0000001653325270953&qH=9b26a23b2cff510d',\n",
       " 'https://www.flipkart.com/redmi-10a-slate-grey-32-gb/p/itm755830dd54ae1?pid=MOBGDRGQXGRHUJS2&lid=LSTMOBGDRGQXGRHUJS26XIURI&marketplace=FLIPKART&q=pixel+4A&store=tyy%2F4io&srno=s_2_33&otracker=search&otracker1=search&fm=Search&iid=ec908a4a-9f34-4095-bc30-5117be2ad240.MOBGDRGQXGRHUJS2.SEARCH&ppt=sp&ppn=sp&ssid=naedfjkuxc0000001653325270953&qH=9b26a23b2cff510d',\n",
       " 'https://www.flipkart.com/redmi-9a-midnight-black-32-gb/p/itmeabd39a0cd669?pid=MOBFVDA2RWTCFBHZ&lid=LSTMOBFVDA2RWTCFBHZC9GCG4&marketplace=FLIPKART&q=pixel+4A&store=tyy%2F4io&srno=s_2_34&otracker=search&otracker1=search&fm=Search&iid=ec908a4a-9f34-4095-bc30-5117be2ad240.MOBFVDA2RWTCFBHZ.SEARCH&ppt=sp&ppn=sp&ssid=naedfjkuxc0000001653325270953&qH=9b26a23b2cff510d',\n",
       " 'https://www.flipkart.com/tecno-spark-8-turquoise-cyan-64-gb/p/itm2866d70686c33?pid=MOBG9YDH2HWFCGYG&lid=LSTMOBG9YDH2HWFCGYGEIGEJY&marketplace=FLIPKART&q=pixel+4A&store=tyy%2F4io&srno=s_2_35&otracker=search&otracker1=search&fm=Search&iid=ec908a4a-9f34-4095-bc30-5117be2ad240.MOBG9YDH2HWFCGYG.SEARCH&ppt=sp&ppn=sp&ssid=naedfjkuxc0000001653325270953&qH=9b26a23b2cff510d',\n",
       " 'https://www.flipkart.com/samsung-m21-2021-arctic-blue-64-gb/p/itm61647bcca8527?pid=MOBG5J8GXG8RWEY2&lid=LSTMOBG5J8GXG8RWEY2EQVWKW&marketplace=FLIPKART&q=pixel+4A&store=tyy%2F4io&srno=s_2_36&otracker=search&otracker1=search&fm=Search&iid=ec908a4a-9f34-4095-bc30-5117be2ad240.MOBG5J8GXG8RWEY2.SEARCH&ppt=sp&ppn=sp&ssid=naedfjkuxc0000001653325270953&qH=9b26a23b2cff510d',\n",
       " 'https://www.flipkart.com/redmi-note-11s-horizon-blue-128-gb/p/itmb8642d8e0f169?pid=MOBGBWYMQMZVT8XC&lid=LSTMOBGBWYMQMZVT8XCKSZIQS&marketplace=FLIPKART&q=pixel+4A&store=tyy%2F4io&srno=s_2_37&otracker=search&otracker1=search&fm=Search&iid=ec908a4a-9f34-4095-bc30-5117be2ad240.MOBGBWYMQMZVT8XC.SEARCH&ppt=sp&ppn=sp&ssid=naedfjkuxc0000001653325270953&qH=9b26a23b2cff510d',\n",
       " 'https://www.flipkart.com/redmi-note-11-pro-plus-5g-stealth-black-128-gb/p/itmd029928dc2e7e?pid=MOBGCQRYPFFZE9GA&lid=LSTMOBGCQRYPFFZE9GAZ5OW6E&marketplace=FLIPKART&q=pixel+4A&store=tyy%2F4io&srno=s_2_38&otracker=search&otracker1=search&fm=Search&iid=ec908a4a-9f34-4095-bc30-5117be2ad240.MOBGCQRYPFFZE9GA.SEARCH&ppt=sp&ppn=sp&ssid=naedfjkuxc0000001653325270953&qH=9b26a23b2cff510d',\n",
       " 'https://www.flipkart.com/redmi-note-11-space-black-64-gb/p/itm2a388ca843b21?pid=MOBGBHCKZNYYG5QA&lid=LSTMOBGBHCKZNYYG5QAQ7G5NW&marketplace=FLIPKART&q=pixel+4A&store=tyy%2F4io&srno=s_2_39&otracker=search&otracker1=search&fm=Search&iid=ec908a4a-9f34-4095-bc30-5117be2ad240.MOBGBHCKZNYYG5QA.SEARCH&ppt=sp&ppn=sp&ssid=naedfjkuxc0000001653325270953&qH=9b26a23b2cff510d',\n",
       " 'https://www.flipkart.com/redmi-note-11s-space-black-128-gb/p/itmb8642d8e0f169?pid=MOBGBWYMRHGXNZGC&lid=LSTMOBGBWYMRHGXNZGCKOHOMP&marketplace=FLIPKART&q=pixel+4A&store=tyy%2F4io&srno=s_2_40&otracker=search&otracker1=search&fm=Search&iid=ec908a4a-9f34-4095-bc30-5117be2ad240.MOBGBWYMRHGXNZGC.SEARCH&ppt=sp&ppn=sp&ssid=naedfjkuxc0000001653325270953&qH=9b26a23b2cff510d',\n",
       " 'https://www.flipkart.com/i-kall-k3310/p/itmevt8krrtzu2yx?pid=MOBG5UYVYXHGYVKN&lid=LSTMOBG5UYVYXHGYVKNRUPRNI&marketplace=FLIPKART&q=pixel+4A&store=tyy%2F4io&srno=s_2_41&otracker=search&otracker1=search&fm=Search&iid=ec908a4a-9f34-4095-bc30-5117be2ad240.MOBG5UYVYXHGYVKN.SEARCH&ppt=sp&ppn=sp&ssid=naedfjkuxc0000001653325270953&qH=9b26a23b2cff510d',\n",
       " 'https://www.flipkart.com/redmi-10-prime-bifrost-blue-64-gb/p/itm9377b4c936baa?pid=MOBG6RGHNFKZUPRE&lid=LSTMOBG6RGHNFKZUPRERH5LRZ&marketplace=FLIPKART&q=pixel+4A&store=tyy%2F4io&srno=s_2_42&otracker=search&otracker1=search&fm=Search&iid=ec908a4a-9f34-4095-bc30-5117be2ad240.MOBG6RGHNFKZUPRE.SEARCH&ppt=sp&ppn=sp&ssid=naedfjkuxc0000001653325270953&qH=9b26a23b2cff510d',\n",
       " 'https://www.flipkart.com/redmi-note-11-pro-plus-5g-stealth-black-256-gb/p/itmd029928dc2e7e?pid=MOBGCQSBUPZHUNZB&lid=LSTMOBGCQSBUPZHUNZBD7RLQX&marketplace=FLIPKART&q=pixel+4A&store=tyy%2F4io&srno=s_2_43&otracker=search&otracker1=search&fm=Search&iid=ec908a4a-9f34-4095-bc30-5117be2ad240.MOBGCQSBUPZHUNZB.SEARCH&ppt=sp&ppn=sp&ssid=naedfjkuxc0000001653325270953&qH=9b26a23b2cff510d',\n",
       " 'https://www.flipkart.com/vivo-y21g-diamond-glow-64-gb/p/itmcb4986f752d3d?pid=MOBGD6DGKVFJJN6N&lid=LSTMOBGD6DGKVFJJN6NWODOCM&marketplace=FLIPKART&q=pixel+4A&store=tyy%2F4io&srno=s_2_44&otracker=search&otracker1=search&fm=Search&iid=ec908a4a-9f34-4095-bc30-5117be2ad240.MOBGD6DGKVFJJN6N.SEARCH&ppt=sp&ppn=sp&ssid=naedfjkuxc0000001653325270953&qH=9b26a23b2cff510d',\n",
       " 'https://www.flipkart.com/realme-gt-2-steel-black-128-gb/p/itmac4c08a9eb2da?pid=MOBGDAT7ATJAFSXZ&lid=LSTMOBGDAT7ATJAFSXZYNJKAX&marketplace=FLIPKART&q=pixel+4A&store=tyy%2F4io&srno=s_2_45&otracker=search&otracker1=search&fm=Search&iid=ec908a4a-9f34-4095-bc30-5117be2ad240.MOBGDAT7ATJAFSXZ.SEARCH&ppt=sp&ppn=sp&ssid=naedfjkuxc0000001653325270953&qH=9b26a23b2cff510d',\n",
       " 'https://www.flipkart.com/redmi-note-11-space-black-64-gb/p/itm2a388ca843b21?pid=MOBGBHCHRPUQY9AT&lid=LSTMOBGBHCHRPUQY9ATLWDH3J&marketplace=FLIPKART&q=pixel+4A&store=tyy%2F4io&srno=s_2_46&otracker=search&otracker1=search&fm=Search&iid=ec908a4a-9f34-4095-bc30-5117be2ad240.MOBGBHCHRPUQY9AT.SEARCH&ppt=sp&ppn=sp&ssid=naedfjkuxc0000001653325270953&qH=9b26a23b2cff510d',\n",
       " 'https://www.flipkart.com/redmi-9-sporty-orange-64-gb/p/itm4fb151383983b?pid=MOBFV5FPCJC9ZKRB&lid=LSTMOBFV5FPCJC9ZKRBQ0REKE&marketplace=FLIPKART&q=pixel+4A&store=tyy%2F4io&srno=s_2_47&otracker=search&otracker1=search&fm=Search&iid=ec908a4a-9f34-4095-bc30-5117be2ad240.MOBFV5FPCJC9ZKRB.SEARCH&ppt=sp&ppn=sp&ssid=naedfjkuxc0000001653325270953&qH=9b26a23b2cff510d',\n",
       " 'https://www.flipkart.com/samsung-galaxy-m52-5g-icy-blue-128-gb/p/itmc11e28acf5474?pid=MOBG7H8ZMGBH4Q8F&lid=LSTMOBG7H8ZMGBH4Q8FVRUPPV&marketplace=FLIPKART&q=pixel+4A&store=tyy%2F4io&srno=s_2_48&otracker=search&otracker1=search&fm=Search&iid=ec908a4a-9f34-4095-bc30-5117be2ad240.MOBG7H8ZMGBH4Q8F.SEARCH&ppt=sp&ppn=sp&ssid=naedfjkuxc0000001653325270953&qH=9b26a23b2cff510d']"
      ]
     },
     "execution_count": 21,
     "metadata": {},
     "output_type": "execute_result"
    }
   ],
   "source": [
    "PdtURL=[]\n",
    "try:\n",
    "    u_tags = driver_4.find_elements_by_xpath('//a[@class=\"_1fQZEK\"]')\n",
    "    for i in u_tags:\n",
    "        PdtURL.append(i.get_attribute(\"href\"))\n",
    "    \n",
    "except NoSuchElementException:\n",
    "        PdtURL.append('-')\n",
    "        \n",
    "PdtURL"
   ]
  },
  {
   "cell_type": "code",
   "execution_count": 22,
   "id": "6cb1692f",
   "metadata": {},
   "outputs": [],
   "source": [
    "Smartphone = pd.DataFrame({})\n",
    "Smartphone[\"Brand\"] = Brand\n",
    "Smartphone[\"Phone name\"] = Name\n",
    "Smartphone[\"Colour\"] = Color\n",
    "Smartphone[\"RAM & Storage(ROM)\"] = RAMROM\n",
    "Smartphone[\"Cameras\"] = Camera\n",
    "Smartphone[\"Display\"] = Display\n",
    "Smartphone[\"Battery\"] = Battery\n",
    "Smartphone[\"Price\"] = Price\n",
    "Smartphone[\"URL\"] = PdtURL"
   ]
  },
  {
   "cell_type": "code",
   "execution_count": 23,
   "id": "2229da9d",
   "metadata": {},
   "outputs": [
    {
     "data": {
      "text/html": [
       "<div>\n",
       "<style scoped>\n",
       "    .dataframe tbody tr th:only-of-type {\n",
       "        vertical-align: middle;\n",
       "    }\n",
       "\n",
       "    .dataframe tbody tr th {\n",
       "        vertical-align: top;\n",
       "    }\n",
       "\n",
       "    .dataframe thead th {\n",
       "        text-align: right;\n",
       "    }\n",
       "</style>\n",
       "<table border=\"1\" class=\"dataframe\">\n",
       "  <thead>\n",
       "    <tr style=\"text-align: right;\">\n",
       "      <th></th>\n",
       "      <th>Brand</th>\n",
       "      <th>Phone name</th>\n",
       "      <th>Colour</th>\n",
       "      <th>RAM &amp; Storage(ROM)</th>\n",
       "      <th>Cameras</th>\n",
       "      <th>Display</th>\n",
       "      <th>Battery</th>\n",
       "      <th>Price</th>\n",
       "      <th>URL</th>\n",
       "    </tr>\n",
       "  </thead>\n",
       "  <tbody>\n",
       "    <tr>\n",
       "      <th>0</th>\n",
       "      <td>Redmi</td>\n",
       "      <td>Redmi 9A Sport (Carbon Black, 32 GB)</td>\n",
       "      <td>[Carbon, Black]</td>\n",
       "      <td>2 GB RAM  &amp; 32 GB ROM  &amp; Expandable Upto 512 GB</td>\n",
       "      <td>13MP Rear Camera &amp; 5MP Front Camera</td>\n",
       "      <td>16.59 cm (6.53 inch) HD+ Display</td>\n",
       "      <td>5000 mAh Battery</td>\n",
       "      <td>₹6,917</td>\n",
       "      <td>https://www.flipkart.com/redmi-9a-sport-carbon...</td>\n",
       "    </tr>\n",
       "    <tr>\n",
       "      <th>1</th>\n",
       "      <td>vivo</td>\n",
       "      <td>vivo T1 Pro 5G (Turbo Black, 128 GB)</td>\n",
       "      <td>[5G, Turbo]</td>\n",
       "      <td>6 GB RAM  &amp; 128 GB ROM</td>\n",
       "      <td>64MP + 8MP + 2MP &amp; 16MP Front Camera</td>\n",
       "      <td>16.36 cm (6.44 inch) Full HD+ AMOLED Display</td>\n",
       "      <td>4700 mAh Lithium Battery</td>\n",
       "      <td>₹23,999</td>\n",
       "      <td>https://www.flipkart.com/vivo-t1-pro-5g-turbo-...</td>\n",
       "    </tr>\n",
       "    <tr>\n",
       "      <th>2</th>\n",
       "      <td>Redmi</td>\n",
       "      <td>Redmi 9A Sport (Carbon Black, 32 GB)</td>\n",
       "      <td>[Carbon, Black]</td>\n",
       "      <td>3 GB RAM  &amp; 32 GB ROM  &amp; Expandable Upto 512 GB</td>\n",
       "      <td>13MP Rear Camera &amp; 5MP Front Camera</td>\n",
       "      <td>16.59 cm (6.53 inch) HD+ Display</td>\n",
       "      <td>5000 mAh Battery</td>\n",
       "      <td>₹7,749</td>\n",
       "      <td>https://www.flipkart.com/redmi-9a-sport-carbon...</td>\n",
       "    </tr>\n",
       "    <tr>\n",
       "      <th>3</th>\n",
       "      <td>REDMI</td>\n",
       "      <td>REDMI 10 Prime (Astral White, 128 GB)</td>\n",
       "      <td>[Astral, White]</td>\n",
       "      <td>6 GB RAM  &amp; 128 GB ROM  &amp; Expandable Upto 512 GB</td>\n",
       "      <td>50MP + 8MP + 2MP + 2MP &amp; 8MP Front Camera</td>\n",
       "      <td>16.51 cm (6.5 inch) Full HD Display</td>\n",
       "      <td>6000 mAh Battery</td>\n",
       "      <td>₹14,780</td>\n",
       "      <td>https://www.flipkart.com/redmi-10-prime-astral...</td>\n",
       "    </tr>\n",
       "    <tr>\n",
       "      <th>4</th>\n",
       "      <td>Redmi</td>\n",
       "      <td>Redmi Note 11 (Horizon Blue, 128 GB)</td>\n",
       "      <td>[Horizon, Blue]</td>\n",
       "      <td>6 GB RAM  &amp; 128 GB ROM</td>\n",
       "      <td>50MP Rear Camera</td>\n",
       "      <td>16.33 cm (6.43 inch) Display</td>\n",
       "      <td>5000 mAh Battery</td>\n",
       "      <td>₹15,445</td>\n",
       "      <td>https://www.flipkart.com/redmi-note-11-horizon...</td>\n",
       "    </tr>\n",
       "    <tr>\n",
       "      <th>5</th>\n",
       "      <td>Redmi</td>\n",
       "      <td>Redmi Note 11 (Starburst White, 128 GB)</td>\n",
       "      <td>[Starburst, White]</td>\n",
       "      <td>6 GB RAM  &amp; 128 GB ROM</td>\n",
       "      <td>50MP Rear Camera</td>\n",
       "      <td>16.33 cm (6.43 inch) Display</td>\n",
       "      <td>5000 mAh Battery</td>\n",
       "      <td>₹15,979</td>\n",
       "      <td>https://www.flipkart.com/redmi-note-11-starbur...</td>\n",
       "    </tr>\n",
       "    <tr>\n",
       "      <th>6</th>\n",
       "      <td>Redmi</td>\n",
       "      <td>Redmi 9A (Nature Green, 32 GB)</td>\n",
       "      <td>[Green, 32]</td>\n",
       "      <td>2 GB RAM  &amp; 32 GB ROM</td>\n",
       "      <td>13MP Rear Camera</td>\n",
       "      <td>16.59 cm (6.53 inch) Full HD+ Display</td>\n",
       "      <td>5000 mAh Battery</td>\n",
       "      <td>₹6,969</td>\n",
       "      <td>https://www.flipkart.com/redmi-9a-nature-green...</td>\n",
       "    </tr>\n",
       "    <tr>\n",
       "      <th>7</th>\n",
       "      <td>Redmi</td>\n",
       "      <td>Redmi 9A (SeaBlue, 32 GB)</td>\n",
       "      <td>[32, GB)]</td>\n",
       "      <td>2 GB RAM  &amp; 32 GB ROM</td>\n",
       "      <td>13MP Rear Camera</td>\n",
       "      <td>16.59 cm (6.53 inch) Full HD+ Display</td>\n",
       "      <td>5000 mAh Battery</td>\n",
       "      <td>₹7,189</td>\n",
       "      <td>https://www.flipkart.com/redmi-9a-seablue-32-g...</td>\n",
       "    </tr>\n",
       "    <tr>\n",
       "      <th>8</th>\n",
       "      <td>REDMI</td>\n",
       "      <td>REDMI 10A (Slate Grey, 32 GB)</td>\n",
       "      <td>[Grey, 32]</td>\n",
       "      <td>3 GB RAM  &amp; 32 GB ROM</td>\n",
       "      <td>13MP Rear Camera</td>\n",
       "      <td>16.59 cm (6.53 inch) Display</td>\n",
       "      <td>5000 mAh Battery</td>\n",
       "      <td>₹9,189</td>\n",
       "      <td>https://www.flipkart.com/redmi-10a-slate-grey-...</td>\n",
       "    </tr>\n",
       "    <tr>\n",
       "      <th>9</th>\n",
       "      <td>Redmi</td>\n",
       "      <td>Redmi 9A (Midnight Black, 32 GB)</td>\n",
       "      <td>[Black, 32]</td>\n",
       "      <td>2 GB RAM  &amp; 32 GB ROM</td>\n",
       "      <td>13MP Rear Camera</td>\n",
       "      <td>16.59 cm (6.53 inch) Full HD+ Display</td>\n",
       "      <td>5000 mAh Battery</td>\n",
       "      <td>₹6,989</td>\n",
       "      <td>https://www.flipkart.com/redmi-9a-midnight-bla...</td>\n",
       "    </tr>\n",
       "    <tr>\n",
       "      <th>10</th>\n",
       "      <td>Tecno</td>\n",
       "      <td>Tecno Spark 8 (Turquoise Cyan, 64 GB)</td>\n",
       "      <td>[Turquoise, Cyan]</td>\n",
       "      <td>4 GB RAM  &amp; 64 GB ROM  &amp; Expandable Upto 256 GB</td>\n",
       "      <td>16MP Rear Camera &amp; 8MP Front Camera</td>\n",
       "      <td>16.66 cm (6.56 inch) HD+ Display</td>\n",
       "      <td>5000 mAh Battery</td>\n",
       "      <td>₹9,699</td>\n",
       "      <td>https://www.flipkart.com/tecno-spark-8-turquoi...</td>\n",
       "    </tr>\n",
       "    <tr>\n",
       "      <th>11</th>\n",
       "      <td>SAMSUNG</td>\n",
       "      <td>SAMSUNG M21 2021 Edition (Arctic blue, 64 GB)</td>\n",
       "      <td>[Edition, Arctic]</td>\n",
       "      <td>4 GB RAM  &amp; 64 GB ROM</td>\n",
       "      <td>48MP Rear Camera</td>\n",
       "      <td>16.26 cm (6.4 inch) Display</td>\n",
       "      <td>6000 mAh Battery</td>\n",
       "      <td>₹11,562</td>\n",
       "      <td>https://www.flipkart.com/samsung-m21-2021-arct...</td>\n",
       "    </tr>\n",
       "    <tr>\n",
       "      <th>12</th>\n",
       "      <td>REDMI</td>\n",
       "      <td>REDMI Note 11S (Horizon Blue, 128 GB)</td>\n",
       "      <td>[Horizon, Blue]</td>\n",
       "      <td>8 GB RAM  &amp; 128 GB ROM</td>\n",
       "      <td>108MP Rear Camera</td>\n",
       "      <td>16.33 cm (6.43 inch) Display</td>\n",
       "      <td>5000 mAh Battery</td>\n",
       "      <td>₹18,297</td>\n",
       "      <td>https://www.flipkart.com/redmi-note-11s-horizo...</td>\n",
       "    </tr>\n",
       "    <tr>\n",
       "      <th>13</th>\n",
       "      <td>Redmi</td>\n",
       "      <td>Redmi Note 11 PRO Plus 5G (Stealth Black, 128 GB)</td>\n",
       "      <td>[PRO, Plus]</td>\n",
       "      <td>8 GB RAM  &amp; 128 GB ROM</td>\n",
       "      <td>108MP Rear Camera</td>\n",
       "      <td>16.94 cm (6.67 inch) Display</td>\n",
       "      <td>5000 mAh Battery</td>\n",
       "      <td>₹21,216</td>\n",
       "      <td>https://www.flipkart.com/redmi-note-11-pro-plu...</td>\n",
       "    </tr>\n",
       "    <tr>\n",
       "      <th>14</th>\n",
       "      <td>Redmi</td>\n",
       "      <td>Redmi Note 11 (Space Black, 64 GB)</td>\n",
       "      <td>[Space, Black]</td>\n",
       "      <td>6 GB RAM  &amp; 64 GB ROM</td>\n",
       "      <td>50MP Rear Camera</td>\n",
       "      <td>16.33 cm (6.43 inch) Display</td>\n",
       "      <td>5000 mAh Battery</td>\n",
       "      <td>₹13,735</td>\n",
       "      <td>https://www.flipkart.com/redmi-note-11-space-b...</td>\n",
       "    </tr>\n",
       "    <tr>\n",
       "      <th>15</th>\n",
       "      <td>REDMI</td>\n",
       "      <td>REDMI Note 11S (Space Black, 128 GB)</td>\n",
       "      <td>[Space, Black]</td>\n",
       "      <td>6 GB RAM  &amp; 128 GB ROM</td>\n",
       "      <td>108MP Rear Camera</td>\n",
       "      <td>16.33 cm (6.43 inch) Display</td>\n",
       "      <td>5000 mAh Battery</td>\n",
       "      <td>₹17,699</td>\n",
       "      <td>https://www.flipkart.com/redmi-note-11s-space-...</td>\n",
       "    </tr>\n",
       "    <tr>\n",
       "      <th>16</th>\n",
       "      <td>I</td>\n",
       "      <td>I Kall K3310</td>\n",
       "      <td>[]</td>\n",
       "      <td>32 MB RAM  &amp; 31 MB ROM</td>\n",
       "      <td>0.3MP Rear Camera</td>\n",
       "      <td>4.5 cm (1.77 inch) Display</td>\n",
       "      <td>1000 mAh Battery</td>\n",
       "      <td>₹729</td>\n",
       "      <td>https://www.flipkart.com/i-kall-k3310/p/itmevt...</td>\n",
       "    </tr>\n",
       "    <tr>\n",
       "      <th>17</th>\n",
       "      <td>REDMI</td>\n",
       "      <td>REDMI 10 Prime (Bifrost Blue, 64 GB)</td>\n",
       "      <td>[Bifrost, Blue]</td>\n",
       "      <td>4 GB RAM  &amp; 64 GB ROM  &amp; Expandable Upto 512 GB</td>\n",
       "      <td>50MP + 8MP + 2MP + 2MP &amp; 8MP Front Camera</td>\n",
       "      <td>16.51 cm (6.5 inch) Full HD Display</td>\n",
       "      <td>6000 mAh Battery</td>\n",
       "      <td>₹12,217</td>\n",
       "      <td>https://www.flipkart.com/redmi-10-prime-bifros...</td>\n",
       "    </tr>\n",
       "    <tr>\n",
       "      <th>18</th>\n",
       "      <td>Redmi</td>\n",
       "      <td>Redmi Note 11 PRO Plus 5G (Stealth Black, 256 GB)</td>\n",
       "      <td>[PRO, Plus]</td>\n",
       "      <td>8 GB RAM  &amp; 256 GB ROM</td>\n",
       "      <td>108MP Rear Camera</td>\n",
       "      <td>16.94 cm (6.67 inch) Display</td>\n",
       "      <td>5000 mAh Battery</td>\n",
       "      <td>₹25,785</td>\n",
       "      <td>https://www.flipkart.com/redmi-note-11-pro-plu...</td>\n",
       "    </tr>\n",
       "    <tr>\n",
       "      <th>19</th>\n",
       "      <td>vivo</td>\n",
       "      <td>vivo Y21G (Diamond Glow, 64 GB)</td>\n",
       "      <td>[Glow, 64]</td>\n",
       "      <td>4 GB RAM  &amp; 64 GB ROM  &amp; Expandable Upto 1 TB</td>\n",
       "      <td>13MP + 2MP &amp; 8MP Front Camera</td>\n",
       "      <td>16.54 cm (6.51 inch) HD+ Display</td>\n",
       "      <td>5000 mAh Lithium Battery</td>\n",
       "      <td>₹13,499</td>\n",
       "      <td>https://www.flipkart.com/vivo-y21g-diamond-glo...</td>\n",
       "    </tr>\n",
       "    <tr>\n",
       "      <th>20</th>\n",
       "      <td>realme</td>\n",
       "      <td>realme GT 2 (Steel Black, 128 GB)</td>\n",
       "      <td>[Steel, Black]</td>\n",
       "      <td>8 GB RAM  &amp; 128 GB ROM</td>\n",
       "      <td>50MP + 8MP + 2MP &amp; 16MP Front Camera</td>\n",
       "      <td>16.81 cm (6.62 inch) Full HD+ AMOLED Display</td>\n",
       "      <td>5000 mAh Lithium Ion Battery</td>\n",
       "      <td>₹34,999</td>\n",
       "      <td>https://www.flipkart.com/realme-gt-2-steel-bla...</td>\n",
       "    </tr>\n",
       "    <tr>\n",
       "      <th>21</th>\n",
       "      <td>Redmi</td>\n",
       "      <td>Redmi Note 11 (Space Black, 64 GB)</td>\n",
       "      <td>[Space, Black]</td>\n",
       "      <td>4 GB RAM  &amp; 64 GB ROM  &amp; Expandable Upto 1 TB</td>\n",
       "      <td>50MP + 8MP + 2MP + 2MP &amp; 13MP Front Camera</td>\n",
       "      <td>16.33 cm (6.43 inch) Full HD+ Display</td>\n",
       "      <td>5000 mAh Battery</td>\n",
       "      <td>₹12,794</td>\n",
       "      <td>https://www.flipkart.com/redmi-note-11-space-b...</td>\n",
       "    </tr>\n",
       "    <tr>\n",
       "      <th>22</th>\n",
       "      <td>Redmi</td>\n",
       "      <td>Redmi 9 (Sporty Orange, 64 GB)</td>\n",
       "      <td>[Orange, 64]</td>\n",
       "      <td>4 GB RAM  &amp; 64 GB ROM</td>\n",
       "      <td>13MP + 2MP &amp; 5MP Front Camera</td>\n",
       "      <td>16.59 cm (6.53 inch) HD+ Display</td>\n",
       "      <td>5000 mAh Battery</td>\n",
       "      <td>₹10,890</td>\n",
       "      <td>https://www.flipkart.com/redmi-9-sporty-orange...</td>\n",
       "    </tr>\n",
       "    <tr>\n",
       "      <th>23</th>\n",
       "      <td>SAMSUNG</td>\n",
       "      <td>SAMSUNG Galaxy M52 5G (Icy Blue, 128 GB)</td>\n",
       "      <td>[5G, Icy]</td>\n",
       "      <td>6 GB RAM  &amp; 128 GB ROM  &amp; Expandable Upto 1 TB</td>\n",
       "      <td>64MP + 12MP + 5MP &amp; 32MP Front Camera</td>\n",
       "      <td>17.02 cm (6.7 inch) Full HD+ Display</td>\n",
       "      <td>5000 mAh Battery</td>\n",
       "      <td>₹23,760</td>\n",
       "      <td>https://www.flipkart.com/samsung-galaxy-m52-5g...</td>\n",
       "    </tr>\n",
       "  </tbody>\n",
       "</table>\n",
       "</div>"
      ],
      "text/plain": [
       "      Brand                                         Phone name  \\\n",
       "0     Redmi               Redmi 9A Sport (Carbon Black, 32 GB)   \n",
       "1      vivo               vivo T1 Pro 5G (Turbo Black, 128 GB)   \n",
       "2     Redmi               Redmi 9A Sport (Carbon Black, 32 GB)   \n",
       "3     REDMI              REDMI 10 Prime (Astral White, 128 GB)   \n",
       "4     Redmi               Redmi Note 11 (Horizon Blue, 128 GB)   \n",
       "5     Redmi            Redmi Note 11 (Starburst White, 128 GB)   \n",
       "6     Redmi                     Redmi 9A (Nature Green, 32 GB)   \n",
       "7     Redmi                          Redmi 9A (SeaBlue, 32 GB)   \n",
       "8     REDMI                      REDMI 10A (Slate Grey, 32 GB)   \n",
       "9     Redmi                   Redmi 9A (Midnight Black, 32 GB)   \n",
       "10    Tecno              Tecno Spark 8 (Turquoise Cyan, 64 GB)   \n",
       "11  SAMSUNG      SAMSUNG M21 2021 Edition (Arctic blue, 64 GB)   \n",
       "12    REDMI              REDMI Note 11S (Horizon Blue, 128 GB)   \n",
       "13    Redmi  Redmi Note 11 PRO Plus 5G (Stealth Black, 128 GB)   \n",
       "14    Redmi                 Redmi Note 11 (Space Black, 64 GB)   \n",
       "15    REDMI               REDMI Note 11S (Space Black, 128 GB)   \n",
       "16        I                                       I Kall K3310   \n",
       "17    REDMI               REDMI 10 Prime (Bifrost Blue, 64 GB)   \n",
       "18    Redmi  Redmi Note 11 PRO Plus 5G (Stealth Black, 256 GB)   \n",
       "19     vivo                    vivo Y21G (Diamond Glow, 64 GB)   \n",
       "20   realme                  realme GT 2 (Steel Black, 128 GB)   \n",
       "21    Redmi                 Redmi Note 11 (Space Black, 64 GB)   \n",
       "22    Redmi                     Redmi 9 (Sporty Orange, 64 GB)   \n",
       "23  SAMSUNG           SAMSUNG Galaxy M52 5G (Icy Blue, 128 GB)   \n",
       "\n",
       "                Colour                                RAM & Storage(ROM)  \\\n",
       "0      [Carbon, Black]   2 GB RAM  & 32 GB ROM  & Expandable Upto 512 GB   \n",
       "1          [5G, Turbo]                            6 GB RAM  & 128 GB ROM   \n",
       "2      [Carbon, Black]   3 GB RAM  & 32 GB ROM  & Expandable Upto 512 GB   \n",
       "3      [Astral, White]  6 GB RAM  & 128 GB ROM  & Expandable Upto 512 GB   \n",
       "4      [Horizon, Blue]                            6 GB RAM  & 128 GB ROM   \n",
       "5   [Starburst, White]                            6 GB RAM  & 128 GB ROM   \n",
       "6          [Green, 32]                             2 GB RAM  & 32 GB ROM   \n",
       "7            [32, GB)]                             2 GB RAM  & 32 GB ROM   \n",
       "8           [Grey, 32]                             3 GB RAM  & 32 GB ROM   \n",
       "9          [Black, 32]                             2 GB RAM  & 32 GB ROM   \n",
       "10   [Turquoise, Cyan]   4 GB RAM  & 64 GB ROM  & Expandable Upto 256 GB   \n",
       "11   [Edition, Arctic]                             4 GB RAM  & 64 GB ROM   \n",
       "12     [Horizon, Blue]                            8 GB RAM  & 128 GB ROM   \n",
       "13         [PRO, Plus]                            8 GB RAM  & 128 GB ROM   \n",
       "14      [Space, Black]                             6 GB RAM  & 64 GB ROM   \n",
       "15      [Space, Black]                            6 GB RAM  & 128 GB ROM   \n",
       "16                  []                            32 MB RAM  & 31 MB ROM   \n",
       "17     [Bifrost, Blue]   4 GB RAM  & 64 GB ROM  & Expandable Upto 512 GB   \n",
       "18         [PRO, Plus]                            8 GB RAM  & 256 GB ROM   \n",
       "19          [Glow, 64]     4 GB RAM  & 64 GB ROM  & Expandable Upto 1 TB   \n",
       "20      [Steel, Black]                            8 GB RAM  & 128 GB ROM   \n",
       "21      [Space, Black]     4 GB RAM  & 64 GB ROM  & Expandable Upto 1 TB   \n",
       "22        [Orange, 64]                             4 GB RAM  & 64 GB ROM   \n",
       "23           [5G, Icy]    6 GB RAM  & 128 GB ROM  & Expandable Upto 1 TB   \n",
       "\n",
       "                                       Cameras  \\\n",
       "0          13MP Rear Camera & 5MP Front Camera   \n",
       "1         64MP + 8MP + 2MP & 16MP Front Camera   \n",
       "2          13MP Rear Camera & 5MP Front Camera   \n",
       "3    50MP + 8MP + 2MP + 2MP & 8MP Front Camera   \n",
       "4                             50MP Rear Camera   \n",
       "5                             50MP Rear Camera   \n",
       "6                             13MP Rear Camera   \n",
       "7                             13MP Rear Camera   \n",
       "8                             13MP Rear Camera   \n",
       "9                             13MP Rear Camera   \n",
       "10         16MP Rear Camera & 8MP Front Camera   \n",
       "11                            48MP Rear Camera   \n",
       "12                           108MP Rear Camera   \n",
       "13                           108MP Rear Camera   \n",
       "14                            50MP Rear Camera   \n",
       "15                           108MP Rear Camera   \n",
       "16                           0.3MP Rear Camera   \n",
       "17   50MP + 8MP + 2MP + 2MP & 8MP Front Camera   \n",
       "18                           108MP Rear Camera   \n",
       "19               13MP + 2MP & 8MP Front Camera   \n",
       "20        50MP + 8MP + 2MP & 16MP Front Camera   \n",
       "21  50MP + 8MP + 2MP + 2MP & 13MP Front Camera   \n",
       "22               13MP + 2MP & 5MP Front Camera   \n",
       "23       64MP + 12MP + 5MP & 32MP Front Camera   \n",
       "\n",
       "                                         Display  \\\n",
       "0               16.59 cm (6.53 inch) HD+ Display   \n",
       "1   16.36 cm (6.44 inch) Full HD+ AMOLED Display   \n",
       "2               16.59 cm (6.53 inch) HD+ Display   \n",
       "3            16.51 cm (6.5 inch) Full HD Display   \n",
       "4                   16.33 cm (6.43 inch) Display   \n",
       "5                   16.33 cm (6.43 inch) Display   \n",
       "6          16.59 cm (6.53 inch) Full HD+ Display   \n",
       "7          16.59 cm (6.53 inch) Full HD+ Display   \n",
       "8                   16.59 cm (6.53 inch) Display   \n",
       "9          16.59 cm (6.53 inch) Full HD+ Display   \n",
       "10              16.66 cm (6.56 inch) HD+ Display   \n",
       "11                   16.26 cm (6.4 inch) Display   \n",
       "12                  16.33 cm (6.43 inch) Display   \n",
       "13                  16.94 cm (6.67 inch) Display   \n",
       "14                  16.33 cm (6.43 inch) Display   \n",
       "15                  16.33 cm (6.43 inch) Display   \n",
       "16                    4.5 cm (1.77 inch) Display   \n",
       "17           16.51 cm (6.5 inch) Full HD Display   \n",
       "18                  16.94 cm (6.67 inch) Display   \n",
       "19              16.54 cm (6.51 inch) HD+ Display   \n",
       "20  16.81 cm (6.62 inch) Full HD+ AMOLED Display   \n",
       "21         16.33 cm (6.43 inch) Full HD+ Display   \n",
       "22              16.59 cm (6.53 inch) HD+ Display   \n",
       "23          17.02 cm (6.7 inch) Full HD+ Display   \n",
       "\n",
       "                         Battery    Price  \\\n",
       "0               5000 mAh Battery   ₹6,917   \n",
       "1       4700 mAh Lithium Battery  ₹23,999   \n",
       "2               5000 mAh Battery   ₹7,749   \n",
       "3               6000 mAh Battery  ₹14,780   \n",
       "4               5000 mAh Battery  ₹15,445   \n",
       "5               5000 mAh Battery  ₹15,979   \n",
       "6               5000 mAh Battery   ₹6,969   \n",
       "7               5000 mAh Battery   ₹7,189   \n",
       "8               5000 mAh Battery   ₹9,189   \n",
       "9               5000 mAh Battery   ₹6,989   \n",
       "10              5000 mAh Battery   ₹9,699   \n",
       "11              6000 mAh Battery  ₹11,562   \n",
       "12              5000 mAh Battery  ₹18,297   \n",
       "13              5000 mAh Battery  ₹21,216   \n",
       "14              5000 mAh Battery  ₹13,735   \n",
       "15              5000 mAh Battery  ₹17,699   \n",
       "16              1000 mAh Battery     ₹729   \n",
       "17              6000 mAh Battery  ₹12,217   \n",
       "18              5000 mAh Battery  ₹25,785   \n",
       "19      5000 mAh Lithium Battery  ₹13,499   \n",
       "20  5000 mAh Lithium Ion Battery  ₹34,999   \n",
       "21              5000 mAh Battery  ₹12,794   \n",
       "22              5000 mAh Battery  ₹10,890   \n",
       "23              5000 mAh Battery  ₹23,760   \n",
       "\n",
       "                                                  URL  \n",
       "0   https://www.flipkart.com/redmi-9a-sport-carbon...  \n",
       "1   https://www.flipkart.com/vivo-t1-pro-5g-turbo-...  \n",
       "2   https://www.flipkart.com/redmi-9a-sport-carbon...  \n",
       "3   https://www.flipkart.com/redmi-10-prime-astral...  \n",
       "4   https://www.flipkart.com/redmi-note-11-horizon...  \n",
       "5   https://www.flipkart.com/redmi-note-11-starbur...  \n",
       "6   https://www.flipkart.com/redmi-9a-nature-green...  \n",
       "7   https://www.flipkart.com/redmi-9a-seablue-32-g...  \n",
       "8   https://www.flipkart.com/redmi-10a-slate-grey-...  \n",
       "9   https://www.flipkart.com/redmi-9a-midnight-bla...  \n",
       "10  https://www.flipkart.com/tecno-spark-8-turquoi...  \n",
       "11  https://www.flipkart.com/samsung-m21-2021-arct...  \n",
       "12  https://www.flipkart.com/redmi-note-11s-horizo...  \n",
       "13  https://www.flipkart.com/redmi-note-11-pro-plu...  \n",
       "14  https://www.flipkart.com/redmi-note-11-space-b...  \n",
       "15  https://www.flipkart.com/redmi-note-11s-space-...  \n",
       "16  https://www.flipkart.com/i-kall-k3310/p/itmevt...  \n",
       "17  https://www.flipkart.com/redmi-10-prime-bifros...  \n",
       "18  https://www.flipkart.com/redmi-note-11-pro-plu...  \n",
       "19  https://www.flipkart.com/vivo-y21g-diamond-glo...  \n",
       "20  https://www.flipkart.com/realme-gt-2-steel-bla...  \n",
       "21  https://www.flipkart.com/redmi-note-11-space-b...  \n",
       "22  https://www.flipkart.com/redmi-9-sporty-orange...  \n",
       "23  https://www.flipkart.com/samsung-galaxy-m52-5g...  "
      ]
     },
     "execution_count": 23,
     "metadata": {},
     "output_type": "execute_result"
    }
   ],
   "source": [
    "Smartphone"
   ]
  },
  {
   "cell_type": "code",
   "execution_count": 24,
   "id": "0c46938e",
   "metadata": {},
   "outputs": [],
   "source": [
    "driver_4.close()"
   ]
  },
  {
   "cell_type": "markdown",
   "id": "92a113fe",
   "metadata": {},
   "source": [
    "# question5"
   ]
  },
  {
   "cell_type": "code",
   "execution_count": 25,
   "id": "97880bcd",
   "metadata": {},
   "outputs": [],
   "source": [
    "import selenium\n",
    "from selenium import webdriver\n",
    "import pandas as pd\n",
    "\n",
    "\n",
    "from bs4 import BeautifulSoup\n",
    "import requests\n",
    "\n",
    "import time\n",
    "\n",
    "from selenium.common.exceptions import StaleElementReferenceException\n",
    "from selenium.common.exceptions import NoSuchElementException\n",
    "from selenium.webdriver.support.ui import WebDriverWait\n",
    "\n",
    "import warnings\n",
    "warnings.filterwarnings(\"ignore\")"
   ]
  },
  {
   "cell_type": "code",
   "execution_count": 26,
   "id": "26c98f26",
   "metadata": {},
   "outputs": [],
   "source": [
    "driver5 = webdriver.Chrome(r\"C:\\Users\\reach\\chromedriver.exe\")\n",
    "time.sleep(5)"
   ]
  },
  {
   "cell_type": "code",
   "execution_count": 28,
   "id": "e38e32f8",
   "metadata": {},
   "outputs": [],
   "source": [
    "driver5.get('https://www.google.co.in/maps')\n",
    "driver5.maximize_window()"
   ]
  },
  {
   "cell_type": "code",
   "execution_count": 30,
   "id": "83fc3756",
   "metadata": {},
   "outputs": [
    {
     "name": "stdout",
     "output_type": "stream",
     "text": [
      "Enter your Search:delhi\n"
     ]
    }
   ],
   "source": [
    "search5 = driver5.find_element_by_id(\"searchboxinput\")\n",
    "search5.send_keys(input(\"Enter your Search:\"))"
   ]
  },
  {
   "cell_type": "code",
   "execution_count": 32,
   "id": "cf17be49",
   "metadata": {},
   "outputs": [],
   "source": [
    "search_btn5 = driver5.find_element_by_id (\"searchbox-searchbutton\")\n",
    "search_btn5.click()"
   ]
  },
  {
   "cell_type": "code",
   "execution_count": 33,
   "id": "1a584752",
   "metadata": {},
   "outputs": [],
   "source": [
    "import re"
   ]
  },
  {
   "cell_type": "code",
   "execution_count": 35,
   "id": "f1ccf16f",
   "metadata": {},
   "outputs": [
    {
     "name": "stdout",
     "output_type": "stream",
     "text": [
      "Extracted URL :  https://www.google.co.in/maps/place/%D8%AF%D9%84%D9%87%D9%8A%D8%8C+%D8%A7%D9%84%D9%87%D9%86%D8%AF%E2%80%AD/@28.6466773,77.3734578,10z/data=!3m1!4b1!4m5!3m4!1s0x390cfd5b347eb62d:0x37205b715389640!8m2!3d28.7040592!4d77.1024902\n",
      "Latitude = 28.6466773, Longitude = 77.3734578\n"
     ]
    }
   ],
   "source": [
    "try:\n",
    "    url_5 = driver5.current_url\n",
    "    print(\"Extracted URL : \", url_5)\n",
    "    latitude_longitude = re.findall(r'@(.*)data',url_5)\n",
    "    if len(latitude_longitude):\n",
    "        lat_lng_list = latitude_longitude[0].split(\",\")\n",
    "        if len(lat_lng_list)>=2:\n",
    "            latitude = lat_lng_list[0]\n",
    "            longitude = lat_lng_list[1]\n",
    "        print(\"Latitude = {}, Longitude = {}\".format(latitude, longitude))\n",
    "\n",
    "except Exception as e:\n",
    "        print(\"Error: \", str(e))"
   ]
  },
  {
   "cell_type": "code",
   "execution_count": 36,
   "id": "f6016b11",
   "metadata": {},
   "outputs": [],
   "source": [
    "driver5.close()"
   ]
  },
  {
   "cell_type": "markdown",
   "id": "35100ca3",
   "metadata": {},
   "source": [
    "# question7"
   ]
  },
  {
   "cell_type": "code",
   "execution_count": 37,
   "id": "7a9a5291",
   "metadata": {},
   "outputs": [],
   "source": [
    "import selenium\n",
    "from selenium import webdriver\n",
    "import pandas as pd\n",
    "\n",
    "\n",
    "from bs4 import BeautifulSoup\n",
    "import requests\n",
    "\n",
    "import time\n",
    "\n",
    "from selenium.common.exceptions import StaleElementReferenceException\n",
    "from selenium.common.exceptions import NoSuchElementException\n",
    "from selenium.webdriver.support.ui import WebDriverWait\n",
    "\n",
    "import warnings\n",
    "warnings.filterwarnings(\"ignore\")"
   ]
  },
  {
   "cell_type": "code",
   "execution_count": 38,
   "id": "e1cfae6b",
   "metadata": {},
   "outputs": [],
   "source": [
    "driver7 = webdriver.Chrome(r\"C:\\Users\\reach\\chromedriver.exe\")\n",
    "time.sleep(5)"
   ]
  },
  {
   "cell_type": "code",
   "execution_count": 39,
   "id": "9599c674",
   "metadata": {},
   "outputs": [],
   "source": [
    "driver7.get('https://www.digit.in/')\n",
    "driver7.maximize_window()"
   ]
  },
  {
   "cell_type": "code",
   "execution_count": 40,
   "id": "df6fcb77",
   "metadata": {},
   "outputs": [],
   "source": [
    "g_btn=driver7.find_element_by_xpath(\"/html/body/div[1]/div/div[4]/ul/li[3]/a\")\n",
    "g_btn.click()\n",
    "time.sleep(3)"
   ]
  },
  {
   "cell_type": "code",
   "execution_count": 41,
   "id": "bc893577",
   "metadata": {},
   "outputs": [],
   "source": [
    "g_btn1=driver7.find_element_by_xpath(\"/html/body/div[6]/div/div[2]/div[2]/ul/li[10]/a\")\n",
    "g_btn1.click()\n",
    "time.sleep(3)"
   ]
  },
  {
   "cell_type": "code",
   "execution_count": 42,
   "id": "41c18792",
   "metadata": {},
   "outputs": [],
   "source": [
    "url7=\"https://www.digit.in/top-products/best-gaming-laptops-40.html\"\n",
    "driver7.get(url7)"
   ]
  },
  {
   "cell_type": "code",
   "execution_count": 52,
   "id": "20e62771",
   "metadata": {},
   "outputs": [
    {
     "data": {
      "text/plain": [
       "[<selenium.webdriver.remote.webelement.WebElement (session=\"cb80bca5d422c6a225d450222644e74a\", element=\"bc15c37e-fc21-4e8a-b93a-ea8f8c6ef5fa\")>]"
      ]
     },
     "execution_count": 52,
     "metadata": {},
     "output_type": "execute_result"
    }
   ],
   "source": [
    "title_tags = driver7.find_elements_by_xpath(\"/html/body/div[5]/div[1]/div[2]/h1\")\n",
    "title_tags"
   ]
  },
  {
   "cell_type": "code",
   "execution_count": 57,
   "id": "a193c18c",
   "metadata": {},
   "outputs": [
    {
     "data": {
      "text/plain": [
       "<selenium.webdriver.remote.webelement.WebElement (session=\"cb80bca5d422c6a225d450222644e74a\", element=\"6c62cab8-d7c5-44c9-9e12-da9b0aa383c2\")>"
      ]
     },
     "execution_count": 57,
     "metadata": {},
     "output_type": "execute_result"
    }
   ],
   "source": [
    "title_tags1 = driver7.find_element_by_xpath(\"/html/body/div[5]/div[1]/div[3]/table/thead/tr/th[1]\")\n",
    "title_tags1"
   ]
  },
  {
   "cell_type": "code",
   "execution_count": 58,
   "id": "d19e91ff",
   "metadata": {},
   "outputs": [],
   "source": [
    "title_tags.insert(1,title_tags1)"
   ]
  },
  {
   "cell_type": "code",
   "execution_count": 59,
   "id": "c7f7405d",
   "metadata": {},
   "outputs": [],
   "source": [
    "Titles=[]\n",
    "for i in title_tags:\n",
    "    title=i.text.replace('\\n',' ')\n",
    "    Titles.append(title)"
   ]
  },
  {
   "cell_type": "code",
   "execution_count": 60,
   "id": "dc539418",
   "metadata": {},
   "outputs": [
    {
     "data": {
      "text/plain": [
       "['Best Gaming Laptops in India (2022)', 'PRODUCT NAME', 'MSI Raider GE76']"
      ]
     },
     "execution_count": 60,
     "metadata": {},
     "output_type": "execute_result"
    }
   ],
   "source": [
    "Titles"
   ]
  },
  {
   "cell_type": "code",
   "execution_count": 61,
   "id": "7d319868",
   "metadata": {},
   "outputs": [],
   "source": [
    "Details=[]\n",
    "try:\n",
    "    d_tags = driver7.find_elements_by_xpath(\"//div[@class='value']\")\n",
    "    for i in d_tags:\n",
    "        Details.append(i.text.replace(\"\\n\",\"\"))\n",
    "except NoSuchElementException:\n",
    "    pass"
   ]
  },
  {
   "cell_type": "code",
   "execution_count": 62,
   "id": "4f64245d",
   "metadata": {},
   "outputs": [
    {
     "data": {
      "text/plain": [
       "['WINDOWS 11 HOME',\n",
       " '17\" (3840 X 2160)',\n",
       " '12TH GEN INTEL CORE I9-12900HK | 5 GHZ',\n",
       " '2 TB SSD/16 GBGB DDR5',\n",
       " 'WINDOWS 11 HOME',\n",
       " '15.6\" (2560 X 1440)',\n",
       " '12TH GEN INTEL CORE I9-12900H | 2.5 GHZ',\n",
       " '2 TB SSD/32 GBGB DDR5',\n",
       " 'WINDOWS 10',\n",
       " '15.6\" (1920 X 1080)',\n",
       " 'AMD RYZEN 9 OCTA CORE | 2.4 GHZ',\n",
       " '1 TB HDD/16 GBGB DDR4',\n",
       " 'WINDOWS 10',\n",
       " '15.6\" (1920 X 1080)',\n",
       " 'INTEL CORE I7 11TH GEN - 11375H | NA',\n",
       " '1 TB SSD/16 GBGB DDR4',\n",
       " 'WINDOWS 10',\n",
       " '15.6\" (2560 X 1440)',\n",
       " 'AMD RYZEN 9 OCTA CORE - 5900HX | 3.3 GHZ',\n",
       " '2 TB SSD/32 GBGB DDR4',\n",
       " 'WINDOWS 10 HOME',\n",
       " '15.6\" (1920 X 1080)',\n",
       " 'AMD RYZEN™ 9 5900HX | 3.3 GHZ',\n",
       " '1 TB SSD/16 GBGB DDR4',\n",
       " 'WINDOWS 10 HOME',\n",
       " '14\" (1920 X 1080)',\n",
       " 'AMD 3RD GEN RYZEN 9 | 3.3 GHZ',\n",
       " '1 TB SSD/16 GBGB DDR4',\n",
       " 'WINDOWS 11 HOME',\n",
       " '16.1\" (1920 X 1080)',\n",
       " '12TH GEN INTEL CORE I7-12700H | 4.7 GHZ',\n",
       " '1 TB SSD/16 GBGB DDR4',\n",
       " 'WINDOWS 10',\n",
       " '15.6\" (3840 X 1100)',\n",
       " 'INTEL CORE I7 10TH GEN 10875H | NA',\n",
       " '512 GB SSD/4 GBGB DDR4',\n",
       " 'WINDOWS 10 HOME',\n",
       " '15.6\" (1920 X 1080)',\n",
       " 'AMD RYZEN™ 5-5500U HEXA-CORE | NA',\n",
       " '512 GB SSD/8 GBGB DDR4']"
      ]
     },
     "execution_count": 62,
     "metadata": {},
     "output_type": "execute_result"
    }
   ],
   "source": [
    "Details"
   ]
  },
  {
   "cell_type": "code",
   "execution_count": 63,
   "id": "5b7e7db8",
   "metadata": {},
   "outputs": [
    {
     "data": {
      "text/plain": [
       "['WINDOWS 11 HOME',\n",
       " 'WINDOWS 11 HOME',\n",
       " 'WINDOWS 10',\n",
       " 'WINDOWS 10',\n",
       " 'WINDOWS 10',\n",
       " 'WINDOWS 10 HOME',\n",
       " 'WINDOWS 10 HOME',\n",
       " 'WINDOWS 11 HOME',\n",
       " 'WINDOWS 10',\n",
       " 'WINDOWS 10 HOME']"
      ]
     },
     "execution_count": 63,
     "metadata": {},
     "output_type": "execute_result"
    }
   ],
   "source": [
    "op_sys = Details[0::4]\n",
    "op_sys"
   ]
  },
  {
   "cell_type": "code",
   "execution_count": 64,
   "id": "0262f400",
   "metadata": {},
   "outputs": [
    {
     "data": {
      "text/plain": [
       "['17\" (3840 X 2160)',\n",
       " '15.6\" (2560 X 1440)',\n",
       " '15.6\" (1920 X 1080)',\n",
       " '15.6\" (1920 X 1080)',\n",
       " '15.6\" (2560 X 1440)',\n",
       " '15.6\" (1920 X 1080)',\n",
       " '14\" (1920 X 1080)',\n",
       " '16.1\" (1920 X 1080)',\n",
       " '15.6\" (3840 X 1100)',\n",
       " '15.6\" (1920 X 1080)']"
      ]
     },
     "execution_count": 64,
     "metadata": {},
     "output_type": "execute_result"
    }
   ],
   "source": [
    "disp = Details[1::4]\n",
    "disp"
   ]
  },
  {
   "cell_type": "code",
   "execution_count": 65,
   "id": "dee86e69",
   "metadata": {},
   "outputs": [
    {
     "data": {
      "text/plain": [
       "['12TH GEN INTEL CORE I9-12900HK | 5 GHZ',\n",
       " '12TH GEN INTEL CORE I9-12900H | 2.5 GHZ',\n",
       " 'AMD RYZEN 9 OCTA CORE | 2.4 GHZ',\n",
       " 'INTEL CORE I7 11TH GEN - 11375H | NA',\n",
       " 'AMD RYZEN 9 OCTA CORE - 5900HX | 3.3 GHZ',\n",
       " 'AMD RYZEN™ 9 5900HX | 3.3 GHZ',\n",
       " 'AMD 3RD GEN RYZEN 9 | 3.3 GHZ',\n",
       " '12TH GEN INTEL CORE I7-12700H | 4.7 GHZ',\n",
       " 'INTEL CORE I7 10TH GEN 10875H | NA',\n",
       " 'AMD RYZEN™ 5-5500U HEXA-CORE | NA']"
      ]
     },
     "execution_count": 65,
     "metadata": {},
     "output_type": "execute_result"
    }
   ],
   "source": [
    "proc=Details[2::4]\n",
    "proc"
   ]
  },
  {
   "cell_type": "code",
   "execution_count": 66,
   "id": "5c41964d",
   "metadata": {},
   "outputs": [
    {
     "data": {
      "text/plain": [
       "['2 TB SSD/16 GBGB DDR5',\n",
       " '2 TB SSD/32 GBGB DDR5',\n",
       " '1 TB HDD/16 GBGB DDR4',\n",
       " '1 TB SSD/16 GBGB DDR4',\n",
       " '2 TB SSD/32 GBGB DDR4',\n",
       " '1 TB SSD/16 GBGB DDR4',\n",
       " '1 TB SSD/16 GBGB DDR4',\n",
       " '1 TB SSD/16 GBGB DDR4',\n",
       " '512 GB SSD/4 GBGB DDR4',\n",
       " '512 GB SSD/8 GBGB DDR4']"
      ]
     },
     "execution_count": 66,
     "metadata": {},
     "output_type": "execute_result"
    }
   ],
   "source": [
    "mem = Details[3::4]\n",
    "mem"
   ]
  },
  {
   "cell_type": "code",
   "execution_count": 68,
   "id": "dc6c6b70",
   "metadata": {},
   "outputs": [],
   "source": [
    "img=driver7.find_elements_by_xpath(\"//div[@class='product-ickon']/img\")\n",
    "img_url=[]\n",
    "for i in img:\n",
    "    img_url.append(i.get_attribute('src'))\n"
   ]
  },
  {
   "cell_type": "code",
   "execution_count": 69,
   "id": "85bbba85",
   "metadata": {},
   "outputs": [
    {
     "data": {
      "text/plain": [
       "['https://static.digit.in/product/thumb_239085_product_td_300.jpeg',\n",
       " 'https://static.digit.in/product/thumb_238417_product_td_300.jpeg',\n",
       " 'https://static.digit.in/product/thumb_200018_product_td_300.jpeg',\n",
       " 'https://static.digit.in/product/thumb_200026_product_td_300.jpeg',\n",
       " 'https://static.digit.in/product/thumb_200030_product_td_300.jpeg',\n",
       " 'https://static.digit.in/product/thumb_184803_product_td_300.jpeg',\n",
       " 'https://static.digit.in/product/thumb_166465_product_td_300.jpeg',\n",
       " 'https://static.digit.in/product/thumb_240230_product_td_300.jpeg',\n",
       " 'https://static.digit.in/product/thumb_173654_product_td_300.jpeg',\n",
       " 'https://static.digit.in/product/thumb_182700_product_td_300.jpeg']"
      ]
     },
     "execution_count": 69,
     "metadata": {},
     "output_type": "execute_result"
    }
   ],
   "source": [
    "img_url"
   ]
  },
  {
   "cell_type": "code",
   "execution_count": 70,
   "id": "f4b93807",
   "metadata": {},
   "outputs": [
    {
     "data": {
      "text/plain": [
       "['₹ 429,940',\n",
       " '₹ 71,656/MONTH',\n",
       " '₹ 285,390',\n",
       " '₹ 47,565/MONTH',\n",
       " '₹ 129,990',\n",
       " '₹ 21,665/MONTH',\n",
       " '₹ 134,990',\n",
       " '₹ 22,498/MONTH',\n",
       " '₹ 268,990',\n",
       " '₹ 193,990',\n",
       " '₹ 32,331/MONTH',\n",
       " '₹ 215,990',\n",
       " '₹ 35,998/MONTH',\n",
       " '₹ 164,990',\n",
       " '₹ 144,990',\n",
       " '₹ 24,165/MONTH',\n",
       " '₹ 139,990',\n",
       " '₹ 145,999',\n",
       " '₹ 23,331/MONTH',\n",
       " '₹ 185,000',\n",
       " '₹ 30,833/MONTH',\n",
       " '₹ 53,490',\n",
       " '₹ 8,915/MONTH']"
      ]
     },
     "execution_count": 70,
     "metadata": {},
     "output_type": "execute_result"
    }
   ],
   "source": [
    "pri=driver7.find_elements_by_xpath(\"//div[@class='merchantdatalist1 merchantdatalist2']/a/table/tbody/tr/td[3]\")\n",
    "Price=[]\n",
    "for i in pri:\n",
    "    Price.append(i.text.replace('\\n',''))\n",
    "Price\n"
   ]
  },
  {
   "cell_type": "code",
   "execution_count": 71,
   "id": "541199e4",
   "metadata": {},
   "outputs": [],
   "source": [
    "Price.remove(\"₹ 193,990\")\n",
    "Price.remove(\"₹ 144,990\")\n",
    "Price.remove(\"₹ 145,999\")"
   ]
  },
  {
   "cell_type": "code",
   "execution_count": 72,
   "id": "391db22f",
   "metadata": {},
   "outputs": [],
   "source": [
    "Prices=Price[0::2]"
   ]
  },
  {
   "cell_type": "code",
   "execution_count": 73,
   "id": "88159a30",
   "metadata": {},
   "outputs": [],
   "source": [
    "EMI=Price[1::2]"
   ]
  },
  {
   "cell_type": "code",
   "execution_count": 79,
   "id": "d3c32c5d",
   "metadata": {},
   "outputs": [
    {
     "data": {
      "text/plain": [
       "(10, 10, 10, 10, 10, 10, 10)"
      ]
     },
     "execution_count": 79,
     "metadata": {},
     "output_type": "execute_result"
    }
   ],
   "source": [
    "len(op_sys),len(disp),len(proc),len(mem),len(img_url),len(Prices),len(EMI)"
   ]
  },
  {
   "cell_type": "code",
   "execution_count": 80,
   "id": "7f42718a",
   "metadata": {},
   "outputs": [],
   "source": [
    "Gaming_Laptop=pd.DataFrame({})\n",
    "Gaming_Laptop['Operating system'] = op_sys\n",
    "Gaming_Laptop['Display'] = disp\n",
    "Gaming_Laptop['Processor'] = proc\n",
    "Gaming_Laptop['Memory'] = mem\n",
    "Gaming_Laptop['Image URL'] = img_url\n",
    "Gaming_Laptop['Price'] = Prices\n",
    "Gaming_Laptop['EMI'] = EMI"
   ]
  },
  {
   "cell_type": "code",
   "execution_count": 81,
   "id": "d8845488",
   "metadata": {},
   "outputs": [
    {
     "data": {
      "text/html": [
       "<div>\n",
       "<style scoped>\n",
       "    .dataframe tbody tr th:only-of-type {\n",
       "        vertical-align: middle;\n",
       "    }\n",
       "\n",
       "    .dataframe tbody tr th {\n",
       "        vertical-align: top;\n",
       "    }\n",
       "\n",
       "    .dataframe thead th {\n",
       "        text-align: right;\n",
       "    }\n",
       "</style>\n",
       "<table border=\"1\" class=\"dataframe\">\n",
       "  <thead>\n",
       "    <tr style=\"text-align: right;\">\n",
       "      <th></th>\n",
       "      <th>Operating system</th>\n",
       "      <th>Display</th>\n",
       "      <th>Processor</th>\n",
       "      <th>Memory</th>\n",
       "      <th>Image URL</th>\n",
       "      <th>Price</th>\n",
       "      <th>EMI</th>\n",
       "    </tr>\n",
       "  </thead>\n",
       "  <tbody>\n",
       "    <tr>\n",
       "      <th>0</th>\n",
       "      <td>WINDOWS 11 HOME</td>\n",
       "      <td>17\" (3840 X 2160)</td>\n",
       "      <td>12TH GEN INTEL CORE I9-12900HK | 5 GHZ</td>\n",
       "      <td>2 TB SSD/16 GBGB DDR5</td>\n",
       "      <td>https://static.digit.in/product/thumb_239085_p...</td>\n",
       "      <td>₹ 429,940</td>\n",
       "      <td>₹ 71,656/MONTH</td>\n",
       "    </tr>\n",
       "    <tr>\n",
       "      <th>1</th>\n",
       "      <td>WINDOWS 11 HOME</td>\n",
       "      <td>15.6\" (2560 X 1440)</td>\n",
       "      <td>12TH GEN INTEL CORE I9-12900H | 2.5 GHZ</td>\n",
       "      <td>2 TB SSD/32 GBGB DDR5</td>\n",
       "      <td>https://static.digit.in/product/thumb_238417_p...</td>\n",
       "      <td>₹ 285,390</td>\n",
       "      <td>₹ 47,565/MONTH</td>\n",
       "    </tr>\n",
       "    <tr>\n",
       "      <th>2</th>\n",
       "      <td>WINDOWS 10</td>\n",
       "      <td>15.6\" (1920 X 1080)</td>\n",
       "      <td>AMD RYZEN 9 OCTA CORE | 2.4 GHZ</td>\n",
       "      <td>1 TB HDD/16 GBGB DDR4</td>\n",
       "      <td>https://static.digit.in/product/thumb_200018_p...</td>\n",
       "      <td>₹ 129,990</td>\n",
       "      <td>₹ 21,665/MONTH</td>\n",
       "    </tr>\n",
       "    <tr>\n",
       "      <th>3</th>\n",
       "      <td>WINDOWS 10</td>\n",
       "      <td>15.6\" (1920 X 1080)</td>\n",
       "      <td>INTEL CORE I7 11TH GEN - 11375H | NA</td>\n",
       "      <td>1 TB SSD/16 GBGB DDR4</td>\n",
       "      <td>https://static.digit.in/product/thumb_200026_p...</td>\n",
       "      <td>₹ 134,990</td>\n",
       "      <td>₹ 22,498/MONTH</td>\n",
       "    </tr>\n",
       "    <tr>\n",
       "      <th>4</th>\n",
       "      <td>WINDOWS 10</td>\n",
       "      <td>15.6\" (2560 X 1440)</td>\n",
       "      <td>AMD RYZEN 9 OCTA CORE - 5900HX | 3.3 GHZ</td>\n",
       "      <td>2 TB SSD/32 GBGB DDR4</td>\n",
       "      <td>https://static.digit.in/product/thumb_200030_p...</td>\n",
       "      <td>₹ 268,990</td>\n",
       "      <td>₹ 32,331/MONTH</td>\n",
       "    </tr>\n",
       "    <tr>\n",
       "      <th>5</th>\n",
       "      <td>WINDOWS 10 HOME</td>\n",
       "      <td>15.6\" (1920 X 1080)</td>\n",
       "      <td>AMD RYZEN™ 9 5900HX | 3.3 GHZ</td>\n",
       "      <td>1 TB SSD/16 GBGB DDR4</td>\n",
       "      <td>https://static.digit.in/product/thumb_184803_p...</td>\n",
       "      <td>₹ 215,990</td>\n",
       "      <td>₹ 35,998/MONTH</td>\n",
       "    </tr>\n",
       "    <tr>\n",
       "      <th>6</th>\n",
       "      <td>WINDOWS 10 HOME</td>\n",
       "      <td>14\" (1920 X 1080)</td>\n",
       "      <td>AMD 3RD GEN RYZEN 9 | 3.3 GHZ</td>\n",
       "      <td>1 TB SSD/16 GBGB DDR4</td>\n",
       "      <td>https://static.digit.in/product/thumb_166465_p...</td>\n",
       "      <td>₹ 164,990</td>\n",
       "      <td>₹ 24,165/MONTH</td>\n",
       "    </tr>\n",
       "    <tr>\n",
       "      <th>7</th>\n",
       "      <td>WINDOWS 11 HOME</td>\n",
       "      <td>16.1\" (1920 X 1080)</td>\n",
       "      <td>12TH GEN INTEL CORE I7-12700H | 4.7 GHZ</td>\n",
       "      <td>1 TB SSD/16 GBGB DDR4</td>\n",
       "      <td>https://static.digit.in/product/thumb_240230_p...</td>\n",
       "      <td>₹ 139,990</td>\n",
       "      <td>₹ 23,331/MONTH</td>\n",
       "    </tr>\n",
       "    <tr>\n",
       "      <th>8</th>\n",
       "      <td>WINDOWS 10</td>\n",
       "      <td>15.6\" (3840 X 1100)</td>\n",
       "      <td>INTEL CORE I7 10TH GEN 10875H | NA</td>\n",
       "      <td>512 GB SSD/4 GBGB DDR4</td>\n",
       "      <td>https://static.digit.in/product/thumb_173654_p...</td>\n",
       "      <td>₹ 185,000</td>\n",
       "      <td>₹ 30,833/MONTH</td>\n",
       "    </tr>\n",
       "    <tr>\n",
       "      <th>9</th>\n",
       "      <td>WINDOWS 10 HOME</td>\n",
       "      <td>15.6\" (1920 X 1080)</td>\n",
       "      <td>AMD RYZEN™ 5-5500U HEXA-CORE | NA</td>\n",
       "      <td>512 GB SSD/8 GBGB DDR4</td>\n",
       "      <td>https://static.digit.in/product/thumb_182700_p...</td>\n",
       "      <td>₹ 53,490</td>\n",
       "      <td>₹ 8,915/MONTH</td>\n",
       "    </tr>\n",
       "  </tbody>\n",
       "</table>\n",
       "</div>"
      ],
      "text/plain": [
       "  Operating system              Display  \\\n",
       "0  WINDOWS 11 HOME    17\" (3840 X 2160)   \n",
       "1  WINDOWS 11 HOME  15.6\" (2560 X 1440)   \n",
       "2       WINDOWS 10  15.6\" (1920 X 1080)   \n",
       "3       WINDOWS 10  15.6\" (1920 X 1080)   \n",
       "4       WINDOWS 10  15.6\" (2560 X 1440)   \n",
       "5  WINDOWS 10 HOME  15.6\" (1920 X 1080)   \n",
       "6  WINDOWS 10 HOME    14\" (1920 X 1080)   \n",
       "7  WINDOWS 11 HOME  16.1\" (1920 X 1080)   \n",
       "8       WINDOWS 10  15.6\" (3840 X 1100)   \n",
       "9  WINDOWS 10 HOME  15.6\" (1920 X 1080)   \n",
       "\n",
       "                                  Processor                  Memory  \\\n",
       "0    12TH GEN INTEL CORE I9-12900HK | 5 GHZ   2 TB SSD/16 GBGB DDR5   \n",
       "1   12TH GEN INTEL CORE I9-12900H | 2.5 GHZ   2 TB SSD/32 GBGB DDR5   \n",
       "2           AMD RYZEN 9 OCTA CORE | 2.4 GHZ   1 TB HDD/16 GBGB DDR4   \n",
       "3      INTEL CORE I7 11TH GEN - 11375H | NA   1 TB SSD/16 GBGB DDR4   \n",
       "4  AMD RYZEN 9 OCTA CORE - 5900HX | 3.3 GHZ   2 TB SSD/32 GBGB DDR4   \n",
       "5             AMD RYZEN™ 9 5900HX | 3.3 GHZ   1 TB SSD/16 GBGB DDR4   \n",
       "6             AMD 3RD GEN RYZEN 9 | 3.3 GHZ   1 TB SSD/16 GBGB DDR4   \n",
       "7   12TH GEN INTEL CORE I7-12700H | 4.7 GHZ   1 TB SSD/16 GBGB DDR4   \n",
       "8        INTEL CORE I7 10TH GEN 10875H | NA  512 GB SSD/4 GBGB DDR4   \n",
       "9         AMD RYZEN™ 5-5500U HEXA-CORE | NA  512 GB SSD/8 GBGB DDR4   \n",
       "\n",
       "                                           Image URL      Price  \\\n",
       "0  https://static.digit.in/product/thumb_239085_p...  ₹ 429,940   \n",
       "1  https://static.digit.in/product/thumb_238417_p...  ₹ 285,390   \n",
       "2  https://static.digit.in/product/thumb_200018_p...  ₹ 129,990   \n",
       "3  https://static.digit.in/product/thumb_200026_p...  ₹ 134,990   \n",
       "4  https://static.digit.in/product/thumb_200030_p...  ₹ 268,990   \n",
       "5  https://static.digit.in/product/thumb_184803_p...  ₹ 215,990   \n",
       "6  https://static.digit.in/product/thumb_166465_p...  ₹ 164,990   \n",
       "7  https://static.digit.in/product/thumb_240230_p...  ₹ 139,990   \n",
       "8  https://static.digit.in/product/thumb_173654_p...  ₹ 185,000   \n",
       "9  https://static.digit.in/product/thumb_182700_p...   ₹ 53,490   \n",
       "\n",
       "              EMI  \n",
       "0  ₹ 71,656/MONTH  \n",
       "1  ₹ 47,565/MONTH  \n",
       "2  ₹ 21,665/MONTH  \n",
       "3  ₹ 22,498/MONTH  \n",
       "4  ₹ 32,331/MONTH  \n",
       "5  ₹ 35,998/MONTH  \n",
       "6  ₹ 24,165/MONTH  \n",
       "7  ₹ 23,331/MONTH  \n",
       "8  ₹ 30,833/MONTH  \n",
       "9   ₹ 8,915/MONTH  "
      ]
     },
     "execution_count": 81,
     "metadata": {},
     "output_type": "execute_result"
    }
   ],
   "source": [
    "Gaming_Laptop"
   ]
  },
  {
   "cell_type": "code",
   "execution_count": 82,
   "id": "8082ab43",
   "metadata": {},
   "outputs": [],
   "source": [
    "driver7.close()"
   ]
  },
  {
   "cell_type": "markdown",
   "id": "ab35e439",
   "metadata": {},
   "source": [
    "# question9"
   ]
  },
  {
   "cell_type": "code",
   "execution_count": 84,
   "id": "63887c41",
   "metadata": {},
   "outputs": [],
   "source": [
    "import selenium\n",
    "from selenium import webdriver\n",
    "import pandas as pd\n",
    "\n",
    "\n",
    "from bs4 import BeautifulSoup\n",
    "import requests\n",
    "\n",
    "import time\n",
    "\n",
    "from selenium.common.exceptions import StaleElementReferenceException\n",
    "from selenium.common.exceptions import NoSuchElementException\n",
    "from selenium.webdriver.support.ui import WebDriverWait\n",
    "\n",
    "import warnings\n",
    "warnings.filterwarnings(\"ignore\")"
   ]
  },
  {
   "cell_type": "code",
   "execution_count": 85,
   "id": "51f3b426",
   "metadata": {},
   "outputs": [],
   "source": [
    "driver9 = webdriver.Chrome(r\"C:\\Users\\reach\\chromedriver.exe\")\n",
    "time.sleep(5)"
   ]
  },
  {
   "cell_type": "code",
   "execution_count": 86,
   "id": "2c246bf5",
   "metadata": {},
   "outputs": [],
   "source": [
    "driver9.get('https://www.youtube.com/')\n",
    "driver9.maximize_window()"
   ]
  },
  {
   "cell_type": "code",
   "execution_count": 87,
   "id": "ceb04f3d",
   "metadata": {},
   "outputs": [],
   "source": [
    "search_bar = driver9.find_element_by_xpath('/html/body/ytd-app/div[1]/div/ytd-masthead/div[3]/div[2]/ytd-searchbox/form/div[1]/div[1]/input')\n",
    "search_bar.send_keys(\"modern family\")  # entering video name\n",
    "time.sleep(1)"
   ]
  },
  {
   "cell_type": "code",
   "execution_count": 100,
   "id": "268809d6",
   "metadata": {},
   "outputs": [],
   "source": [
    "search_btn=driver9.find_element_by_xpath(\"/html/body/ytd-app/div[1]/div/ytd-masthead/div[3]/div[2]/ytd-searchbox/button/yt-icon\")\n",
    "search_btn.click()"
   ]
  },
  {
   "cell_type": "code",
   "execution_count": 101,
   "id": "43ea6968",
   "metadata": {},
   "outputs": [],
   "source": [
    "search_vid=driver9.find_element_by_xpath(\"/html/body/ytd-app/div[1]/ytd-page-manager/ytd-search/div[1]/ytd-two-column-search-results-renderer/div/ytd-section-list-renderer/div[2]/ytd-item-section-renderer/div[3]/ytd-video-renderer[1]/div[1]/div/div[1]/div/h3/a/yt-formatted-string\")\n",
    "search_vid.click()"
   ]
  },
  {
   "cell_type": "code",
   "execution_count": 102,
   "id": "8d673ddb",
   "metadata": {},
   "outputs": [],
   "source": [
    "for _ in range(1000):\n",
    "    driver9.execute_script(\"window.scrollBy(0,10000)\")"
   ]
  },
  {
   "cell_type": "code",
   "execution_count": 106,
   "id": "e58f605c",
   "metadata": {},
   "outputs": [
    {
     "data": {
      "text/plain": [
       "1"
      ]
     },
     "execution_count": 106,
     "metadata": {},
     "output_type": "execute_result"
    }
   ],
   "source": [
    "Comments = driver9.find_elements_by_xpath(\"/html/body/ytd-app/div[1]/ytd-page-manager/ytd-watch-flexy/div[5]/div[1]/div/div[8]/div[1]/div[2]/ytd-video-primary-info-renderer/div/h1/yt-formatted-string\")\n",
    "len(Comments)"
   ]
  },
  {
   "cell_type": "code",
   "execution_count": 107,
   "id": "20640f05",
   "metadata": {},
   "outputs": [],
   "source": [
    "Comment = []\n",
    "for i in Comments:\n",
    "    Comment.append(i.text.replace('\\n',''))"
   ]
  },
  {
   "cell_type": "code",
   "execution_count": 108,
   "id": "de9ffefc",
   "metadata": {},
   "outputs": [
    {
     "data": {
      "text/plain": [
       "[\"modern family but it's everytime i exhale through my nose\"]"
      ]
     },
     "execution_count": 108,
     "metadata": {},
     "output_type": "execute_result"
    }
   ],
   "source": [
    "Comment"
   ]
  },
  {
   "cell_type": "code",
   "execution_count": 109,
   "id": "0ff578c2",
   "metadata": {},
   "outputs": [
    {
     "data": {
      "text/plain": [
       "0"
      ]
     },
     "execution_count": 109,
     "metadata": {},
     "output_type": "execute_result"
    }
   ],
   "source": [
    "upvote = driver9.find_elements_by_id(\"vote-count-middle\")\n",
    "time.sleep(2)\n",
    "len(upvote)"
   ]
  },
  {
   "cell_type": "code",
   "execution_count": 110,
   "id": "0a108f19",
   "metadata": {},
   "outputs": [],
   "source": [
    "Comment_Upvotes = []\n",
    "for i in upvote:\n",
    "    Comment_Upvotes.append(i.text.replace('\\n',''))"
   ]
  },
  {
   "cell_type": "code",
   "execution_count": 111,
   "id": "29a25c4b",
   "metadata": {},
   "outputs": [
    {
     "data": {
      "text/plain": [
       "[]"
      ]
     },
     "execution_count": 111,
     "metadata": {},
     "output_type": "execute_result"
    }
   ],
   "source": [
    "Comment_Upvotes"
   ]
  },
  {
   "cell_type": "code",
   "execution_count": 112,
   "id": "75f91038",
   "metadata": {},
   "outputs": [],
   "source": [
    "driver9.close()"
   ]
  },
  {
   "cell_type": "markdown",
   "id": "ff1b12cf",
   "metadata": {},
   "source": [
    "# question 10"
   ]
  },
  {
   "cell_type": "code",
   "execution_count": 113,
   "id": "9bf38f0f",
   "metadata": {},
   "outputs": [],
   "source": [
    "import selenium\n",
    "from selenium import webdriver\n",
    "import pandas as pd\n",
    "\n",
    "\n",
    "from bs4 import BeautifulSoup\n",
    "import requests\n",
    "\n",
    "import time\n",
    "\n",
    "from selenium.common.exceptions import StaleElementReferenceException\n",
    "from selenium.common.exceptions import NoSuchElementException\n",
    "from selenium.webdriver.support.ui import WebDriverWait\n",
    "\n",
    "import warnings\n",
    "warnings.filterwarnings(\"ignore\")"
   ]
  },
  {
   "cell_type": "code",
   "execution_count": 114,
   "id": "704fd2b2",
   "metadata": {},
   "outputs": [],
   "source": [
    "driver10 = webdriver.Chrome(r\"C:\\Users\\reach\\chromedriver.exe\")\n",
    "time.sleep(5)"
   ]
  },
  {
   "cell_type": "code",
   "execution_count": 115,
   "id": "2b8ea3e9",
   "metadata": {},
   "outputs": [],
   "source": [
    "driver10.get('https://www.hostelworld.com/')\n",
    "driver10.maximize_window()"
   ]
  },
  {
   "cell_type": "code",
   "execution_count": 118,
   "id": "27deb790",
   "metadata": {},
   "outputs": [],
   "source": [
    "search_loc = driver10.find_element_by_xpath('/html/body/div[3]/div/div/div[1]/div[1]/div/div[2]/div[4]/div/div[2]/div/div[1]/div/input')\n",
    "search_loc.send_keys(\"London\")\n",
    "time.sleep(5)"
   ]
  },
  {
   "cell_type": "code",
   "execution_count": 121,
   "id": "cf85b676",
   "metadata": {},
   "outputs": [],
   "source": [
    "london = driver10.find_element_by_xpath('/html/body/div[3]/div/div/div[1]/div[1]/div/div[2]/div[4]/div/div[2]/div/div[1]/div/div/ul/li[2]/div')\n",
    "london.click()\n",
    "time.sleep(5)"
   ]
  },
  {
   "cell_type": "code",
   "execution_count": 122,
   "id": "33a5f917",
   "metadata": {},
   "outputs": [],
   "source": [
    "search_btn10 = driver10.find_element_by_id('search-button')\n",
    "search_btn10.click()"
   ]
  },
  {
   "cell_type": "code",
   "execution_count": 123,
   "id": "2e881e29",
   "metadata": {},
   "outputs": [],
   "source": [
    "url10=\"https://www.hostelworld.com/s?q=London,%20England&country=England&city=London&type=city&id=3&from=2022-05-16&to=2022-05-19&guests=2&page=1\"\n"
   ]
  },
  {
   "cell_type": "code",
   "execution_count": 124,
   "id": "0c7f54c1",
   "metadata": {},
   "outputs": [],
   "source": [
    "driver10.get(url10)"
   ]
  },
  {
   "cell_type": "code",
   "execution_count": 133,
   "id": "e85f39d4",
   "metadata": {},
   "outputs": [
    {
     "data": {
      "text/plain": [
       "['Fairway Hotel',\n",
       " 'Aron Guest House',\n",
       " 'Paramount Hotel',\n",
       " 'Beaconsfield',\n",
       " 'Park Hotel Essex',\n",
       " 'Wellesley Hotel',\n",
       " 'TLK Apartments & Hotel',\n",
       " 'Best Western Boltons London Kensington',\n",
       " 'Park Hotel',\n",
       " 'Hanover Hotel',\n",
       " 'Queen Elizabeth Chelsea',\n",
       " 'Chester Hotel Victoria',\n",
       " 'Victor Hotel',\n",
       " 'City Hotel Carlton',\n",
       " 'Urban Stay London City Apartments',\n",
       " 'Urban Stay Portobello Market Apartments']"
      ]
     },
     "execution_count": 133,
     "metadata": {},
     "output_type": "execute_result"
    }
   ],
   "source": [
    "HName = driver10.find_elements_by_xpath(\"//h2[@class='title title-6']/a\")\n",
    "Hostel_Names = []\n",
    "for i in HName:\n",
    "    Hostel_Names.append(i.text.replace('\\n',''))\n",
    "    \n",
    "Hostel_Names"
   ]
  },
  {
   "cell_type": "code",
   "execution_count": 134,
   "id": "79ddd595",
   "metadata": {},
   "outputs": [
    {
     "data": {
      "text/plain": [
       "['Bed and Breakfast - 3.3km from city centre',\n",
       " 'Bed and Breakfast - 13.1km from city centre',\n",
       " 'Hotel - 5.7km from city centre',\n",
       " 'Hotel - 8.6km from city centre',\n",
       " 'Hotel - 24.1km from city centre',\n",
       " 'Hotel - 14.7km from city centre',\n",
       " 'Hotel - 19.9km from city centre',\n",
       " 'Hotel - 5.4km from city centre',\n",
       " 'Hotel - 4.9km from city centre',\n",
       " 'Hotel - 2.1km from city centre',\n",
       " 'Hostel - 5.7km from city centre',\n",
       " 'Hotel - 1.9km from city centre',\n",
       " 'Hotel - 1.8km from city centre',\n",
       " 'Hotel - 1.8km from city centre',\n",
       " 'Apartment - 3.2km from city centre',\n",
       " 'Hotel - 6.6km from city centre']"
      ]
     },
     "execution_count": 134,
     "metadata": {},
     "output_type": "execute_result"
    }
   ],
   "source": [
    "Dist = driver10.find_elements_by_xpath(\"//span[@class='description']\")\n",
    "Distance = []\n",
    "for i in Dist:\n",
    "    Distance.append(i.text.replace('\\n',''))\n",
    "    \n",
    "Distance"
   ]
  },
  {
   "cell_type": "code",
   "execution_count": 136,
   "id": "6eabe4d8",
   "metadata": {},
   "outputs": [],
   "source": [
    "rating = driver10.find_elements_by_xpath(\"//div[@class='score orange big']\")\n",
    "Ratings = []\n",
    "for i  in rating:\n",
    "    try:\n",
    "        Ratings.append(i.text)\n",
    "    except NoSuchElementException as e:\n",
    "        Ratings.append(\"-\")"
   ]
  },
  {
   "cell_type": "code",
   "execution_count": 137,
   "id": "fb766a32",
   "metadata": {},
   "outputs": [
    {
     "data": {
      "text/plain": [
       "['7.7', '8.0', '7.0', '6.5', '6.7']"
      ]
     },
     "execution_count": 137,
     "metadata": {},
     "output_type": "execute_result"
    }
   ],
   "source": [
    "Ratings"
   ]
  },
  {
   "cell_type": "code",
   "execution_count": 138,
   "id": "7afec3b6",
   "metadata": {},
   "outputs": [
    {
     "data": {
      "text/plain": [
       "['44 Total Reviews',\n",
       " '26 Total Reviews',\n",
       " '26 Total Reviews',\n",
       " '28 Total Reviews',\n",
       " '109 Total Reviews',\n",
       " '0 Total Reviews',\n",
       " '0 Total Reviews',\n",
       " '2 Total Reviews',\n",
       " '0 Total Reviews',\n",
       " '46 Total Reviews',\n",
       " '3261 Total Reviews',\n",
       " '158 Total Reviews',\n",
       " '2 Total Reviews',\n",
       " '40 Total Reviews',\n",
       " '0 Total Reviews',\n",
       " '0 Total Reviews']"
      ]
     },
     "execution_count": 138,
     "metadata": {},
     "output_type": "execute_result"
    }
   ],
   "source": [
    "T_Reviews = driver10.find_elements_by_xpath(\"//div[@class='reviews']\")\n",
    "Total_Reviews =[]\n",
    "for i in T_Reviews:\n",
    "    Total_Reviews.append(i.text)\n",
    "    \n",
    "Total_Reviews"
   ]
  },
  {
   "cell_type": "code",
   "execution_count": 139,
   "id": "5edda347",
   "metadata": {},
   "outputs": [
    {
     "data": {
      "text/plain": [
       "['No Rating',\n",
       " 'No Rating',\n",
       " 'Very Good',\n",
       " 'No Rating',\n",
       " 'Fabulous',\n",
       " 'No Rating',\n",
       " 'No Rating',\n",
       " 'Rating',\n",
       " 'No Rating',\n",
       " 'No Rating',\n",
       " 'Very Good',\n",
       " 'Good',\n",
       " 'No Rating',\n",
       " 'Good',\n",
       " 'No Rating',\n",
       " 'No Rating']"
      ]
     },
     "execution_count": 139,
     "metadata": {},
     "output_type": "execute_result"
    }
   ],
   "source": [
    "O_reviews = driver10.find_elements_by_xpath(\"//div[@class='keyword']\")[0:30]\n",
    "Overall_Reviews =[]\n",
    "for i in O_reviews:\n",
    "    Overall_Reviews.append(i.text)\n",
    "    \n",
    "Overall_Reviews"
   ]
  },
  {
   "cell_type": "code",
   "execution_count": 140,
   "id": "98b8fa7a",
   "metadata": {},
   "outputs": [
    {
     "data": {
      "text/plain": [
       "['AED413',\n",
       " 'AED345',\n",
       " 'AED528',\n",
       " 'AED335',\n",
       " 'AED712',\n",
       " 'AED289',\n",
       " 'AED339',\n",
       " 'AED518',\n",
       " 'AED724',\n",
       " 'AED459',\n",
       " 'AED61',\n",
       " 'AED184',\n",
       " 'AED448',\n",
       " 'AED289',\n",
       " 'AED1764',\n",
       " 'AED1470']"
      ]
     },
     "execution_count": 140,
     "metadata": {},
     "output_type": "execute_result"
    }
   ],
   "source": [
    "privates = driver10.find_elements_by_xpath(\"//div[@class='price title-5']\")[0:30]\n",
    "Privates_from_price1 =[]\n",
    "for i in privates:\n",
    "    try:\n",
    "        Privates_from_price1.append(i.text)\n",
    "    except NoSuchElementException as e:\n",
    "        Privates_from_price1.append(\"-\")\n",
    "    \n",
    "    \n",
    "Privates_from_price1"
   ]
  },
  {
   "cell_type": "code",
   "execution_count": 153,
   "id": "819bbea1",
   "metadata": {},
   "outputs": [
    {
     "data": {
      "text/plain": [
       "['AED413',\n",
       " 'AED345',\n",
       " 'AED528',\n",
       " 'AED335',\n",
       " 'AED712',\n",
       " 'AED289',\n",
       " 'AED339',\n",
       " 'AED518',\n",
       " 'AED724',\n",
       " 'AED459',\n",
       " 'AED61',\n",
       " 'AED184',\n",
       " 'AED448',\n",
       " 'AED289',\n",
       " 'AED1764',\n",
       " 'AED1470']"
      ]
     },
     "execution_count": 153,
     "metadata": {},
     "output_type": "execute_result"
    }
   ],
   "source": [
    "dorms = driver10.find_elements_by_xpath(\"//div[@class='price title-5']\")\n",
    "Dorms_from_price =[]\n",
    "for i in dorms:\n",
    "    try:\n",
    "        Dorms_from_price.append(i.text)\n",
    "    except NoSuchElementException as e:\n",
    "        Dorms_from_price.append(\"-\")\n",
    "        \n",
    "Dorms_from_price"
   ]
  },
  {
   "cell_type": "code",
   "execution_count": 154,
   "id": "4ba0cce9",
   "metadata": {},
   "outputs": [
    {
     "data": {
      "text/plain": [
       "['Free WiFiFree Breakfast',\n",
       " 'Free WiFi',\n",
       " '',\n",
       " 'Free WiFi',\n",
       " 'Free BreakfastFollows Covid-19 sanitation guidance',\n",
       " 'Free WiFi',\n",
       " 'Free WiFi',\n",
       " 'Free WiFi',\n",
       " 'Free WiFi',\n",
       " 'Free WiFiFree Breakfast',\n",
       " 'Free WiFi',\n",
       " 'Free WiFi',\n",
       " 'Free WiFi',\n",
       " '',\n",
       " 'Free WiFi',\n",
       " 'Free WiFi']"
      ]
     },
     "execution_count": 154,
     "metadata": {},
     "output_type": "execute_result"
    }
   ],
   "source": [
    "facil = driver10.find_elements_by_xpath(\"//div[@class='facilities-label facilities']\")\n",
    "Facilities=[]\n",
    "for i in facil:\n",
    "    Facilities.append(i.text.replace('\\n',''))\n",
    "    \n",
    "Facilities"
   ]
  },
  {
   "cell_type": "code",
   "execution_count": 155,
   "id": "97d76dbd",
   "metadata": {},
   "outputs": [
    {
     "data": {
      "text/plain": [
       "['',\n",
       " '',\n",
       " 'Wonderful Location Marvellous Staff Excellent Cleanliness',\n",
       " '',\n",
       " 'Wonderful Location Marvellous Staff Excellent Cleanliness',\n",
       " '',\n",
       " '',\n",
       " '',\n",
       " '',\n",
       " '',\n",
       " 'Wonderful Location Marvellous Staff Good Cleanliness',\n",
       " 'Perfect Location Brilliant Staff Awesome Cleanliness',\n",
       " '',\n",
       " 'Great Location Marvellous Staff',\n",
       " '',\n",
       " '']"
      ]
     },
     "execution_count": 155,
     "metadata": {},
     "output_type": "execute_result"
    }
   ],
   "source": [
    "prop_desc = driver10.find_elements_by_xpath(\"//div[@class='rating-factors prop-card-tablet rating-factors small']\")\n",
    "Property_Description =[]\n",
    "for i in prop_desc:\n",
    "    Property_Description.append(i.text.replace('\\n',' '))\n",
    "    \n",
    "Property_Description"
   ]
  },
  {
   "cell_type": "code",
   "execution_count": 159,
   "id": "16cc678f",
   "metadata": {},
   "outputs": [
    {
     "data": {
      "text/plain": [
       "(16, 16, 5, 16, 16, 8, 16, 16, 16)"
      ]
     },
     "execution_count": 159,
     "metadata": {},
     "output_type": "execute_result"
    }
   ],
   "source": [
    "len(Hostel_Names),len(Distance),len(Ratings),len(Total_Reviews),len(Overall_Reviews),len(Privates_from_price1),len(Dorms_from_price),len(Facilities),len(Property_Description)\n"
   ]
  },
  {
   "cell_type": "code",
   "execution_count": null,
   "id": "e768326b",
   "metadata": {},
   "outputs": [],
   "source": []
  }
 ],
 "metadata": {
  "kernelspec": {
   "display_name": "Python 3",
   "language": "python",
   "name": "python3"
  },
  "language_info": {
   "codemirror_mode": {
    "name": "ipython",
    "version": 3
   },
   "file_extension": ".py",
   "mimetype": "text/x-python",
   "name": "python",
   "nbconvert_exporter": "python",
   "pygments_lexer": "ipython3",
   "version": "3.8.8"
  }
 },
 "nbformat": 4,
 "nbformat_minor": 5
}
