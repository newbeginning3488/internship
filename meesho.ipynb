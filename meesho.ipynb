{
 "cells": [
  {
   "cell_type": "markdown",
   "id": "f4f70bc0",
   "metadata": {},
   "source": [
    "# write a python program to scrap product name,price and discounts from meesho"
   ]
  },
  {
   "cell_type": "code",
   "execution_count": 2,
   "id": "0de6619d",
   "metadata": {},
   "outputs": [],
   "source": [
    "# importing required libraries\n",
    "from bs4 import BeautifulSoup\n",
    "import requests"
   ]
  },
  {
   "cell_type": "code",
   "execution_count": 3,
   "id": "35220c0b",
   "metadata": {},
   "outputs": [],
   "source": [
    "url = (\"https://meesho.com/bags-ladies/pl/p7vbp\")"
   ]
  },
  {
   "cell_type": "code",
   "execution_count": 4,
   "id": "3de0a9e3",
   "metadata": {},
   "outputs": [],
   "source": [
    "page = requests.get(\"https://meesho.com/bags-ladies/pl/p7vbp\")"
   ]
  },
  {
   "cell_type": "code",
   "execution_count": 5,
   "id": "b612647a",
   "metadata": {},
   "outputs": [
    {
     "data": {
      "text/plain": [
       "<Response [200]>"
      ]
     },
     "execution_count": 5,
     "metadata": {},
     "output_type": "execute_result"
    }
   ],
   "source": [
    "page"
   ]
  },
  {
   "cell_type": "code",
   "execution_count": 6,
   "id": "8789d0ed",
   "metadata": {},
   "outputs": [],
   "source": [
    "soup = BeautifulSoup(page.content,\"html.parser\")\n"
   ]
  },
  {
   "cell_type": "code",
   "execution_count": 7,
   "id": "a2b2ec9a",
   "metadata": {},
   "outputs": [
    {
     "data": {
      "text/plain": [
       "['Graceful Stylish Women Handbags',\n",
       " 'Classic Fancy Women Handbags',\n",
       " 'Voguish Fashionable Women Handbags',\n",
       " 'Ravishing Stylish Women Handbags',\n",
       " 'Elegant Attractive Women Handbags',\n",
       " 'Classic Alluring Women Handbags',\n",
       " 'Elite Stylish Women Handbags',\n",
       " 'Graceful Classy Women Handbags',\n",
       " 'Elegant Stylish Women Handbags',\n",
       " 'Classic Stylish Women Handbags',\n",
       " 'Voguish Alluring Women Handbags',\n",
       " 'Classic Fashionable Women Handbags',\n",
       " 'Trendy Fashionable Women Handbags',\n",
       " 'Ravishing Alluring Women Handbags',\n",
       " 'Voguish Classy Women Handbags',\n",
       " 'Classic Stylish Women Handbags',\n",
       " 'Elite Stylish Women Handbags',\n",
       " 'Trendy Versatile Women Handbags',\n",
       " 'Elegant Fashionable Women Handbags',\n",
       " 'Elegant Attractive Women Handbags']"
      ]
     },
     "execution_count": 7,
     "metadata": {},
     "output_type": "execute_result"
    }
   ],
   "source": [
    "productname=[]\n",
    "for i in soup.find_all('div',class_=\"Card__BaseCard-sc-b3n78k-0 cXRroa NewProductCard__DetailCard_Desktop-sc-j0e7tu-2 eEBPAI NewProductCard__DetailCard_Desktop-sc-j0e7tu-2 eEBPAI\"):\n",
    "    productname.append(i.p.text)\n",
    "    \n",
    "    \n",
    "productname\n"
   ]
  },
  {
   "cell_type": "code",
   "execution_count": 8,
   "id": "4a2789ee",
   "metadata": {},
   "outputs": [
    {
     "data": {
      "text/plain": [
       "['₹384',\n",
       " '₹249',\n",
       " '₹296',\n",
       " '₹370',\n",
       " '₹336',\n",
       " '₹199',\n",
       " '₹379',\n",
       " '₹322',\n",
       " '₹384',\n",
       " '₹284',\n",
       " '₹584',\n",
       " '₹75',\n",
       " '₹384',\n",
       " '₹715',\n",
       " '₹304',\n",
       " '₹333',\n",
       " '₹399',\n",
       " '₹60',\n",
       " '₹185',\n",
       " '₹374']"
      ]
     },
     "execution_count": 8,
     "metadata": {},
     "output_type": "execute_result"
    }
   ],
   "source": [
    "price=[]\n",
    "for i in soup.find_all('div',class_=\"Card__BaseCard-sc-b3n78k-0 fVRkfg NewProductCard__PriceRow-sc-j0e7tu-5 dYYUrF NewProductCard__PriceRow-sc-j0e7tu-5 dYYUrF\"):\n",
    "    price.append(i.h5.text)\n",
    "\n",
    "price\n"
   ]
  },
  {
   "cell_type": "code",
   "execution_count": 9,
   "id": "3e0aa742",
   "metadata": {},
   "outputs": [
    {
     "data": {
      "text/plain": [
       "['₹100 discount on 1st order',\n",
       " '₹100 discount on 1st order',\n",
       " '₹100 discount on 1st order',\n",
       " '₹100 discount on 1st order',\n",
       " '₹100 discount on 1st order',\n",
       " '₹85 discount on 1st order',\n",
       " '₹100 discount on 1st order',\n",
       " '₹100 discount on 1st order',\n",
       " '₹100 discount on 1st order',\n",
       " '₹100 discount on 1st order',\n",
       " '₹100 discount on 1st order',\n",
       " '₹32 discount on 1st order',\n",
       " '₹100 discount on 1st order',\n",
       " '₹100 discount on 1st order',\n",
       " '₹100 discount on 1st order',\n",
       " '₹100 discount on 1st order',\n",
       " '₹100 discount on 1st order',\n",
       " '₹25 discount on 1st order',\n",
       " '₹78 discount on 1st order',\n",
       " '₹100 discount on 1st order']"
      ]
     },
     "execution_count": 9,
     "metadata": {},
     "output_type": "execute_result"
    }
   ],
   "source": [
    "discount=[]\n",
    "for i in soup.find_all('div',class_=\"Card__BaseCard-sc-b3n78k-0 iKnziG NewProductCard__DiscountRow-sc-j0e7tu-15 fpGaRM NewProductCard__DiscountRow-sc-j0e7tu-15 fpGaRM\"):\n",
    "    discount.append(i.p.text)\n",
    "\n",
    "discount\n"
   ]
  },
  {
   "cell_type": "code",
   "execution_count": 10,
   "id": "40063a33",
   "metadata": {},
   "outputs": [
    {
     "name": "stdout",
     "output_type": "stream",
     "text": [
      "20 20 20\n"
     ]
    }
   ],
   "source": [
    "print(len(productname),len(price),len(discount))\n"
   ]
  },
  {
   "cell_type": "code",
   "execution_count": 11,
   "id": "dd97a65e",
   "metadata": {},
   "outputs": [
    {
     "data": {
      "text/html": [
       "<div>\n",
       "<style scoped>\n",
       "    .dataframe tbody tr th:only-of-type {\n",
       "        vertical-align: middle;\n",
       "    }\n",
       "\n",
       "    .dataframe tbody tr th {\n",
       "        vertical-align: top;\n",
       "    }\n",
       "\n",
       "    .dataframe thead th {\n",
       "        text-align: right;\n",
       "    }\n",
       "</style>\n",
       "<table border=\"1\" class=\"dataframe\">\n",
       "  <thead>\n",
       "    <tr style=\"text-align: right;\">\n",
       "      <th></th>\n",
       "      <th>Product Name</th>\n",
       "      <th>Product Price</th>\n",
       "      <th>Product Discount</th>\n",
       "    </tr>\n",
       "  </thead>\n",
       "  <tbody>\n",
       "    <tr>\n",
       "      <th>0</th>\n",
       "      <td>Graceful Stylish Women Handbags</td>\n",
       "      <td>₹384</td>\n",
       "      <td>₹100 discount on 1st order</td>\n",
       "    </tr>\n",
       "    <tr>\n",
       "      <th>1</th>\n",
       "      <td>Classic Fancy Women Handbags</td>\n",
       "      <td>₹249</td>\n",
       "      <td>₹100 discount on 1st order</td>\n",
       "    </tr>\n",
       "    <tr>\n",
       "      <th>2</th>\n",
       "      <td>Voguish Fashionable Women Handbags</td>\n",
       "      <td>₹296</td>\n",
       "      <td>₹100 discount on 1st order</td>\n",
       "    </tr>\n",
       "    <tr>\n",
       "      <th>3</th>\n",
       "      <td>Ravishing Stylish Women Handbags</td>\n",
       "      <td>₹370</td>\n",
       "      <td>₹100 discount on 1st order</td>\n",
       "    </tr>\n",
       "    <tr>\n",
       "      <th>4</th>\n",
       "      <td>Elegant Attractive Women Handbags</td>\n",
       "      <td>₹336</td>\n",
       "      <td>₹100 discount on 1st order</td>\n",
       "    </tr>\n",
       "    <tr>\n",
       "      <th>5</th>\n",
       "      <td>Classic Alluring Women Handbags</td>\n",
       "      <td>₹199</td>\n",
       "      <td>₹85 discount on 1st order</td>\n",
       "    </tr>\n",
       "    <tr>\n",
       "      <th>6</th>\n",
       "      <td>Elite Stylish Women Handbags</td>\n",
       "      <td>₹379</td>\n",
       "      <td>₹100 discount on 1st order</td>\n",
       "    </tr>\n",
       "    <tr>\n",
       "      <th>7</th>\n",
       "      <td>Graceful Classy Women Handbags</td>\n",
       "      <td>₹322</td>\n",
       "      <td>₹100 discount on 1st order</td>\n",
       "    </tr>\n",
       "    <tr>\n",
       "      <th>8</th>\n",
       "      <td>Elegant Stylish Women Handbags</td>\n",
       "      <td>₹384</td>\n",
       "      <td>₹100 discount on 1st order</td>\n",
       "    </tr>\n",
       "    <tr>\n",
       "      <th>9</th>\n",
       "      <td>Classic Stylish Women Handbags</td>\n",
       "      <td>₹284</td>\n",
       "      <td>₹100 discount on 1st order</td>\n",
       "    </tr>\n",
       "    <tr>\n",
       "      <th>10</th>\n",
       "      <td>Voguish Alluring Women Handbags</td>\n",
       "      <td>₹584</td>\n",
       "      <td>₹100 discount on 1st order</td>\n",
       "    </tr>\n",
       "    <tr>\n",
       "      <th>11</th>\n",
       "      <td>Classic Fashionable Women Handbags</td>\n",
       "      <td>₹75</td>\n",
       "      <td>₹32 discount on 1st order</td>\n",
       "    </tr>\n",
       "    <tr>\n",
       "      <th>12</th>\n",
       "      <td>Trendy Fashionable Women Handbags</td>\n",
       "      <td>₹384</td>\n",
       "      <td>₹100 discount on 1st order</td>\n",
       "    </tr>\n",
       "    <tr>\n",
       "      <th>13</th>\n",
       "      <td>Ravishing Alluring Women Handbags</td>\n",
       "      <td>₹715</td>\n",
       "      <td>₹100 discount on 1st order</td>\n",
       "    </tr>\n",
       "    <tr>\n",
       "      <th>14</th>\n",
       "      <td>Voguish Classy Women Handbags</td>\n",
       "      <td>₹304</td>\n",
       "      <td>₹100 discount on 1st order</td>\n",
       "    </tr>\n",
       "    <tr>\n",
       "      <th>15</th>\n",
       "      <td>Classic Stylish Women Handbags</td>\n",
       "      <td>₹333</td>\n",
       "      <td>₹100 discount on 1st order</td>\n",
       "    </tr>\n",
       "    <tr>\n",
       "      <th>16</th>\n",
       "      <td>Elite Stylish Women Handbags</td>\n",
       "      <td>₹399</td>\n",
       "      <td>₹100 discount on 1st order</td>\n",
       "    </tr>\n",
       "    <tr>\n",
       "      <th>17</th>\n",
       "      <td>Trendy Versatile Women Handbags</td>\n",
       "      <td>₹60</td>\n",
       "      <td>₹25 discount on 1st order</td>\n",
       "    </tr>\n",
       "    <tr>\n",
       "      <th>18</th>\n",
       "      <td>Elegant Fashionable Women Handbags</td>\n",
       "      <td>₹185</td>\n",
       "      <td>₹78 discount on 1st order</td>\n",
       "    </tr>\n",
       "    <tr>\n",
       "      <th>19</th>\n",
       "      <td>Elegant Attractive Women Handbags</td>\n",
       "      <td>₹374</td>\n",
       "      <td>₹100 discount on 1st order</td>\n",
       "    </tr>\n",
       "  </tbody>\n",
       "</table>\n",
       "</div>"
      ],
      "text/plain": [
       "                          Product Name Product Price  \\\n",
       "0      Graceful Stylish Women Handbags          ₹384   \n",
       "1         Classic Fancy Women Handbags          ₹249   \n",
       "2   Voguish Fashionable Women Handbags          ₹296   \n",
       "3     Ravishing Stylish Women Handbags          ₹370   \n",
       "4    Elegant Attractive Women Handbags          ₹336   \n",
       "5      Classic Alluring Women Handbags          ₹199   \n",
       "6         Elite Stylish Women Handbags          ₹379   \n",
       "7       Graceful Classy Women Handbags          ₹322   \n",
       "8       Elegant Stylish Women Handbags          ₹384   \n",
       "9       Classic Stylish Women Handbags          ₹284   \n",
       "10     Voguish Alluring Women Handbags          ₹584   \n",
       "11  Classic Fashionable Women Handbags           ₹75   \n",
       "12   Trendy Fashionable Women Handbags          ₹384   \n",
       "13   Ravishing Alluring Women Handbags          ₹715   \n",
       "14       Voguish Classy Women Handbags          ₹304   \n",
       "15      Classic Stylish Women Handbags          ₹333   \n",
       "16        Elite Stylish Women Handbags          ₹399   \n",
       "17     Trendy Versatile Women Handbags           ₹60   \n",
       "18  Elegant Fashionable Women Handbags          ₹185   \n",
       "19   Elegant Attractive Women Handbags          ₹374   \n",
       "\n",
       "              Product Discount  \n",
       "0   ₹100 discount on 1st order  \n",
       "1   ₹100 discount on 1st order  \n",
       "2   ₹100 discount on 1st order  \n",
       "3   ₹100 discount on 1st order  \n",
       "4   ₹100 discount on 1st order  \n",
       "5    ₹85 discount on 1st order  \n",
       "6   ₹100 discount on 1st order  \n",
       "7   ₹100 discount on 1st order  \n",
       "8   ₹100 discount on 1st order  \n",
       "9   ₹100 discount on 1st order  \n",
       "10  ₹100 discount on 1st order  \n",
       "11   ₹32 discount on 1st order  \n",
       "12  ₹100 discount on 1st order  \n",
       "13  ₹100 discount on 1st order  \n",
       "14  ₹100 discount on 1st order  \n",
       "15  ₹100 discount on 1st order  \n",
       "16  ₹100 discount on 1st order  \n",
       "17   ₹25 discount on 1st order  \n",
       "18   ₹78 discount on 1st order  \n",
       "19  ₹100 discount on 1st order  "
      ]
     },
     "execution_count": 11,
     "metadata": {},
     "output_type": "execute_result"
    }
   ],
   "source": [
    "import pandas as pd\n",
    "dfmeesho=pd.DataFrame({'Product Name':productname,'Product Price':price,'Product Discount':discount})\n",
    "dfmeesho\n"
   ]
  },
  {
   "cell_type": "code",
   "execution_count": null,
   "id": "d992bec4",
   "metadata": {},
   "outputs": [],
   "source": []
  },
  {
   "cell_type": "code",
   "execution_count": null,
   "id": "ce534ce5",
   "metadata": {},
   "outputs": [],
   "source": []
  }
 ],
 "metadata": {
  "kernelspec": {
   "display_name": "Python 3",
   "language": "python",
   "name": "python3"
  },
  "language_info": {
   "codemirror_mode": {
    "name": "ipython",
    "version": 3
   },
   "file_extension": ".py",
   "mimetype": "text/x-python",
   "name": "python",
   "nbconvert_exporter": "python",
   "pygments_lexer": "ipython3",
   "version": "3.8.8"
  }
 },
 "nbformat": 4,
 "nbformat_minor": 5
}
