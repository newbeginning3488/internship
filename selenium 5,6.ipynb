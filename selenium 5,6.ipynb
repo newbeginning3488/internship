{
 "cells": [
  {
   "cell_type": "markdown",
   "id": "4a22abe0",
   "metadata": {},
   "source": [
    "# im staying in uae here naukri.com is banned and i tried many possible ways to do but i have not done,i informed to mohd khasif,he told me to leave the questions related to naukri.com and complete remaining questions "
   ]
  },
  {
   "cell_type": "markdown",
   "id": "e2fdf265",
   "metadata": {},
   "source": [
    "# question 5"
   ]
  },
  {
   "cell_type": "code",
   "execution_count": 1,
   "id": "54153ccc",
   "metadata": {},
   "outputs": [],
   "source": [
    "import selenium\n",
    "import pandas as pd\n",
    "from selenium import webdriver\n",
    "import warnings\n",
    "warnings.filterwarnings(\"ignore\")\n",
    "import time"
   ]
  },
  {
   "cell_type": "code",
   "execution_count": 24,
   "id": "b9342e2b",
   "metadata": {},
   "outputs": [],
   "source": [
    "driver = webdriver.Chrome(r\"C:\\Users\\reach\\chromedriver.exe\")"
   ]
  },
  {
   "cell_type": "code",
   "execution_count": 25,
   "id": "b1764ec8",
   "metadata": {},
   "outputs": [],
   "source": [
    "driver.get('https://www.flipkart.com/apple-iphone-11-black-64-gb-includes- earpods-power- adapter/p/itm0f37c2240b217?pid=MOBFKCTSVZAXUHGR&lid=LSTMOBFKC TSVZAXUHGREPBFGI&marketplace')\n"
   ]
  },
  {
   "cell_type": "code",
   "execution_count": 26,
   "id": "30b21d98",
   "metadata": {},
   "outputs": [],
   "source": [
    "try:\n",
    "    search_button_5=driver_5.find_element_by_xpath(\"/html/body/div[2]/div/div/button\")\n",
    "    search_button_5.click()\n",
    "except:\n",
    "    pass\n"
   ]
  },
  {
   "cell_type": "code",
   "execution_count": 27,
   "id": "11d820cf",
   "metadata": {},
   "outputs": [],
   "source": [
    "search_button_5=driver.find_element_by_xpath(\"/html/body/div[1]/div/div[1]/div[1]/div[2]/div[2]/form/div/div/input\")\n",
    "search_button_5.click()\n"
   ]
  },
  {
   "cell_type": "code",
   "execution_count": 30,
   "id": "1d3c2460",
   "metadata": {},
   "outputs": [],
   "source": [
    "rating=[]\n",
    "review_summary=[]\n",
    "full_review=[]\n",
    "count=0\n",
    "while count < 100:\n",
    "    rating5=driver.find_elements_by_xpath('//div[@class=\"_3LWZlK _1BLPMq\"]')\n",
    "    reviewsum5=driver.find_elements_by_xpath('//p[@class=\"_2-N8zT\"]')\n",
    "    fullrev5=driver.find_elements_by_xpath('//div[@class=\"t-ZTKy\"]')\n",
    "    for i in range(len(rating5)):\n",
    "        count += 1\n",
    "        if count == 101:\n",
    "            break\n",
    "        else:\n",
    "            rating.append(rating5[i].text)\n",
    "            review_summary.append(reviewsum5[i].text)\n",
    "            full_review.append(fullrev5[i].text)\n",
    "    search_button_5=driver.find_element_by_xpath('/html/body/div[1]/div/div[3]/div/div/div[2]/div[13]/div/div/nav/a[3]')\n",
    "    search_button_5.click()\n",
    "    time.sleep(5)\n"
   ]
  },
  {
   "cell_type": "code",
   "execution_count": 31,
   "id": "b7a1b58e",
   "metadata": {},
   "outputs": [],
   "source": [
    "data=list(zip(rating,review_summary,full_review))\n"
   ]
  },
  {
   "cell_type": "code",
   "execution_count": 32,
   "id": "6614e9dd",
   "metadata": {},
   "outputs": [
    {
     "data": {
      "text/html": [
       "<div>\n",
       "<style scoped>\n",
       "    .dataframe tbody tr th:only-of-type {\n",
       "        vertical-align: middle;\n",
       "    }\n",
       "\n",
       "    .dataframe tbody tr th {\n",
       "        vertical-align: top;\n",
       "    }\n",
       "\n",
       "    .dataframe thead th {\n",
       "        text-align: right;\n",
       "    }\n",
       "</style>\n",
       "<table border=\"1\" class=\"dataframe\">\n",
       "  <thead>\n",
       "    <tr style=\"text-align: right;\">\n",
       "      <th></th>\n",
       "      <th>Rating</th>\n",
       "      <th>Review Summary</th>\n",
       "      <th>Full Review</th>\n",
       "    </tr>\n",
       "  </thead>\n",
       "  <tbody>\n",
       "    <tr>\n",
       "      <th>0</th>\n",
       "      <td>5</td>\n",
       "      <td>Highly recommended</td>\n",
       "      <td>iphone 11 is a very good phone to buy only if ...</td>\n",
       "    </tr>\n",
       "    <tr>\n",
       "      <th>1</th>\n",
       "      <td>5</td>\n",
       "      <td>Perfect product!</td>\n",
       "      <td>It’s a must buy who is looking for an upgrade ...</td>\n",
       "    </tr>\n",
       "    <tr>\n",
       "      <th>2</th>\n",
       "      <td>5</td>\n",
       "      <td>Perfect product!</td>\n",
       "      <td>Value for money❤️❤️\\nIts awesome mobile phone ...</td>\n",
       "    </tr>\n",
       "    <tr>\n",
       "      <th>3</th>\n",
       "      <td>5</td>\n",
       "      <td>Worth every penny</td>\n",
       "      <td>Smooth like butter, camera like fantabulous, s...</td>\n",
       "    </tr>\n",
       "    <tr>\n",
       "      <th>4</th>\n",
       "      <td>5</td>\n",
       "      <td>Highly recommended</td>\n",
       "      <td>It's my first time to use iOS phone and I am l...</td>\n",
       "    </tr>\n",
       "    <tr>\n",
       "      <th>...</th>\n",
       "      <td>...</td>\n",
       "      <td>...</td>\n",
       "      <td>...</td>\n",
       "    </tr>\n",
       "    <tr>\n",
       "      <th>95</th>\n",
       "      <td>5</td>\n",
       "      <td>Perfect product!</td>\n",
       "      <td>Iphone is just awesome.. battery backup is ver...</td>\n",
       "    </tr>\n",
       "    <tr>\n",
       "      <th>96</th>\n",
       "      <td>5</td>\n",
       "      <td>Worth every penny</td>\n",
       "      <td>Best budget Iphone till date ❤️ go for it guys...</td>\n",
       "    </tr>\n",
       "    <tr>\n",
       "      <th>97</th>\n",
       "      <td>5</td>\n",
       "      <td>Simply awesome</td>\n",
       "      <td>Excellent camera, good performance, no lag. Th...</td>\n",
       "    </tr>\n",
       "    <tr>\n",
       "      <th>98</th>\n",
       "      <td>5</td>\n",
       "      <td>Classy product</td>\n",
       "      <td>Totally in love with this ❤ the camera quality...</td>\n",
       "    </tr>\n",
       "    <tr>\n",
       "      <th>99</th>\n",
       "      <td>5</td>\n",
       "      <td>Terrific</td>\n",
       "      <td>Really worth of money. i just love it. It is t...</td>\n",
       "    </tr>\n",
       "  </tbody>\n",
       "</table>\n",
       "<p>100 rows × 3 columns</p>\n",
       "</div>"
      ],
      "text/plain": [
       "   Rating      Review Summary  \\\n",
       "0       5  Highly recommended   \n",
       "1       5    Perfect product!   \n",
       "2       5    Perfect product!   \n",
       "3       5   Worth every penny   \n",
       "4       5  Highly recommended   \n",
       "..    ...                 ...   \n",
       "95      5    Perfect product!   \n",
       "96      5   Worth every penny   \n",
       "97      5      Simply awesome   \n",
       "98      5      Classy product   \n",
       "99      5            Terrific   \n",
       "\n",
       "                                          Full Review  \n",
       "0   iphone 11 is a very good phone to buy only if ...  \n",
       "1   It’s a must buy who is looking for an upgrade ...  \n",
       "2   Value for money❤️❤️\\nIts awesome mobile phone ...  \n",
       "3   Smooth like butter, camera like fantabulous, s...  \n",
       "4   It's my first time to use iOS phone and I am l...  \n",
       "..                                                ...  \n",
       "95  Iphone is just awesome.. battery backup is ver...  \n",
       "96  Best budget Iphone till date ❤️ go for it guys...  \n",
       "97  Excellent camera, good performance, no lag. Th...  \n",
       "98  Totally in love with this ❤ the camera quality...  \n",
       "99  Really worth of money. i just love it. It is t...  \n",
       "\n",
       "[100 rows x 3 columns]"
      ]
     },
     "execution_count": 32,
     "metadata": {},
     "output_type": "execute_result"
    }
   ],
   "source": [
    "df_iphone11=pd.DataFrame(data,columns=['Rating','Review Summary','Full Review'])\n",
    "df_iphone11\n"
   ]
  },
  {
   "cell_type": "markdown",
   "id": "8242a7fd",
   "metadata": {},
   "source": [
    "# question 6"
   ]
  },
  {
   "cell_type": "code",
   "execution_count": 33,
   "id": "6067fdbc",
   "metadata": {},
   "outputs": [],
   "source": [
    "import selenium\n",
    "import pandas as pd\n",
    "from selenium import webdriver\n",
    "import warnings\n",
    "warnings.filterwarnings(\"ignore\")\n",
    "import time"
   ]
  },
  {
   "cell_type": "code",
   "execution_count": 34,
   "id": "8a9b4c52",
   "metadata": {},
   "outputs": [],
   "source": [
    "driver = webdriver.Chrome(r\"C:\\Users\\reach\\chromedriver.exe\")"
   ]
  },
  {
   "cell_type": "code",
   "execution_count": 35,
   "id": "d5d35f67",
   "metadata": {},
   "outputs": [],
   "source": [
    "driver.get('https://flipkart.com/')\n"
   ]
  },
  {
   "cell_type": "code",
   "execution_count": 36,
   "id": "d5aa3d44",
   "metadata": {},
   "outputs": [],
   "source": [
    "try:\n",
    "    search_button_6=driver_6.find_element_by_xpath(\"/html/body/div[2]/div/div/button\")\n",
    "    search_button_6.click()\n",
    "except:\n",
    "    pass\n"
   ]
  },
  {
   "cell_type": "code",
   "execution_count": 38,
   "id": "0c45348f",
   "metadata": {},
   "outputs": [],
   "source": [
    "search_field_6=driver.find_element_by_class_name(\"_3704LK\")\n",
    "search_field_6.send_keys(\"sneakers\")\n"
   ]
  },
  {
   "cell_type": "code",
   "execution_count": 41,
   "id": "fded3215",
   "metadata": {},
   "outputs": [],
   "source": [
    "search_button_6=driver.find_element_by_xpath('/html/body/div[1]/div/div[1]/div[1]/div[2]/div[2]/form/div/div/input')\n",
    "search_button_6.click()\n"
   ]
  },
  {
   "cell_type": "code",
   "execution_count": 42,
   "id": "6f6c1307",
   "metadata": {},
   "outputs": [],
   "source": [
    "brands_6=[]\n",
    "prod_desc_6=[]\n",
    "prices_6=[]\n",
    "discount_6=[]\n",
    "count=0\n",
    "while count < 100:\n",
    "    brand6=driver.find_elements_by_xpath('//div[@class=\"_2WkVRV\"]')\n",
    "    proddesc6=driver.find_elements_by_xpath('//a[starts-with (@class,\"IRpwTa\")]')\n",
    "    price6=driver.find_elements_by_xpath('//div[@class=\"_30jeq3\"]')\n",
    "    discount6=driver.find_elements_by_xpath('//div[@class=\"_3Ay6Sb\"]/span')\n",
    "    for i in range(len(brand6)):\n",
    "        count += 1\n",
    "        if count == 101:\n",
    "            break\n",
    "        else:\n",
    "            brands_6.append(brand6[i].text)\n",
    "            prod_desc_6.append(proddesc6[i].text)\n",
    "            prices_6.append(price6[i].text[1:])\n",
    "            discount_6.append(discount6[i].text)\n",
    "    search_button_6=driver.find_element_by_xpath('/html/body/div[1]/div/div[3]/div[1]/div[2]/div[12]/div/div/nav/a[11]')\n",
    "    search_button_6.click()\n",
    "    time.sleep(5)\n"
   ]
  },
  {
   "cell_type": "code",
   "execution_count": 43,
   "id": "bd3ddd0c",
   "metadata": {},
   "outputs": [],
   "source": [
    "data=list(zip(brands_6,prod_desc_6,prices_6,discount_6))\n"
   ]
  },
  {
   "cell_type": "code",
   "execution_count": 44,
   "id": "774dad7b",
   "metadata": {},
   "outputs": [
    {
     "data": {
      "text/html": [
       "<div>\n",
       "<style scoped>\n",
       "    .dataframe tbody tr th:only-of-type {\n",
       "        vertical-align: middle;\n",
       "    }\n",
       "\n",
       "    .dataframe tbody tr th {\n",
       "        vertical-align: top;\n",
       "    }\n",
       "\n",
       "    .dataframe thead th {\n",
       "        text-align: right;\n",
       "    }\n",
       "</style>\n",
       "<table border=\"1\" class=\"dataframe\">\n",
       "  <thead>\n",
       "    <tr style=\"text-align: right;\">\n",
       "      <th></th>\n",
       "      <th>Brand of Sneakers</th>\n",
       "      <th>Product Description(Sneaker)</th>\n",
       "      <th>Price of Sneakers</th>\n",
       "      <th>Discount %</th>\n",
       "    </tr>\n",
       "  </thead>\n",
       "  <tbody>\n",
       "    <tr>\n",
       "      <th>0</th>\n",
       "      <td>HOTSTYLE</td>\n",
       "      <td>CR-1 Sneakers For Men</td>\n",
       "      <td>265</td>\n",
       "      <td>46% off</td>\n",
       "    </tr>\n",
       "    <tr>\n",
       "      <th>1</th>\n",
       "      <td>Navtrend</td>\n",
       "      <td>Sneakers For Men</td>\n",
       "      <td>599</td>\n",
       "      <td>80% off</td>\n",
       "    </tr>\n",
       "    <tr>\n",
       "      <th>2</th>\n",
       "      <td>D-SNEAKERZ</td>\n",
       "      <td>Casual , Partywear Sneakers Shoes For Men's An...</td>\n",
       "      <td>349</td>\n",
       "      <td>47% off</td>\n",
       "    </tr>\n",
       "    <tr>\n",
       "      <th>3</th>\n",
       "      <td>URBANBOX</td>\n",
       "      <td>Sneakers Sneakers For Men</td>\n",
       "      <td>158</td>\n",
       "      <td>84% off</td>\n",
       "    </tr>\n",
       "    <tr>\n",
       "      <th>4</th>\n",
       "      <td>corsac</td>\n",
       "      <td>STYLISH MENS BLACK SNEAKER Sneakers For Men</td>\n",
       "      <td>449</td>\n",
       "      <td>70% off</td>\n",
       "    </tr>\n",
       "    <tr>\n",
       "      <th>...</th>\n",
       "      <td>...</td>\n",
       "      <td>...</td>\n",
       "      <td>...</td>\n",
       "      <td>...</td>\n",
       "    </tr>\n",
       "    <tr>\n",
       "      <th>95</th>\n",
       "      <td>BIRDE</td>\n",
       "      <td>Stylish Comfortable Lightweight, Breathable Wa...</td>\n",
       "      <td>549</td>\n",
       "      <td>45% off</td>\n",
       "    </tr>\n",
       "    <tr>\n",
       "      <th>96</th>\n",
       "      <td>SPARX</td>\n",
       "      <td>SM-734 Sneakers For Men</td>\n",
       "      <td>799</td>\n",
       "      <td>5% off</td>\n",
       "    </tr>\n",
       "    <tr>\n",
       "      <th>97</th>\n",
       "      <td>HOCKWOOD</td>\n",
       "      <td>Street Smart Sneakers For Men</td>\n",
       "      <td>699</td>\n",
       "      <td>30% off</td>\n",
       "    </tr>\n",
       "    <tr>\n",
       "      <th>98</th>\n",
       "      <td>SEGA</td>\n",
       "      <td>Sneakers For Men</td>\n",
       "      <td>562</td>\n",
       "      <td>43% off</td>\n",
       "    </tr>\n",
       "    <tr>\n",
       "      <th>99</th>\n",
       "      <td>DUNKASTON</td>\n",
       "      <td>Sneakers For Men</td>\n",
       "      <td>349</td>\n",
       "      <td>82% off</td>\n",
       "    </tr>\n",
       "  </tbody>\n",
       "</table>\n",
       "<p>100 rows × 4 columns</p>\n",
       "</div>"
      ],
      "text/plain": [
       "   Brand of Sneakers                       Product Description(Sneaker)  \\\n",
       "0           HOTSTYLE                              CR-1 Sneakers For Men   \n",
       "1           Navtrend                                   Sneakers For Men   \n",
       "2         D-SNEAKERZ  Casual , Partywear Sneakers Shoes For Men's An...   \n",
       "3           URBANBOX                          Sneakers Sneakers For Men   \n",
       "4             corsac        STYLISH MENS BLACK SNEAKER Sneakers For Men   \n",
       "..               ...                                                ...   \n",
       "95             BIRDE  Stylish Comfortable Lightweight, Breathable Wa...   \n",
       "96             SPARX                            SM-734 Sneakers For Men   \n",
       "97          HOCKWOOD                      Street Smart Sneakers For Men   \n",
       "98              SEGA                                   Sneakers For Men   \n",
       "99         DUNKASTON                                   Sneakers For Men   \n",
       "\n",
       "   Price of Sneakers Discount %  \n",
       "0                265    46% off  \n",
       "1                599    80% off  \n",
       "2                349    47% off  \n",
       "3                158    84% off  \n",
       "4                449    70% off  \n",
       "..               ...        ...  \n",
       "95               549    45% off  \n",
       "96               799     5% off  \n",
       "97               699    30% off  \n",
       "98               562    43% off  \n",
       "99               349    82% off  \n",
       "\n",
       "[100 rows x 4 columns]"
      ]
     },
     "execution_count": 44,
     "metadata": {},
     "output_type": "execute_result"
    }
   ],
   "source": [
    "df_sneakers=pd.DataFrame(data,columns=['Brand of Sneakers','Product Description(Sneaker)','Price of Sneakers','Discount %'])\n",
    "df_sneakers"
   ]
  },
  {
   "cell_type": "code",
   "execution_count": null,
   "id": "d0d640b7",
   "metadata": {},
   "outputs": [],
   "source": []
  },
  {
   "cell_type": "code",
   "execution_count": null,
   "id": "e608d9d1",
   "metadata": {},
   "outputs": [],
   "source": []
  }
 ],
 "metadata": {
  "kernelspec": {
   "display_name": "Python 3",
   "language": "python",
   "name": "python3"
  },
  "language_info": {
   "codemirror_mode": {
    "name": "ipython",
    "version": 3
   },
   "file_extension": ".py",
   "mimetype": "text/x-python",
   "name": "python",
   "nbconvert_exporter": "python",
   "pygments_lexer": "ipython3",
   "version": "3.8.8"
  }
 },
 "nbformat": 4,
 "nbformat_minor": 5
}
