{
 "cells": [
  {
   "cell_type": "code",
   "execution_count": 1,
   "id": "2ea08908",
   "metadata": {
    "scrolled": true
   },
   "outputs": [
    {
     "name": "stdout",
     "output_type": "stream",
     "text": [
      "Requirement already satisfied: selenium in c:\\programdata\\anaconda3\\lib\\site-packages (4.1.3)\n",
      "Requirement already satisfied: urllib3[secure,socks]~=1.26 in c:\\programdata\\anaconda3\\lib\\site-packages (from selenium) (1.26.4)\n",
      "Requirement already satisfied: trio~=0.17 in c:\\programdata\\anaconda3\\lib\\site-packages (from selenium) (0.20.0)\n",
      "Requirement already satisfied: trio-websocket~=0.9 in c:\\programdata\\anaconda3\\lib\\site-packages (from selenium) (0.9.2)\n",
      "Requirement already satisfied: sniffio in c:\\programdata\\anaconda3\\lib\\site-packages (from trio~=0.17->selenium) (1.2.0)\n",
      "Requirement already satisfied: cffi>=1.14 in c:\\programdata\\anaconda3\\lib\\site-packages (from trio~=0.17->selenium) (1.14.5)\n",
      "Requirement already satisfied: outcome in c:\\programdata\\anaconda3\\lib\\site-packages (from trio~=0.17->selenium) (1.1.0)\n",
      "Requirement already satisfied: attrs>=19.2.0 in c:\\programdata\\anaconda3\\lib\\site-packages (from trio~=0.17->selenium) (20.3.0)\n",
      "Requirement already satisfied: idna in c:\\programdata\\anaconda3\\lib\\site-packages (from trio~=0.17->selenium) (2.10)\n",
      "Requirement already satisfied: async-generator>=1.9 in c:\\programdata\\anaconda3\\lib\\site-packages (from trio~=0.17->selenium) (1.10)\n",
      "Requirement already satisfied: sortedcontainers in c:\\programdata\\anaconda3\\lib\\site-packages (from trio~=0.17->selenium) (2.3.0)\n",
      "Requirement already satisfied: pycparser in c:\\programdata\\anaconda3\\lib\\site-packages (from cffi>=1.14->trio~=0.17->selenium) (2.20)\n",
      "Requirement already satisfied: wsproto>=0.14 in c:\\programdata\\anaconda3\\lib\\site-packages (from trio-websocket~=0.9->selenium) (1.1.0)\n",
      "Requirement already satisfied: pyOpenSSL>=0.14 in c:\\programdata\\anaconda3\\lib\\site-packages (from urllib3[secure,socks]~=1.26->selenium) (20.0.1)\n",
      "Requirement already satisfied: cryptography>=1.3.4 in c:\\programdata\\anaconda3\\lib\\site-packages (from urllib3[secure,socks]~=1.26->selenium) (3.4.7)\n",
      "Requirement already satisfied: certifi in c:\\programdata\\anaconda3\\lib\\site-packages (from urllib3[secure,socks]~=1.26->selenium) (2020.12.5)\n",
      "Requirement already satisfied: PySocks!=1.5.7,<2.0,>=1.5.6 in c:\\programdata\\anaconda3\\lib\\site-packages (from urllib3[secure,socks]~=1.26->selenium) (1.7.1)\n",
      "Requirement already satisfied: six>=1.5.2 in c:\\programdata\\anaconda3\\lib\\site-packages (from pyOpenSSL>=0.14->urllib3[secure,socks]~=1.26->selenium) (1.15.0)\n",
      "Requirement already satisfied: h11<1,>=0.9.0 in c:\\programdata\\anaconda3\\lib\\site-packages (from wsproto>=0.14->trio-websocket~=0.9->selenium) (0.13.0)\n"
     ]
    }
   ],
   "source": [
    "! pip install selenium"
   ]
  },
  {
   "cell_type": "markdown",
   "id": "a60ab571",
   "metadata": {},
   "source": [
    "# question 4"
   ]
  },
  {
   "cell_type": "code",
   "execution_count": 1,
   "id": "7d297417",
   "metadata": {},
   "outputs": [],
   "source": [
    "# import required libraries\n",
    "import selenium\n",
    "import pandas as pd\n",
    "from selenium import webdriver\n",
    "import warnings\n",
    "warnings.filterwarnings(\"ignore\")\n",
    "import time"
   ]
  },
  {
   "cell_type": "code",
   "execution_count": 6,
   "id": "b3d99db0",
   "metadata": {},
   "outputs": [],
   "source": [
    "driver = webdriver.Chrome(r\"C:\\Users\\reach\\chromedriver.exe\")"
   ]
  },
  {
   "cell_type": "code",
   "execution_count": 3,
   "id": "88b4a46f",
   "metadata": {},
   "outputs": [],
   "source": [
    "driver=webdriver.Chrome(\"chromedriver.exe\")"
   ]
  },
  {
   "cell_type": "code",
   "execution_count": 4,
   "id": "c79ab8c3",
   "metadata": {},
   "outputs": [],
   "source": [
    "driver.close()"
   ]
  },
  {
   "cell_type": "code",
   "execution_count": 8,
   "id": "f834a449",
   "metadata": {},
   "outputs": [],
   "source": [
    "driver.get('https://www.flipkart.com/')"
   ]
  },
  {
   "cell_type": "code",
   "execution_count": 9,
   "id": "b709c8ca",
   "metadata": {},
   "outputs": [],
   "source": [
    "try:\n",
    "    search_button_4=driver_4.find_element_by_xpath(\"/html/body/div[2]/div/div/button\")\n",
    "    search_button_4.click()\n",
    "except:\n",
    "    pass\n"
   ]
  },
  {
   "cell_type": "code",
   "execution_count": 11,
   "id": "36f68584",
   "metadata": {},
   "outputs": [],
   "source": [
    "search_field_4=driver.find_element_by_class_name(\"_3704LK\")\n",
    "search_field_4.send_keys(\"sunglasses\")\n"
   ]
  },
  {
   "cell_type": "code",
   "execution_count": 14,
   "id": "159941a7",
   "metadata": {},
   "outputs": [],
   "source": [
    "search_button_4=driver.find_element_by_xpath(\"/html/body/div[1]/div/div[1]/div[1]/div[2]/div[2]/form/div/div/input\")\n",
    "search_button_4.click()\n"
   ]
  },
  {
   "cell_type": "code",
   "execution_count": 16,
   "id": "47325587",
   "metadata": {},
   "outputs": [],
   "source": [
    "brands_4=[]\n",
    "prod_desc_4=[]\n",
    "prices_4=[]\n",
    "discount_4=[]\n",
    "count=0\n",
    "while count < 100:\n",
    "    brand4=driver.find_elements_by_xpath('//div[@class=\"_2WkVRV\"]')\n",
    "    proddesc4=driver.find_elements_by_xpath('//a[starts-with (@class,\"IRpwTa\")]')\n",
    "    price4=driver.find_elements_by_xpath('//div[@class=\"_30jeq3\"]')\n",
    "    discount4=driver.find_elements_by_xpath('//div[@class=\"_3Ay6Sb\"]/span')\n",
    "    for i in range(len(brand4)):\n",
    "        count += 1\n",
    "        if count == 101:\n",
    "            break\n",
    "        else:\n",
    "            brands_4.append(brand4[i].text)\n",
    "            prod_desc_4.append(proddesc4[i].text)\n",
    "            prices_4.append(price4[i].text[1:])\n",
    "            discount_4.append(discount4[i].text)\n",
    "    search_button_4=driver.find_element_by_xpath('/html/body/div[1]/div/div[3]/div[1]/div[2]/div[12]/div/div/nav/a[11]')\n",
    "    search_button_4.click()\n",
    "    time.sleep(5)\n"
   ]
  },
  {
   "cell_type": "code",
   "execution_count": 17,
   "id": "65f75dd0",
   "metadata": {},
   "outputs": [],
   "source": [
    "data=list(zip(brands_4,prod_desc_4,prices_4,discount_4))\n"
   ]
  },
  {
   "cell_type": "code",
   "execution_count": 18,
   "id": "328bc98c",
   "metadata": {},
   "outputs": [
    {
     "data": {
      "text/html": [
       "<div>\n",
       "<style scoped>\n",
       "    .dataframe tbody tr th:only-of-type {\n",
       "        vertical-align: middle;\n",
       "    }\n",
       "\n",
       "    .dataframe tbody tr th {\n",
       "        vertical-align: top;\n",
       "    }\n",
       "\n",
       "    .dataframe thead th {\n",
       "        text-align: right;\n",
       "    }\n",
       "</style>\n",
       "<table border=\"1\" class=\"dataframe\">\n",
       "  <thead>\n",
       "    <tr style=\"text-align: right;\">\n",
       "      <th></th>\n",
       "      <th>Brand of Sunglasses</th>\n",
       "      <th>Product Description</th>\n",
       "      <th>Price of Sunglasses</th>\n",
       "      <th>Discount %</th>\n",
       "    </tr>\n",
       "  </thead>\n",
       "  <tbody>\n",
       "    <tr>\n",
       "      <th>0</th>\n",
       "      <td>ROZZETTA CRAFT</td>\n",
       "      <td>UV Protection, Gradient Rectangular Sunglasses...</td>\n",
       "      <td>426</td>\n",
       "      <td>78% off</td>\n",
       "    </tr>\n",
       "    <tr>\n",
       "      <th>1</th>\n",
       "      <td>ROZZETTA CRAFT</td>\n",
       "      <td>UV Protection Spectacle Sunglasses (Free Size)</td>\n",
       "      <td>399</td>\n",
       "      <td>80% off</td>\n",
       "    </tr>\n",
       "    <tr>\n",
       "      <th>2</th>\n",
       "      <td>Elligator</td>\n",
       "      <td>UV Protection Round Sunglasses (54)</td>\n",
       "      <td>295</td>\n",
       "      <td>88% off</td>\n",
       "    </tr>\n",
       "    <tr>\n",
       "      <th>3</th>\n",
       "      <td>PIRASO</td>\n",
       "      <td>UV Protection Aviator Sunglasses (54)</td>\n",
       "      <td>249</td>\n",
       "      <td>84% off</td>\n",
       "    </tr>\n",
       "    <tr>\n",
       "      <th>4</th>\n",
       "      <td>Fastrack</td>\n",
       "      <td>UV Protection Rectangular Sunglasses (Free Size)</td>\n",
       "      <td>639</td>\n",
       "      <td>20% off</td>\n",
       "    </tr>\n",
       "    <tr>\n",
       "      <th>...</th>\n",
       "      <td>...</td>\n",
       "      <td>...</td>\n",
       "      <td>...</td>\n",
       "      <td>...</td>\n",
       "    </tr>\n",
       "    <tr>\n",
       "      <th>95</th>\n",
       "      <td>john jacobs</td>\n",
       "      <td>UV Protection Aviator Sunglasses (55)</td>\n",
       "      <td>3,500</td>\n",
       "      <td>30% off</td>\n",
       "    </tr>\n",
       "    <tr>\n",
       "      <th>96</th>\n",
       "      <td>PHENOMENAL</td>\n",
       "      <td>UV Protection, Mirrored, Gradient Retro Square...</td>\n",
       "      <td>289</td>\n",
       "      <td>85% off</td>\n",
       "    </tr>\n",
       "    <tr>\n",
       "      <th>97</th>\n",
       "      <td>NuVew</td>\n",
       "      <td>UV Protection Sports Sunglasses (73)</td>\n",
       "      <td>364</td>\n",
       "      <td>70% off</td>\n",
       "    </tr>\n",
       "    <tr>\n",
       "      <th>98</th>\n",
       "      <td>GANSTA</td>\n",
       "      <td>UV Protection, Mirrored Wayfarer Sunglasses (53)</td>\n",
       "      <td>224</td>\n",
       "      <td>77% off</td>\n",
       "    </tr>\n",
       "    <tr>\n",
       "      <th>99</th>\n",
       "      <td>john jacobs</td>\n",
       "      <td>UV Protection Round Sunglasses (54)</td>\n",
       "      <td>2,500</td>\n",
       "      <td>50% off</td>\n",
       "    </tr>\n",
       "  </tbody>\n",
       "</table>\n",
       "<p>100 rows × 4 columns</p>\n",
       "</div>"
      ],
      "text/plain": [
       "   Brand of Sunglasses                                Product Description  \\\n",
       "0       ROZZETTA CRAFT  UV Protection, Gradient Rectangular Sunglasses...   \n",
       "1       ROZZETTA CRAFT     UV Protection Spectacle Sunglasses (Free Size)   \n",
       "2            Elligator                UV Protection Round Sunglasses (54)   \n",
       "3               PIRASO              UV Protection Aviator Sunglasses (54)   \n",
       "4             Fastrack   UV Protection Rectangular Sunglasses (Free Size)   \n",
       "..                 ...                                                ...   \n",
       "95         john jacobs              UV Protection Aviator Sunglasses (55)   \n",
       "96          PHENOMENAL  UV Protection, Mirrored, Gradient Retro Square...   \n",
       "97               NuVew               UV Protection Sports Sunglasses (73)   \n",
       "98              GANSTA   UV Protection, Mirrored Wayfarer Sunglasses (53)   \n",
       "99         john jacobs                UV Protection Round Sunglasses (54)   \n",
       "\n",
       "   Price of Sunglasses Discount %  \n",
       "0                  426    78% off  \n",
       "1                  399    80% off  \n",
       "2                  295    88% off  \n",
       "3                  249    84% off  \n",
       "4                  639    20% off  \n",
       "..                 ...        ...  \n",
       "95               3,500    30% off  \n",
       "96                 289    85% off  \n",
       "97                 364    70% off  \n",
       "98                 224    77% off  \n",
       "99               2,500    50% off  \n",
       "\n",
       "[100 rows x 4 columns]"
      ]
     },
     "execution_count": 18,
     "metadata": {},
     "output_type": "execute_result"
    }
   ],
   "source": [
    "df_sunglasses=pd.DataFrame(data,columns=['Brand of Sunglasses','Product Description','Price of Sunglasses','Discount %'])\n",
    "df_sunglasses\n"
   ]
  },
  {
   "cell_type": "markdown",
   "id": "661572e5",
   "metadata": {},
   "source": [
    "# question7"
   ]
  },
  {
   "cell_type": "code",
   "execution_count": 107,
   "id": "73172f12",
   "metadata": {},
   "outputs": [],
   "source": [
    "import selenium\n",
    "import pandas as pd\n",
    "from selenium import webdriver\n",
    "import warnings\n",
    "warnings.filterwarnings(\"ignore\")\n",
    "import time"
   ]
  },
  {
   "cell_type": "code",
   "execution_count": 108,
   "id": "4e6bbfac",
   "metadata": {},
   "outputs": [],
   "source": [
    "driver=webdriver.Chrome(r\"C:\\Users\\reach\\chromedriver.exe\")"
   ]
  },
  {
   "cell_type": "code",
   "execution_count": 110,
   "id": "4b5e6ead",
   "metadata": {},
   "outputs": [],
   "source": [
    "driver.get('https://www.myntra.com/shoes')"
   ]
  },
  {
   "cell_type": "code",
   "execution_count": 111,
   "id": "8e144c23",
   "metadata": {},
   "outputs": [],
   "source": [
    "price_filter=driver.find_element_by_xpath('/html/body/div[2]/div/div[1]/main/div[3]/div[1]/section/div/div[5]/ul/li[2]/label/div')\n",
    "price_filter.click()\n"
   ]
  },
  {
   "cell_type": "code",
   "execution_count": 112,
   "id": "16b1bd80",
   "metadata": {},
   "outputs": [],
   "source": [
    "color_filter=driver.find_element_by_xpath('/html/body/div[2]/div/div[1]/main/div[3]/div[1]/section/div/div[6]/ul/li[1]/label/div')\n",
    "color_filter.click()\n"
   ]
  },
  {
   "cell_type": "code",
   "execution_count": 113,
   "id": "c0c0a679",
   "metadata": {},
   "outputs": [],
   "source": [
    "url=\"https://www.myntra.com/shoes?f=Color%3ABlack_36454f&rf=Price%3A7187.0_14125.0_7187.0%20TO%2014125.0\"\n"
   ]
  },
  {
   "cell_type": "code",
   "execution_count": 114,
   "id": "cc1ef2e6",
   "metadata": {},
   "outputs": [],
   "source": [
    "driver.get(url)"
   ]
  },
  {
   "cell_type": "code",
   "execution_count": 115,
   "id": "b882a3e8",
   "metadata": {},
   "outputs": [],
   "source": [
    "brand_myntra=[]\n",
    "shoe_myntra=[]\n",
    "price_myntra=[]\n"
   ]
  },
  {
   "cell_type": "code",
   "execution_count": 117,
   "id": "a7e0f610",
   "metadata": {},
   "outputs": [
    {
     "data": {
      "text/plain": [
       "[<selenium.webdriver.remote.webelement.WebElement (session=\"bc2896d44be6f6af3c22b4e3e73c1c84\", element=\"bd9b83e8-b907-4756-b656-9d35d3b454c1\")>,\n",
       " <selenium.webdriver.remote.webelement.WebElement (session=\"bc2896d44be6f6af3c22b4e3e73c1c84\", element=\"76250310-393e-4e76-903c-f2b661cab5bb\")>,\n",
       " <selenium.webdriver.remote.webelement.WebElement (session=\"bc2896d44be6f6af3c22b4e3e73c1c84\", element=\"7f9b0f7c-b87e-444f-80e2-4e1acb36c4de\")>,\n",
       " <selenium.webdriver.remote.webelement.WebElement (session=\"bc2896d44be6f6af3c22b4e3e73c1c84\", element=\"f37cc426-0b88-4501-8965-6d8c3e7f7a15\")>,\n",
       " <selenium.webdriver.remote.webelement.WebElement (session=\"bc2896d44be6f6af3c22b4e3e73c1c84\", element=\"c59f35f0-48f2-4f56-b467-01190fc27cdf\")>,\n",
       " <selenium.webdriver.remote.webelement.WebElement (session=\"bc2896d44be6f6af3c22b4e3e73c1c84\", element=\"ffb7f650-97bc-4fb0-8cff-06c3a181f02c\")>,\n",
       " <selenium.webdriver.remote.webelement.WebElement (session=\"bc2896d44be6f6af3c22b4e3e73c1c84\", element=\"ccba4e65-212b-4371-a6aa-436d170e2b32\")>,\n",
       " <selenium.webdriver.remote.webelement.WebElement (session=\"bc2896d44be6f6af3c22b4e3e73c1c84\", element=\"69cd873c-9a68-450b-a083-61a9298d4501\")>,\n",
       " <selenium.webdriver.remote.webelement.WebElement (session=\"bc2896d44be6f6af3c22b4e3e73c1c84\", element=\"25c25f1d-43c7-4c4c-8a42-898463ccb8d9\")>,\n",
       " <selenium.webdriver.remote.webelement.WebElement (session=\"bc2896d44be6f6af3c22b4e3e73c1c84\", element=\"9b1a3f79-5870-4ccd-92e0-f9da8fe55fe3\")>,\n",
       " <selenium.webdriver.remote.webelement.WebElement (session=\"bc2896d44be6f6af3c22b4e3e73c1c84\", element=\"1714a10d-e456-4109-8ea0-5eb485fff9cc\")>,\n",
       " <selenium.webdriver.remote.webelement.WebElement (session=\"bc2896d44be6f6af3c22b4e3e73c1c84\", element=\"28d7d1fc-47f7-40df-b42c-ddfa138ed190\")>,\n",
       " <selenium.webdriver.remote.webelement.WebElement (session=\"bc2896d44be6f6af3c22b4e3e73c1c84\", element=\"7660164e-ba7b-4b4b-9537-9382d1435fe8\")>,\n",
       " <selenium.webdriver.remote.webelement.WebElement (session=\"bc2896d44be6f6af3c22b4e3e73c1c84\", element=\"a9d14438-282e-4eb5-8f1b-764af4a66d83\")>,\n",
       " <selenium.webdriver.remote.webelement.WebElement (session=\"bc2896d44be6f6af3c22b4e3e73c1c84\", element=\"475a73a5-a008-43b1-89d9-c29eaee22525\")>,\n",
       " <selenium.webdriver.remote.webelement.WebElement (session=\"bc2896d44be6f6af3c22b4e3e73c1c84\", element=\"79f61d8c-917f-4216-8786-0900c0e33ccb\")>,\n",
       " <selenium.webdriver.remote.webelement.WebElement (session=\"bc2896d44be6f6af3c22b4e3e73c1c84\", element=\"c5ebdf38-28a1-456e-99ee-0fef23aa1502\")>,\n",
       " <selenium.webdriver.remote.webelement.WebElement (session=\"bc2896d44be6f6af3c22b4e3e73c1c84\", element=\"03ae96c4-40de-4431-a980-12c294eb1a9e\")>,\n",
       " <selenium.webdriver.remote.webelement.WebElement (session=\"bc2896d44be6f6af3c22b4e3e73c1c84\", element=\"300ccd77-5515-4fa8-a1ff-12d6e7d872b9\")>,\n",
       " <selenium.webdriver.remote.webelement.WebElement (session=\"bc2896d44be6f6af3c22b4e3e73c1c84\", element=\"d4b839c4-ff25-4404-bfb9-33a0d4e60f14\")>,\n",
       " <selenium.webdriver.remote.webelement.WebElement (session=\"bc2896d44be6f6af3c22b4e3e73c1c84\", element=\"f129bdbf-90e6-4ebb-bea7-b0baeffab59e\")>,\n",
       " <selenium.webdriver.remote.webelement.WebElement (session=\"bc2896d44be6f6af3c22b4e3e73c1c84\", element=\"0809c11d-0eb3-450c-a650-efed8da73607\")>,\n",
       " <selenium.webdriver.remote.webelement.WebElement (session=\"bc2896d44be6f6af3c22b4e3e73c1c84\", element=\"ea400525-edd1-40d5-80fd-bf2e30643edb\")>,\n",
       " <selenium.webdriver.remote.webelement.WebElement (session=\"bc2896d44be6f6af3c22b4e3e73c1c84\", element=\"c0151d78-6b5c-4161-a2cf-4315c10ba0b8\")>,\n",
       " <selenium.webdriver.remote.webelement.WebElement (session=\"bc2896d44be6f6af3c22b4e3e73c1c84\", element=\"b8c446e7-58ac-4b5f-bc02-6d7cd410bab5\")>,\n",
       " <selenium.webdriver.remote.webelement.WebElement (session=\"bc2896d44be6f6af3c22b4e3e73c1c84\", element=\"1615ebf7-1677-4099-aed9-fffe5a3909ee\")>,\n",
       " <selenium.webdriver.remote.webelement.WebElement (session=\"bc2896d44be6f6af3c22b4e3e73c1c84\", element=\"5bb8050e-96e4-484b-be64-26c02ea039e9\")>,\n",
       " <selenium.webdriver.remote.webelement.WebElement (session=\"bc2896d44be6f6af3c22b4e3e73c1c84\", element=\"ace5faa8-02d3-4729-ba60-a38ceeee05e4\")>,\n",
       " <selenium.webdriver.remote.webelement.WebElement (session=\"bc2896d44be6f6af3c22b4e3e73c1c84\", element=\"18b5d6fb-5c26-4ddf-9d27-2667ac8eae52\")>,\n",
       " <selenium.webdriver.remote.webelement.WebElement (session=\"bc2896d44be6f6af3c22b4e3e73c1c84\", element=\"517797bf-c8f5-4272-b470-6058808ca977\")>,\n",
       " <selenium.webdriver.remote.webelement.WebElement (session=\"bc2896d44be6f6af3c22b4e3e73c1c84\", element=\"f5c5f645-b8ad-4554-9de4-f7267c97e296\")>,\n",
       " <selenium.webdriver.remote.webelement.WebElement (session=\"bc2896d44be6f6af3c22b4e3e73c1c84\", element=\"cae7194c-c005-48fc-b074-c38c8b2d5bdc\")>,\n",
       " <selenium.webdriver.remote.webelement.WebElement (session=\"bc2896d44be6f6af3c22b4e3e73c1c84\", element=\"c726cea9-1969-4041-93b7-8f806c3fc4ca\")>,\n",
       " <selenium.webdriver.remote.webelement.WebElement (session=\"bc2896d44be6f6af3c22b4e3e73c1c84\", element=\"0a68a60e-821f-40c9-b34f-2f5b8bd9329d\")>,\n",
       " <selenium.webdriver.remote.webelement.WebElement (session=\"bc2896d44be6f6af3c22b4e3e73c1c84\", element=\"39bcfb91-b1ab-4ebc-8607-177842dda6ca\")>,\n",
       " <selenium.webdriver.remote.webelement.WebElement (session=\"bc2896d44be6f6af3c22b4e3e73c1c84\", element=\"4ff37ff3-5b69-4229-b548-f3151d125b06\")>,\n",
       " <selenium.webdriver.remote.webelement.WebElement (session=\"bc2896d44be6f6af3c22b4e3e73c1c84\", element=\"b467c63c-2c6a-4a95-b646-776db052d971\")>,\n",
       " <selenium.webdriver.remote.webelement.WebElement (session=\"bc2896d44be6f6af3c22b4e3e73c1c84\", element=\"34b37db9-993d-4129-b46f-b9cbfd703567\")>,\n",
       " <selenium.webdriver.remote.webelement.WebElement (session=\"bc2896d44be6f6af3c22b4e3e73c1c84\", element=\"1ff87396-eca7-4639-b7fb-badfc32f804f\")>,\n",
       " <selenium.webdriver.remote.webelement.WebElement (session=\"bc2896d44be6f6af3c22b4e3e73c1c84\", element=\"bd52cc0b-fb95-4608-b738-2c0be92695fd\")>,\n",
       " <selenium.webdriver.remote.webelement.WebElement (session=\"bc2896d44be6f6af3c22b4e3e73c1c84\", element=\"4897ae59-8c37-4f44-b9eb-7a2f87a056d7\")>,\n",
       " <selenium.webdriver.remote.webelement.WebElement (session=\"bc2896d44be6f6af3c22b4e3e73c1c84\", element=\"387078fc-2d99-42e3-af32-0e34676c73f9\")>,\n",
       " <selenium.webdriver.remote.webelement.WebElement (session=\"bc2896d44be6f6af3c22b4e3e73c1c84\", element=\"f2c32be1-96a0-4e8d-bcfa-1c13ba269985\")>,\n",
       " <selenium.webdriver.remote.webelement.WebElement (session=\"bc2896d44be6f6af3c22b4e3e73c1c84\", element=\"bb3b179b-1908-4cdb-97e1-163710d4cec5\")>,\n",
       " <selenium.webdriver.remote.webelement.WebElement (session=\"bc2896d44be6f6af3c22b4e3e73c1c84\", element=\"f0ae1b14-e934-485c-9dd1-84dbd3c541f7\")>,\n",
       " <selenium.webdriver.remote.webelement.WebElement (session=\"bc2896d44be6f6af3c22b4e3e73c1c84\", element=\"453b9828-3b34-40e4-858b-d078b11ff8ff\")>,\n",
       " <selenium.webdriver.remote.webelement.WebElement (session=\"bc2896d44be6f6af3c22b4e3e73c1c84\", element=\"e7115545-d19d-4c74-a90c-70147f9580a9\")>,\n",
       " <selenium.webdriver.remote.webelement.WebElement (session=\"bc2896d44be6f6af3c22b4e3e73c1c84\", element=\"f69934bc-3a75-46aa-bba4-43068e856b09\")>,\n",
       " <selenium.webdriver.remote.webelement.WebElement (session=\"bc2896d44be6f6af3c22b4e3e73c1c84\", element=\"048904af-6378-46f6-b90a-65e8c4f1987f\")>,\n",
       " <selenium.webdriver.remote.webelement.WebElement (session=\"bc2896d44be6f6af3c22b4e3e73c1c84\", element=\"ce3793fd-389b-4d7d-8e7c-2ca6156aad62\")>]"
      ]
     },
     "execution_count": 117,
     "metadata": {},
     "output_type": "execute_result"
    }
   ],
   "source": [
    "brand_tags_myn1=driver.find_elements_by_xpath('//h3[@class=\"product-brand\"]')\n",
    "brand_tags_myn1\n"
   ]
  },
  {
   "cell_type": "code",
   "execution_count": 118,
   "id": "40537684",
   "metadata": {},
   "outputs": [
    {
     "data": {
      "text/plain": [
       "['Puma',\n",
       " 'ALDO',\n",
       " 'Skechers',\n",
       " 'one8 x PUMA',\n",
       " 'ADIDAS',\n",
       " 'Nike',\n",
       " 'Hush Puppies',\n",
       " 'ALDO',\n",
       " 'ALDO',\n",
       " 'Skechers',\n",
       " 'Nike',\n",
       " 'ALDO',\n",
       " 'Puma',\n",
       " 'Puma',\n",
       " 'Skechers',\n",
       " 'Columbia',\n",
       " 'PUMA Motorsport',\n",
       " 'Skechers',\n",
       " 'PUMA Motorsport',\n",
       " 'Hush Puppies',\n",
       " 'Reebok',\n",
       " 'ADIDAS',\n",
       " 'Bugatti',\n",
       " 'Puma',\n",
       " 'Clarks',\n",
       " 'PUMA Motorsport',\n",
       " 'ADIDAS Originals',\n",
       " 'Hush Puppies',\n",
       " 'PUMA Motorsport',\n",
       " 'ADIDAS',\n",
       " 'Puma',\n",
       " 'Tommy Hilfiger',\n",
       " 'ADIDAS',\n",
       " 'Puma',\n",
       " 'Hush Puppies',\n",
       " 'Saint G',\n",
       " 'Bugatti',\n",
       " 'Puma',\n",
       " 'Tommy Hilfiger',\n",
       " 'Tommy Hilfiger',\n",
       " 'ADIDAS Originals',\n",
       " 'PUMA Motorsport',\n",
       " 'PUMA Motorsport',\n",
       " 'DAVINCHI',\n",
       " 'Puma',\n",
       " 'Puma',\n",
       " 'DAVINCHI',\n",
       " 'ADIDAS',\n",
       " 'DAVINCHI',\n",
       " 'Bugatti']"
      ]
     },
     "execution_count": 118,
     "metadata": {},
     "output_type": "execute_result"
    }
   ],
   "source": [
    "for i in brand_tags_myn1:\n",
    "    br1=i.text\n",
    "    brand_myntra.append(br1)\n",
    "brand_myntra\n"
   ]
  },
  {
   "cell_type": "code",
   "execution_count": 119,
   "id": "03367b15",
   "metadata": {},
   "outputs": [
    {
     "data": {
      "text/plain": [
       "[<selenium.webdriver.remote.webelement.WebElement (session=\"bc2896d44be6f6af3c22b4e3e73c1c84\", element=\"f6d1db07-c43c-49fc-bebc-55aea2d219b9\")>,\n",
       " <selenium.webdriver.remote.webelement.WebElement (session=\"bc2896d44be6f6af3c22b4e3e73c1c84\", element=\"8296a1da-7661-4043-8656-4c7a8e15e404\")>,\n",
       " <selenium.webdriver.remote.webelement.WebElement (session=\"bc2896d44be6f6af3c22b4e3e73c1c84\", element=\"b8a80534-d423-40d0-971a-c0ad42cb2e4b\")>,\n",
       " <selenium.webdriver.remote.webelement.WebElement (session=\"bc2896d44be6f6af3c22b4e3e73c1c84\", element=\"01007ea8-91a7-47a9-9f75-9ad1175ca53d\")>,\n",
       " <selenium.webdriver.remote.webelement.WebElement (session=\"bc2896d44be6f6af3c22b4e3e73c1c84\", element=\"d1a58345-7496-4fe0-bab9-5f0151d0552c\")>,\n",
       " <selenium.webdriver.remote.webelement.WebElement (session=\"bc2896d44be6f6af3c22b4e3e73c1c84\", element=\"6cc61047-22a9-4575-bd14-1d9c21b6f40f\")>,\n",
       " <selenium.webdriver.remote.webelement.WebElement (session=\"bc2896d44be6f6af3c22b4e3e73c1c84\", element=\"9bc9544a-000c-47a6-8957-0e977568c69b\")>,\n",
       " <selenium.webdriver.remote.webelement.WebElement (session=\"bc2896d44be6f6af3c22b4e3e73c1c84\", element=\"1fe82d60-3630-40f5-90f2-bb5c5422f5ac\")>,\n",
       " <selenium.webdriver.remote.webelement.WebElement (session=\"bc2896d44be6f6af3c22b4e3e73c1c84\", element=\"657d41e2-d80e-469a-b13c-b9d751857a3c\")>,\n",
       " <selenium.webdriver.remote.webelement.WebElement (session=\"bc2896d44be6f6af3c22b4e3e73c1c84\", element=\"262d246d-a0d6-4a5f-b570-bc3b38ecf4b9\")>,\n",
       " <selenium.webdriver.remote.webelement.WebElement (session=\"bc2896d44be6f6af3c22b4e3e73c1c84\", element=\"b12ef8d5-23f1-404f-aa6c-2dcb73f74935\")>,\n",
       " <selenium.webdriver.remote.webelement.WebElement (session=\"bc2896d44be6f6af3c22b4e3e73c1c84\", element=\"c5766794-aade-45e3-b670-9388682956d2\")>,\n",
       " <selenium.webdriver.remote.webelement.WebElement (session=\"bc2896d44be6f6af3c22b4e3e73c1c84\", element=\"65ea2bb5-34ed-4f70-98bf-42d77e4a6d9c\")>,\n",
       " <selenium.webdriver.remote.webelement.WebElement (session=\"bc2896d44be6f6af3c22b4e3e73c1c84\", element=\"1ab0383b-fe6c-4d53-a844-d1312aa2d215\")>,\n",
       " <selenium.webdriver.remote.webelement.WebElement (session=\"bc2896d44be6f6af3c22b4e3e73c1c84\", element=\"c96e5768-f8be-4f6c-86ce-9b3ad775a3e7\")>,\n",
       " <selenium.webdriver.remote.webelement.WebElement (session=\"bc2896d44be6f6af3c22b4e3e73c1c84\", element=\"9173e8ef-e31a-4c89-bc30-00ae58f7d7b7\")>,\n",
       " <selenium.webdriver.remote.webelement.WebElement (session=\"bc2896d44be6f6af3c22b4e3e73c1c84\", element=\"b6c1854f-9b11-435d-addf-ca57b9cc63c4\")>,\n",
       " <selenium.webdriver.remote.webelement.WebElement (session=\"bc2896d44be6f6af3c22b4e3e73c1c84\", element=\"8324102d-5770-4157-b5f6-cd1cf6e27158\")>,\n",
       " <selenium.webdriver.remote.webelement.WebElement (session=\"bc2896d44be6f6af3c22b4e3e73c1c84\", element=\"537aae6a-c2be-4404-96a8-82f8556e90ba\")>,\n",
       " <selenium.webdriver.remote.webelement.WebElement (session=\"bc2896d44be6f6af3c22b4e3e73c1c84\", element=\"331a868f-4521-4169-aa86-7c68d6373dda\")>,\n",
       " <selenium.webdriver.remote.webelement.WebElement (session=\"bc2896d44be6f6af3c22b4e3e73c1c84\", element=\"beee554e-b685-4b5e-8180-1d4aeaa02ef6\")>,\n",
       " <selenium.webdriver.remote.webelement.WebElement (session=\"bc2896d44be6f6af3c22b4e3e73c1c84\", element=\"12f17543-5aa5-4ccd-9e5c-b7bea9f12ca5\")>,\n",
       " <selenium.webdriver.remote.webelement.WebElement (session=\"bc2896d44be6f6af3c22b4e3e73c1c84\", element=\"8741ed08-91f5-48ca-a0e8-b8034ae63173\")>,\n",
       " <selenium.webdriver.remote.webelement.WebElement (session=\"bc2896d44be6f6af3c22b4e3e73c1c84\", element=\"74e028bf-530d-4743-b1a1-c384ca297020\")>,\n",
       " <selenium.webdriver.remote.webelement.WebElement (session=\"bc2896d44be6f6af3c22b4e3e73c1c84\", element=\"033b2449-1bd0-42f7-b42e-e9d04dd3beaa\")>,\n",
       " <selenium.webdriver.remote.webelement.WebElement (session=\"bc2896d44be6f6af3c22b4e3e73c1c84\", element=\"3d54406f-8057-4a1a-9d7c-2337e63fee69\")>,\n",
       " <selenium.webdriver.remote.webelement.WebElement (session=\"bc2896d44be6f6af3c22b4e3e73c1c84\", element=\"df8585ea-9fca-4c10-a093-52076ca5c12a\")>,\n",
       " <selenium.webdriver.remote.webelement.WebElement (session=\"bc2896d44be6f6af3c22b4e3e73c1c84\", element=\"704b6244-d4d8-4382-9d61-8eecf504e0c2\")>,\n",
       " <selenium.webdriver.remote.webelement.WebElement (session=\"bc2896d44be6f6af3c22b4e3e73c1c84\", element=\"349aefba-19a4-4de7-b1a9-57ea1361fb63\")>,\n",
       " <selenium.webdriver.remote.webelement.WebElement (session=\"bc2896d44be6f6af3c22b4e3e73c1c84\", element=\"d7043b3a-3a00-47ab-a72d-ad3760694ab6\")>,\n",
       " <selenium.webdriver.remote.webelement.WebElement (session=\"bc2896d44be6f6af3c22b4e3e73c1c84\", element=\"49f33eaa-11a8-4341-bc8b-bc04395cf4e1\")>,\n",
       " <selenium.webdriver.remote.webelement.WebElement (session=\"bc2896d44be6f6af3c22b4e3e73c1c84\", element=\"6a34e990-ba55-483e-8d6b-5c240c90296e\")>,\n",
       " <selenium.webdriver.remote.webelement.WebElement (session=\"bc2896d44be6f6af3c22b4e3e73c1c84\", element=\"11ff6cd5-5b70-43eb-8aba-4a60a775327a\")>,\n",
       " <selenium.webdriver.remote.webelement.WebElement (session=\"bc2896d44be6f6af3c22b4e3e73c1c84\", element=\"5631ebc9-e400-4397-a54e-301a7d4aae5c\")>,\n",
       " <selenium.webdriver.remote.webelement.WebElement (session=\"bc2896d44be6f6af3c22b4e3e73c1c84\", element=\"478ff6ac-b4aa-462a-a1ec-0266019adca9\")>,\n",
       " <selenium.webdriver.remote.webelement.WebElement (session=\"bc2896d44be6f6af3c22b4e3e73c1c84\", element=\"d154f0b9-0fee-4ed5-ab28-c4f329fdca32\")>,\n",
       " <selenium.webdriver.remote.webelement.WebElement (session=\"bc2896d44be6f6af3c22b4e3e73c1c84\", element=\"0a8d560a-46f0-466a-9264-b7f6b3e55463\")>,\n",
       " <selenium.webdriver.remote.webelement.WebElement (session=\"bc2896d44be6f6af3c22b4e3e73c1c84\", element=\"22cc50db-2efe-4786-bf76-8b5c4602187d\")>,\n",
       " <selenium.webdriver.remote.webelement.WebElement (session=\"bc2896d44be6f6af3c22b4e3e73c1c84\", element=\"7f618b48-7b7c-4ec1-9f38-bb7ac845c378\")>,\n",
       " <selenium.webdriver.remote.webelement.WebElement (session=\"bc2896d44be6f6af3c22b4e3e73c1c84\", element=\"3f4c89bc-95ca-46fa-a74a-2a8991de9615\")>,\n",
       " <selenium.webdriver.remote.webelement.WebElement (session=\"bc2896d44be6f6af3c22b4e3e73c1c84\", element=\"0f7de132-8a45-4ad6-af2a-2b04ab481156\")>,\n",
       " <selenium.webdriver.remote.webelement.WebElement (session=\"bc2896d44be6f6af3c22b4e3e73c1c84\", element=\"8c3eb4f7-8091-465e-a988-606a1302608c\")>,\n",
       " <selenium.webdriver.remote.webelement.WebElement (session=\"bc2896d44be6f6af3c22b4e3e73c1c84\", element=\"9be8a9d5-0c9c-472c-a472-7439e1b739c1\")>,\n",
       " <selenium.webdriver.remote.webelement.WebElement (session=\"bc2896d44be6f6af3c22b4e3e73c1c84\", element=\"1b9d252d-338e-4b28-aab5-bd5118d16a1d\")>,\n",
       " <selenium.webdriver.remote.webelement.WebElement (session=\"bc2896d44be6f6af3c22b4e3e73c1c84\", element=\"2649a29d-5488-4e9f-97c6-a94c5f886e8e\")>,\n",
       " <selenium.webdriver.remote.webelement.WebElement (session=\"bc2896d44be6f6af3c22b4e3e73c1c84\", element=\"31e5d014-d735-4525-8cc7-c271f6d052ed\")>,\n",
       " <selenium.webdriver.remote.webelement.WebElement (session=\"bc2896d44be6f6af3c22b4e3e73c1c84\", element=\"672ad749-221f-47c1-8901-40ec9e6f085a\")>,\n",
       " <selenium.webdriver.remote.webelement.WebElement (session=\"bc2896d44be6f6af3c22b4e3e73c1c84\", element=\"23b5d74e-c5dd-4e1f-bc3f-2b53713eff8b\")>,\n",
       " <selenium.webdriver.remote.webelement.WebElement (session=\"bc2896d44be6f6af3c22b4e3e73c1c84\", element=\"e317c190-b954-42a0-b84d-642b9a94d97b\")>,\n",
       " <selenium.webdriver.remote.webelement.WebElement (session=\"bc2896d44be6f6af3c22b4e3e73c1c84\", element=\"0575c2e7-de35-442f-b27a-cc867c832775\")>]"
      ]
     },
     "execution_count": 119,
     "metadata": {},
     "output_type": "execute_result"
    }
   ],
   "source": [
    "shoe_tags_myn1=driver.find_elements_by_xpath('//h4[@class=\"product-product\"]')\n",
    "shoe_tags_myn1\n"
   ]
  },
  {
   "cell_type": "code",
   "execution_count": 120,
   "id": "2fa27b04",
   "metadata": {},
   "outputs": [
    {
     "data": {
      "text/plain": [
       "['Men Jamming 2.0 Running Shoes',\n",
       " 'Men Leather Driving Shoes',\n",
       " 'Men Max Cushioning Running',\n",
       " 'Men Fuse One8 Training Shoes',\n",
       " 'Men Dropset Training Shoes',\n",
       " \"AIRFORCE 1'07 LV8 EMB Sneakers\",\n",
       " 'Men Solid Leather Formal Slip-Ons',\n",
       " 'Men Printed Sneakers',\n",
       " 'Men Woven Design Sneakers',\n",
       " 'Men Walking Shoes',\n",
       " 'Men Air Max Dawn Sneakers',\n",
       " 'Men Leather Loafers',\n",
       " 'Electrify Nitro Running Shoes',\n",
       " 'Eternity Nitro Running Shoes',\n",
       " 'Men Sky Vault Walking Shoes',\n",
       " 'Men FACET OUTDRY Trekking Shoe',\n",
       " 'Unisex Ferrari IONSpeed',\n",
       " 'Men Monster Vertex Sneakers',\n",
       " 'Ferrari X-Ray Speed Sneakers',\n",
       " 'Men Formal Derbys',\n",
       " 'Men Zig Dynamica 2.0 Running',\n",
       " 'Men Sl20.3 Running Shoes',\n",
       " 'Men Solid Sneakers',\n",
       " 'Men Golf Shoes',\n",
       " 'Men Leather Derbys',\n",
       " 'Men ZenonSpeed Sneakers',\n",
       " 'Men Solid Ozweego Sneakers',\n",
       " 'Men Solid Formal Slip-Ons',\n",
       " 'Unisex Ferrari Drift Cat Delta',\n",
       " 'Men Solar Glide 5 Running Shoe',\n",
       " 'Men Deviate Nitro Shoes',\n",
       " 'Men Textured Loafers',\n",
       " 'Women Supernova Running Shoes',\n",
       " 'Women Kosmo Rider DC5 Sneakers',\n",
       " 'Men Solid Leather Formal Slip-Ons',\n",
       " 'Leather Block Sandals',\n",
       " 'Men Black Formal Derby Shoes',\n",
       " 'Men Running Shoes',\n",
       " 'Men Leather Sneakers',\n",
       " 'Men Flexi Sneakers',\n",
       " 'Men Solid Retropy F2 Sneakers',\n",
       " 'Unisex Mercedes F1 R-Cat',\n",
       " 'Ferrari R-Cat Machina Sneakers',\n",
       " 'Men Textured Formal Leather Loafers',\n",
       " 'Mirage Sport Hacked Sneakers',\n",
       " 'Unisex KING Top FG Shoes',\n",
       " 'Men Solid Leather Formal Loafers',\n",
       " 'Women KarlieKlossX9000 Running',\n",
       " 'Men Solid Leather Formal Derbys',\n",
       " 'Men Leather Driving Shoes']"
      ]
     },
     "execution_count": 120,
     "metadata": {},
     "output_type": "execute_result"
    }
   ],
   "source": [
    "for i in shoe_tags_myn1:\n",
    "    sd1=i.text\n",
    "    shoe_myntra.append(sd1)\n",
    "shoe_myntra\n"
   ]
  },
  {
   "cell_type": "code",
   "execution_count": 127,
   "id": "1109f05e",
   "metadata": {},
   "outputs": [
    {
     "data": {
      "text/plain": [
       "[<selenium.webdriver.remote.webelement.WebElement (session=\"bc2896d44be6f6af3c22b4e3e73c1c84\", element=\"abb234f2-dafb-4a1f-bc6f-deb0d50e2f4d\")>,\n",
       " <selenium.webdriver.remote.webelement.WebElement (session=\"bc2896d44be6f6af3c22b4e3e73c1c84\", element=\"529d7f58-7dd0-432d-a049-2fee8c76c855\")>,\n",
       " <selenium.webdriver.remote.webelement.WebElement (session=\"bc2896d44be6f6af3c22b4e3e73c1c84\", element=\"4dc9ac7c-1f4b-48ba-ba68-9f092d9cdd22\")>,\n",
       " <selenium.webdriver.remote.webelement.WebElement (session=\"bc2896d44be6f6af3c22b4e3e73c1c84\", element=\"1230087e-f610-4557-8f9e-a5b3baf71887\")>,\n",
       " <selenium.webdriver.remote.webelement.WebElement (session=\"bc2896d44be6f6af3c22b4e3e73c1c84\", element=\"da87a547-7243-4173-a212-691fb345f34a\")>,\n",
       " <selenium.webdriver.remote.webelement.WebElement (session=\"bc2896d44be6f6af3c22b4e3e73c1c84\", element=\"ef27bf44-2e92-48b3-9feb-d1cc85618051\")>,\n",
       " <selenium.webdriver.remote.webelement.WebElement (session=\"bc2896d44be6f6af3c22b4e3e73c1c84\", element=\"7e632d63-a5fa-437d-ac27-789cf98e8244\")>,\n",
       " <selenium.webdriver.remote.webelement.WebElement (session=\"bc2896d44be6f6af3c22b4e3e73c1c84\", element=\"e32bfbfd-cad3-4685-a150-e966a7726c06\")>,\n",
       " <selenium.webdriver.remote.webelement.WebElement (session=\"bc2896d44be6f6af3c22b4e3e73c1c84\", element=\"c13e920d-8c91-40b5-a48e-e2ce46c8a27f\")>,\n",
       " <selenium.webdriver.remote.webelement.WebElement (session=\"bc2896d44be6f6af3c22b4e3e73c1c84\", element=\"4a551166-221b-4cfd-9cf4-2717b335af34\")>,\n",
       " <selenium.webdriver.remote.webelement.WebElement (session=\"bc2896d44be6f6af3c22b4e3e73c1c84\", element=\"2e7da042-175f-49a5-80bb-bb49cdd8517b\")>,\n",
       " <selenium.webdriver.remote.webelement.WebElement (session=\"bc2896d44be6f6af3c22b4e3e73c1c84\", element=\"3444d225-8a13-41b9-8ceb-62d6dce649bc\")>,\n",
       " <selenium.webdriver.remote.webelement.WebElement (session=\"bc2896d44be6f6af3c22b4e3e73c1c84\", element=\"c4d8ff09-cf3d-490d-93b6-2ffaf6fb3ae3\")>,\n",
       " <selenium.webdriver.remote.webelement.WebElement (session=\"bc2896d44be6f6af3c22b4e3e73c1c84\", element=\"957555fb-b3a2-4ea4-b2ef-6ccd7af8a2a6\")>,\n",
       " <selenium.webdriver.remote.webelement.WebElement (session=\"bc2896d44be6f6af3c22b4e3e73c1c84\", element=\"db02d756-726d-472b-9135-eac4b25988c3\")>,\n",
       " <selenium.webdriver.remote.webelement.WebElement (session=\"bc2896d44be6f6af3c22b4e3e73c1c84\", element=\"db85d572-e168-46e8-8686-3bf0096db31f\")>,\n",
       " <selenium.webdriver.remote.webelement.WebElement (session=\"bc2896d44be6f6af3c22b4e3e73c1c84\", element=\"b0b6e18c-ca69-4f7f-998d-b2f749c30e5c\")>,\n",
       " <selenium.webdriver.remote.webelement.WebElement (session=\"bc2896d44be6f6af3c22b4e3e73c1c84\", element=\"934aa4be-0f08-410f-8a56-07de1460b3ff\")>,\n",
       " <selenium.webdriver.remote.webelement.WebElement (session=\"bc2896d44be6f6af3c22b4e3e73c1c84\", element=\"592ec059-669d-4ad0-b183-f7b61b374d9b\")>,\n",
       " <selenium.webdriver.remote.webelement.WebElement (session=\"bc2896d44be6f6af3c22b4e3e73c1c84\", element=\"a32c60a2-9fa4-47d0-9c90-d72cc0ddb583\")>,\n",
       " <selenium.webdriver.remote.webelement.WebElement (session=\"bc2896d44be6f6af3c22b4e3e73c1c84\", element=\"a009c418-19e7-4991-b466-a33c0ad2114f\")>,\n",
       " <selenium.webdriver.remote.webelement.WebElement (session=\"bc2896d44be6f6af3c22b4e3e73c1c84\", element=\"af1dd84d-4ed1-47e9-b91a-395c5832e076\")>,\n",
       " <selenium.webdriver.remote.webelement.WebElement (session=\"bc2896d44be6f6af3c22b4e3e73c1c84\", element=\"09028033-5d70-4e39-a2fd-848104228ad6\")>,\n",
       " <selenium.webdriver.remote.webelement.WebElement (session=\"bc2896d44be6f6af3c22b4e3e73c1c84\", element=\"94fb1dbf-efda-40c6-acf1-0c9dbda2c888\")>,\n",
       " <selenium.webdriver.remote.webelement.WebElement (session=\"bc2896d44be6f6af3c22b4e3e73c1c84\", element=\"a956ac61-f68a-498b-aac7-2a303616bab8\")>,\n",
       " <selenium.webdriver.remote.webelement.WebElement (session=\"bc2896d44be6f6af3c22b4e3e73c1c84\", element=\"58639348-e502-4272-a9f9-bbe10f44e558\")>,\n",
       " <selenium.webdriver.remote.webelement.WebElement (session=\"bc2896d44be6f6af3c22b4e3e73c1c84\", element=\"5adf4964-35f0-4ba4-9325-b127c9d3e504\")>,\n",
       " <selenium.webdriver.remote.webelement.WebElement (session=\"bc2896d44be6f6af3c22b4e3e73c1c84\", element=\"24e1c6aa-ca2b-4df0-8a66-823e06c9df23\")>,\n",
       " <selenium.webdriver.remote.webelement.WebElement (session=\"bc2896d44be6f6af3c22b4e3e73c1c84\", element=\"3f98e8a4-7bf4-48a9-b0bf-a84d4c697844\")>,\n",
       " <selenium.webdriver.remote.webelement.WebElement (session=\"bc2896d44be6f6af3c22b4e3e73c1c84\", element=\"b7941091-42b7-4239-98ef-5c1af417ce4d\")>,\n",
       " <selenium.webdriver.remote.webelement.WebElement (session=\"bc2896d44be6f6af3c22b4e3e73c1c84\", element=\"6d744d81-f421-4c30-933a-cc17ab554d93\")>,\n",
       " <selenium.webdriver.remote.webelement.WebElement (session=\"bc2896d44be6f6af3c22b4e3e73c1c84\", element=\"d64d15c0-77a9-4568-8aff-2d5d5565afb8\")>,\n",
       " <selenium.webdriver.remote.webelement.WebElement (session=\"bc2896d44be6f6af3c22b4e3e73c1c84\", element=\"3f13d68d-d86c-49fb-b28b-1d47e9595e22\")>,\n",
       " <selenium.webdriver.remote.webelement.WebElement (session=\"bc2896d44be6f6af3c22b4e3e73c1c84\", element=\"cb33a928-7b4b-4010-b0aa-d973d22cc351\")>,\n",
       " <selenium.webdriver.remote.webelement.WebElement (session=\"bc2896d44be6f6af3c22b4e3e73c1c84\", element=\"1128a14e-d461-4208-ade5-14989797bf86\")>,\n",
       " <selenium.webdriver.remote.webelement.WebElement (session=\"bc2896d44be6f6af3c22b4e3e73c1c84\", element=\"99d76de1-9be0-49dd-bd30-8b3decf7fed4\")>,\n",
       " <selenium.webdriver.remote.webelement.WebElement (session=\"bc2896d44be6f6af3c22b4e3e73c1c84\", element=\"21a75959-7326-44c6-b5c7-266edb87cb16\")>,\n",
       " <selenium.webdriver.remote.webelement.WebElement (session=\"bc2896d44be6f6af3c22b4e3e73c1c84\", element=\"fef01f75-2f08-40dc-8e98-138308f995ff\")>,\n",
       " <selenium.webdriver.remote.webelement.WebElement (session=\"bc2896d44be6f6af3c22b4e3e73c1c84\", element=\"c8f99e0f-a2c1-4dde-94bd-34abc187f07e\")>,\n",
       " <selenium.webdriver.remote.webelement.WebElement (session=\"bc2896d44be6f6af3c22b4e3e73c1c84\", element=\"736192af-131b-4301-b0f4-b66c88b5f763\")>,\n",
       " <selenium.webdriver.remote.webelement.WebElement (session=\"bc2896d44be6f6af3c22b4e3e73c1c84\", element=\"0d92f59f-3e79-4630-8052-272fd82e7059\")>,\n",
       " <selenium.webdriver.remote.webelement.WebElement (session=\"bc2896d44be6f6af3c22b4e3e73c1c84\", element=\"9a772aa7-2685-41a5-a983-bdc54fb42888\")>,\n",
       " <selenium.webdriver.remote.webelement.WebElement (session=\"bc2896d44be6f6af3c22b4e3e73c1c84\", element=\"e8ad0427-1388-41ec-a87d-7a23d5d6de25\")>,\n",
       " <selenium.webdriver.remote.webelement.WebElement (session=\"bc2896d44be6f6af3c22b4e3e73c1c84\", element=\"34eb5b21-18e0-4334-877c-fe40a4fc9d1e\")>,\n",
       " <selenium.webdriver.remote.webelement.WebElement (session=\"bc2896d44be6f6af3c22b4e3e73c1c84\", element=\"6c5d550f-d2fd-4770-aed2-d4459b5d68b7\")>,\n",
       " <selenium.webdriver.remote.webelement.WebElement (session=\"bc2896d44be6f6af3c22b4e3e73c1c84\", element=\"d20a340f-d22b-4eaf-a2de-56e0c4747e81\")>,\n",
       " <selenium.webdriver.remote.webelement.WebElement (session=\"bc2896d44be6f6af3c22b4e3e73c1c84\", element=\"71d7916c-9f97-41a6-8465-3b4512d18d63\")>,\n",
       " <selenium.webdriver.remote.webelement.WebElement (session=\"bc2896d44be6f6af3c22b4e3e73c1c84\", element=\"a0b65a51-eff2-4dc6-afef-532e321076e2\")>,\n",
       " <selenium.webdriver.remote.webelement.WebElement (session=\"bc2896d44be6f6af3c22b4e3e73c1c84\", element=\"1d638f8e-3d49-48d5-a708-1d8276547968\")>,\n",
       " <selenium.webdriver.remote.webelement.WebElement (session=\"bc2896d44be6f6af3c22b4e3e73c1c84\", element=\"2e34c643-8c85-4d14-9523-29167b5b03d4\")>]"
      ]
     },
     "execution_count": 127,
     "metadata": {},
     "output_type": "execute_result"
    }
   ],
   "source": [
    "price_tags_myn1=driver.find_elements_by_xpath('//div[@class=\"product-price\"]')\n",
    "price_tags_myn1"
   ]
  },
  {
   "cell_type": "code",
   "execution_count": 128,
   "id": "c94943b7",
   "metadata": {},
   "outputs": [
    {
     "data": {
      "text/plain": [
       "['Rs. 11049Rs. 12999(15% OFF)',\n",
       " 'Rs. 12999',\n",
       " 'Rs. 7649Rs. 8999(15% OFF)',\n",
       " 'Rs. 7999',\n",
       " 'Rs. 12999',\n",
       " 'Rs. 8725Rs. 9695(10% OFF)',\n",
       " 'Rs. 7649Rs. 8999(15% OFF)',\n",
       " 'Rs. 9099Rs. 12999(30% OFF)',\n",
       " 'Rs. 13999',\n",
       " 'Rs. 7649Rs. 8999(15% OFF)',\n",
       " 'Rs. 7436Rs. 9295(20% OFF)',\n",
       " 'Rs. 12999',\n",
       " 'Rs. 9999',\n",
       " 'Rs. 12999',\n",
       " 'Rs. 7199Rs. 8999(20% OFF)',\n",
       " 'Rs. 12999',\n",
       " 'Rs. 8999',\n",
       " 'Rs. 7999',\n",
       " 'Rs. 7999',\n",
       " 'Rs. 8499Rs. 9999(15% OFF)',\n",
       " 'Rs. 7999',\n",
       " 'Rs. 11999',\n",
       " 'Rs. 10499',\n",
       " 'Rs. 8999',\n",
       " 'Rs. 7499',\n",
       " 'Rs. 8999',\n",
       " 'Rs. 9349Rs. 10999(15% OFF)',\n",
       " 'Rs. 8499Rs. 9999(15% OFF)',\n",
       " 'Rs. 7999',\n",
       " 'Rs. 13999',\n",
       " 'Rs. 12749Rs. 14999(15% OFF)',\n",
       " 'Rs. 8999',\n",
       " 'Rs. 9999',\n",
       " 'Rs. 7999',\n",
       " 'Rs. 8499Rs. 9999(15% OFF)',\n",
       " 'Rs. 9810Rs. 10900(10% OFF)',\n",
       " 'Rs. 11999',\n",
       " 'Rs. 8499Rs. 9999(15% OFF)',\n",
       " 'Rs. 8599',\n",
       " 'Rs. 7999',\n",
       " 'Rs. 8099Rs. 8999(10% OFF)',\n",
       " 'Rs. 7499',\n",
       " 'Rs. 7499',\n",
       " 'Rs. 8990',\n",
       " 'Rs. 7649Rs. 8999(15% OFF)',\n",
       " 'Rs. 8999Rs. 11999(25% OFF)',\n",
       " 'Rs. 8490',\n",
       " 'Rs. 13999',\n",
       " 'Rs. 7990',\n",
       " 'Rs. 8499']"
      ]
     },
     "execution_count": 128,
     "metadata": {},
     "output_type": "execute_result"
    }
   ],
   "source": [
    "for i in price_tags_myn1:\n",
    "    pr1=i.text\n",
    "    price_myntra.append(pr1)\n",
    "price_myntra\n",
    "\n"
   ]
  },
  {
   "cell_type": "code",
   "execution_count": 129,
   "id": "0a3c5465",
   "metadata": {},
   "outputs": [
    {
     "name": "stdout",
     "output_type": "stream",
     "text": [
      "50 50 50\n"
     ]
    }
   ],
   "source": [
    "print(len(brand_myntra),len(shoe_myntra),len(price_myntra))"
   ]
  },
  {
   "cell_type": "code",
   "execution_count": 131,
   "id": "2e1c9854",
   "metadata": {},
   "outputs": [],
   "source": [
    "next_button_myntra=driver.find_element_by_xpath('/html/body/div[2]/div/div[1]/main/div[3]/div[2]/div/div[2]/section/div[2]/ul/li[12]/a')\n",
    "next_button_myntra.click()\n"
   ]
  },
  {
   "cell_type": "code",
   "execution_count": 132,
   "id": "4c56c57c",
   "metadata": {},
   "outputs": [],
   "source": [
    "url_2=\"https://www.myntra.com/shoes?f=Color%3ABlack_36454f&p=2&rf=Price%3A7187.0_14125.0_7187.0%20TO%2014125.0\"\n",
    "\n"
   ]
  },
  {
   "cell_type": "code",
   "execution_count": 133,
   "id": "83adffd1",
   "metadata": {},
   "outputs": [],
   "source": [
    "driver.get(url_2)"
   ]
  },
  {
   "cell_type": "code",
   "execution_count": 135,
   "id": "9840a421",
   "metadata": {},
   "outputs": [
    {
     "data": {
      "text/plain": [
       "[<selenium.webdriver.remote.webelement.WebElement (session=\"bc2896d44be6f6af3c22b4e3e73c1c84\", element=\"2f8693b1-6bef-48f1-adab-279121d05b8c\")>,\n",
       " <selenium.webdriver.remote.webelement.WebElement (session=\"bc2896d44be6f6af3c22b4e3e73c1c84\", element=\"ea653a24-8b70-41b4-a3c6-547b2552169a\")>,\n",
       " <selenium.webdriver.remote.webelement.WebElement (session=\"bc2896d44be6f6af3c22b4e3e73c1c84\", element=\"cc197129-6bc2-4d6b-8054-4b59cd434549\")>,\n",
       " <selenium.webdriver.remote.webelement.WebElement (session=\"bc2896d44be6f6af3c22b4e3e73c1c84\", element=\"c57bf216-b30f-441b-b122-621fb676cbe9\")>,\n",
       " <selenium.webdriver.remote.webelement.WebElement (session=\"bc2896d44be6f6af3c22b4e3e73c1c84\", element=\"112624f1-730a-49c3-b2c4-7e1bbc73d137\")>,\n",
       " <selenium.webdriver.remote.webelement.WebElement (session=\"bc2896d44be6f6af3c22b4e3e73c1c84\", element=\"d7eebebb-eb6c-4ab7-bed8-d4464d11f317\")>,\n",
       " <selenium.webdriver.remote.webelement.WebElement (session=\"bc2896d44be6f6af3c22b4e3e73c1c84\", element=\"243ac3fd-643d-4d49-af25-5b5f7da1ef45\")>,\n",
       " <selenium.webdriver.remote.webelement.WebElement (session=\"bc2896d44be6f6af3c22b4e3e73c1c84\", element=\"470c15c5-b157-4157-bb74-dfdac3451085\")>,\n",
       " <selenium.webdriver.remote.webelement.WebElement (session=\"bc2896d44be6f6af3c22b4e3e73c1c84\", element=\"306e4ab7-bf7c-48dc-8ae1-607b54e90d13\")>,\n",
       " <selenium.webdriver.remote.webelement.WebElement (session=\"bc2896d44be6f6af3c22b4e3e73c1c84\", element=\"11efecaa-af26-4e24-b708-42ed45dd661f\")>,\n",
       " <selenium.webdriver.remote.webelement.WebElement (session=\"bc2896d44be6f6af3c22b4e3e73c1c84\", element=\"838dc369-cec5-4596-a8eb-266574addb1e\")>,\n",
       " <selenium.webdriver.remote.webelement.WebElement (session=\"bc2896d44be6f6af3c22b4e3e73c1c84\", element=\"111a58a2-db7e-4d05-8d78-80c7cf10e1b7\")>,\n",
       " <selenium.webdriver.remote.webelement.WebElement (session=\"bc2896d44be6f6af3c22b4e3e73c1c84\", element=\"3eef6f3c-f22b-4197-b0a3-66fd5e0f6d92\")>,\n",
       " <selenium.webdriver.remote.webelement.WebElement (session=\"bc2896d44be6f6af3c22b4e3e73c1c84\", element=\"21e41ff3-080b-48b3-ade9-dae513a9a413\")>,\n",
       " <selenium.webdriver.remote.webelement.WebElement (session=\"bc2896d44be6f6af3c22b4e3e73c1c84\", element=\"1ca87a9b-653d-47b5-acd7-c4d189e9c5e9\")>,\n",
       " <selenium.webdriver.remote.webelement.WebElement (session=\"bc2896d44be6f6af3c22b4e3e73c1c84\", element=\"e8cb15c0-3936-40c9-8e1b-13e8d8f9b6fc\")>,\n",
       " <selenium.webdriver.remote.webelement.WebElement (session=\"bc2896d44be6f6af3c22b4e3e73c1c84\", element=\"2efda785-d157-4617-90f6-c8ab0ef34e89\")>,\n",
       " <selenium.webdriver.remote.webelement.WebElement (session=\"bc2896d44be6f6af3c22b4e3e73c1c84\", element=\"067ff00c-4db7-4482-ab8f-ae5bf66f0fd2\")>,\n",
       " <selenium.webdriver.remote.webelement.WebElement (session=\"bc2896d44be6f6af3c22b4e3e73c1c84\", element=\"4236556f-4138-4bf6-b84d-13df9c500b3a\")>,\n",
       " <selenium.webdriver.remote.webelement.WebElement (session=\"bc2896d44be6f6af3c22b4e3e73c1c84\", element=\"e4a6fe1e-b5fb-4d92-a7b4-e6a989351a73\")>,\n",
       " <selenium.webdriver.remote.webelement.WebElement (session=\"bc2896d44be6f6af3c22b4e3e73c1c84\", element=\"6862f688-c522-400a-9296-e43d181542c1\")>,\n",
       " <selenium.webdriver.remote.webelement.WebElement (session=\"bc2896d44be6f6af3c22b4e3e73c1c84\", element=\"7de32dec-1033-4ff0-b07c-fe3d9546f768\")>,\n",
       " <selenium.webdriver.remote.webelement.WebElement (session=\"bc2896d44be6f6af3c22b4e3e73c1c84\", element=\"e3d595df-2579-4afd-8501-edabf3690496\")>,\n",
       " <selenium.webdriver.remote.webelement.WebElement (session=\"bc2896d44be6f6af3c22b4e3e73c1c84\", element=\"13af2ff8-59d4-4a44-8720-ce50a1177e96\")>,\n",
       " <selenium.webdriver.remote.webelement.WebElement (session=\"bc2896d44be6f6af3c22b4e3e73c1c84\", element=\"4154619c-57f0-4e48-bdcb-08ecf6188aab\")>,\n",
       " <selenium.webdriver.remote.webelement.WebElement (session=\"bc2896d44be6f6af3c22b4e3e73c1c84\", element=\"d7bc7429-cce6-4859-9584-befbe408469f\")>,\n",
       " <selenium.webdriver.remote.webelement.WebElement (session=\"bc2896d44be6f6af3c22b4e3e73c1c84\", element=\"b6bf8aee-12fb-430e-9e3a-714a68061009\")>,\n",
       " <selenium.webdriver.remote.webelement.WebElement (session=\"bc2896d44be6f6af3c22b4e3e73c1c84\", element=\"65956f1b-c51c-4d15-a9db-7be4123ab010\")>,\n",
       " <selenium.webdriver.remote.webelement.WebElement (session=\"bc2896d44be6f6af3c22b4e3e73c1c84\", element=\"cdb6f110-2333-48aa-a4e7-e4cc0bda1382\")>,\n",
       " <selenium.webdriver.remote.webelement.WebElement (session=\"bc2896d44be6f6af3c22b4e3e73c1c84\", element=\"d2393eb6-c5a0-4b82-85f8-9da27bc7954d\")>,\n",
       " <selenium.webdriver.remote.webelement.WebElement (session=\"bc2896d44be6f6af3c22b4e3e73c1c84\", element=\"feccddda-1a83-4c6a-b69f-466bab361e18\")>,\n",
       " <selenium.webdriver.remote.webelement.WebElement (session=\"bc2896d44be6f6af3c22b4e3e73c1c84\", element=\"8f7183e6-5e1c-4e15-aedd-7afd6aa2d0ef\")>,\n",
       " <selenium.webdriver.remote.webelement.WebElement (session=\"bc2896d44be6f6af3c22b4e3e73c1c84\", element=\"d2daecde-6146-49af-8384-ebb0896295d5\")>,\n",
       " <selenium.webdriver.remote.webelement.WebElement (session=\"bc2896d44be6f6af3c22b4e3e73c1c84\", element=\"b3c77c95-ba82-4010-b858-099fb9368121\")>,\n",
       " <selenium.webdriver.remote.webelement.WebElement (session=\"bc2896d44be6f6af3c22b4e3e73c1c84\", element=\"0ad85d62-0a8e-4605-80f8-273ac0801437\")>,\n",
       " <selenium.webdriver.remote.webelement.WebElement (session=\"bc2896d44be6f6af3c22b4e3e73c1c84\", element=\"42348f77-2223-4574-9c66-9336569fd554\")>,\n",
       " <selenium.webdriver.remote.webelement.WebElement (session=\"bc2896d44be6f6af3c22b4e3e73c1c84\", element=\"48505563-58eb-4740-b0b7-28ee0ecda01a\")>,\n",
       " <selenium.webdriver.remote.webelement.WebElement (session=\"bc2896d44be6f6af3c22b4e3e73c1c84\", element=\"cd5c7d78-0575-4208-9064-6bcf57e5e213\")>,\n",
       " <selenium.webdriver.remote.webelement.WebElement (session=\"bc2896d44be6f6af3c22b4e3e73c1c84\", element=\"7149a3d4-9952-4cb0-981b-1d82a19e9c9a\")>,\n",
       " <selenium.webdriver.remote.webelement.WebElement (session=\"bc2896d44be6f6af3c22b4e3e73c1c84\", element=\"f33d44ba-4e38-4f3e-aa6a-b804ac328343\")>,\n",
       " <selenium.webdriver.remote.webelement.WebElement (session=\"bc2896d44be6f6af3c22b4e3e73c1c84\", element=\"b04572ca-3a6d-46a7-864e-14ce18fc5401\")>,\n",
       " <selenium.webdriver.remote.webelement.WebElement (session=\"bc2896d44be6f6af3c22b4e3e73c1c84\", element=\"04b192d0-ae98-4356-9cb5-502dd1dba573\")>,\n",
       " <selenium.webdriver.remote.webelement.WebElement (session=\"bc2896d44be6f6af3c22b4e3e73c1c84\", element=\"0be0503a-5fa3-4708-b1e2-0228bd4e0785\")>,\n",
       " <selenium.webdriver.remote.webelement.WebElement (session=\"bc2896d44be6f6af3c22b4e3e73c1c84\", element=\"c2bbf228-5b5a-4f71-ab0f-7ad35e59b9a4\")>,\n",
       " <selenium.webdriver.remote.webelement.WebElement (session=\"bc2896d44be6f6af3c22b4e3e73c1c84\", element=\"e98b3894-07cb-4dee-a145-57b395056f80\")>,\n",
       " <selenium.webdriver.remote.webelement.WebElement (session=\"bc2896d44be6f6af3c22b4e3e73c1c84\", element=\"1f0c4432-8b0c-4301-8433-390238ed667f\")>,\n",
       " <selenium.webdriver.remote.webelement.WebElement (session=\"bc2896d44be6f6af3c22b4e3e73c1c84\", element=\"cf3e993b-c762-48d9-93af-3ac645853544\")>,\n",
       " <selenium.webdriver.remote.webelement.WebElement (session=\"bc2896d44be6f6af3c22b4e3e73c1c84\", element=\"686b7d64-2aee-4505-a8f6-1c42a835128d\")>,\n",
       " <selenium.webdriver.remote.webelement.WebElement (session=\"bc2896d44be6f6af3c22b4e3e73c1c84\", element=\"da773784-f615-4dca-89c3-4122303bbd57\")>,\n",
       " <selenium.webdriver.remote.webelement.WebElement (session=\"bc2896d44be6f6af3c22b4e3e73c1c84\", element=\"041339ad-b911-40c6-8b14-9d51a9ed9255\")>]"
      ]
     },
     "execution_count": 135,
     "metadata": {},
     "output_type": "execute_result"
    }
   ],
   "source": [
    "brand_tags_myn2=driver.find_elements_by_xpath('//h3[@class=\"product-brand\"]')\n",
    "brand_tags_myn2\n"
   ]
  },
  {
   "cell_type": "code",
   "execution_count": 136,
   "id": "e40ac33a",
   "metadata": {},
   "outputs": [
    {
     "data": {
      "text/plain": [
       "['Bugatti',\n",
       " 'ADIDAS',\n",
       " 'DEL MONDO',\n",
       " 'Bugatti',\n",
       " 'PUMA Hoops',\n",
       " 'Columbia',\n",
       " 'FILA',\n",
       " 'Puma',\n",
       " 'Skechers',\n",
       " 'Puma',\n",
       " 'Bugatti',\n",
       " 'Saint G',\n",
       " 'Saint G',\n",
       " 'ROSSO BRUNELLO',\n",
       " 'Geox',\n",
       " 'Geox',\n",
       " 'Birkenstock',\n",
       " 'Hush Puppies',\n",
       " 'DAVINCHI',\n",
       " 'DAVINCHI',\n",
       " 'J.FONTINI',\n",
       " 'Sole To Soul',\n",
       " 'fitflop',\n",
       " 'ALDO',\n",
       " 'ECCO',\n",
       " 'ALDO',\n",
       " 'Kenkoh',\n",
       " 'Saint G',\n",
       " 'MANGO',\n",
       " 'Saint G',\n",
       " 'Onitsuka Tiger',\n",
       " 'Cole Haan',\n",
       " 'J.FONTINI',\n",
       " 'J.FONTINI',\n",
       " 'Heel & Buckle London',\n",
       " 'J.FONTINI',\n",
       " 'Columbia',\n",
       " 'Florsheim',\n",
       " 'Columbia',\n",
       " 'Geox',\n",
       " 'RARE RABBIT',\n",
       " 'J.FONTINI',\n",
       " 'J.FONTINI',\n",
       " 'Geox',\n",
       " 'DAVINCHI',\n",
       " 'Saint G',\n",
       " 'DAVINCHI',\n",
       " 'J.FONTINI',\n",
       " 'J.FONTINI',\n",
       " 'DAVINCHI']"
      ]
     },
     "execution_count": 136,
     "metadata": {},
     "output_type": "execute_result"
    }
   ],
   "source": [
    "brand_myntra2=[]\n",
    "for i in brand_tags_myn2:\n",
    "    br2=i.text\n",
    "    brand_myntra2.append(br2)\n",
    "brand_myntra2\n"
   ]
  },
  {
   "cell_type": "code",
   "execution_count": 137,
   "id": "c439595e",
   "metadata": {},
   "outputs": [
    {
     "data": {
      "text/plain": [
       "[<selenium.webdriver.remote.webelement.WebElement (session=\"bc2896d44be6f6af3c22b4e3e73c1c84\", element=\"970c7c0c-1af3-445b-a2b3-fe70f21020aa\")>,\n",
       " <selenium.webdriver.remote.webelement.WebElement (session=\"bc2896d44be6f6af3c22b4e3e73c1c84\", element=\"a85b1178-df5b-4a88-a2b1-165eb9a90f77\")>,\n",
       " <selenium.webdriver.remote.webelement.WebElement (session=\"bc2896d44be6f6af3c22b4e3e73c1c84\", element=\"4501667e-8a17-45ab-bdff-db42d1763c18\")>,\n",
       " <selenium.webdriver.remote.webelement.WebElement (session=\"bc2896d44be6f6af3c22b4e3e73c1c84\", element=\"621b5023-2b02-4fe7-a212-f896b644cffa\")>,\n",
       " <selenium.webdriver.remote.webelement.WebElement (session=\"bc2896d44be6f6af3c22b4e3e73c1c84\", element=\"0c92784e-382b-496a-aae6-d323b3f433df\")>,\n",
       " <selenium.webdriver.remote.webelement.WebElement (session=\"bc2896d44be6f6af3c22b4e3e73c1c84\", element=\"62e5e722-e507-4ba5-88e2-30c73b561822\")>,\n",
       " <selenium.webdriver.remote.webelement.WebElement (session=\"bc2896d44be6f6af3c22b4e3e73c1c84\", element=\"18c1187f-b88f-4405-bfea-41472e5ce797\")>,\n",
       " <selenium.webdriver.remote.webelement.WebElement (session=\"bc2896d44be6f6af3c22b4e3e73c1c84\", element=\"b96bc52c-9319-4875-a697-1cc4916af90f\")>,\n",
       " <selenium.webdriver.remote.webelement.WebElement (session=\"bc2896d44be6f6af3c22b4e3e73c1c84\", element=\"16501b77-1e57-4dae-b249-0d7e7d9e40c4\")>,\n",
       " <selenium.webdriver.remote.webelement.WebElement (session=\"bc2896d44be6f6af3c22b4e3e73c1c84\", element=\"fa2a24b8-e64a-4aee-9091-6ca6ace27cd5\")>,\n",
       " <selenium.webdriver.remote.webelement.WebElement (session=\"bc2896d44be6f6af3c22b4e3e73c1c84\", element=\"bb5e5f95-201b-4700-bfb2-a3fc1cd2dea8\")>,\n",
       " <selenium.webdriver.remote.webelement.WebElement (session=\"bc2896d44be6f6af3c22b4e3e73c1c84\", element=\"fcc0c699-d9ad-46a3-a089-e253048566a4\")>,\n",
       " <selenium.webdriver.remote.webelement.WebElement (session=\"bc2896d44be6f6af3c22b4e3e73c1c84\", element=\"cc7d0fbf-78fb-4f55-b51b-03d2db8ba990\")>,\n",
       " <selenium.webdriver.remote.webelement.WebElement (session=\"bc2896d44be6f6af3c22b4e3e73c1c84\", element=\"1e044c86-f150-46cd-bf96-d297f29e301d\")>,\n",
       " <selenium.webdriver.remote.webelement.WebElement (session=\"bc2896d44be6f6af3c22b4e3e73c1c84\", element=\"3e5f8a18-155b-4617-a3f2-96ad3365b454\")>,\n",
       " <selenium.webdriver.remote.webelement.WebElement (session=\"bc2896d44be6f6af3c22b4e3e73c1c84\", element=\"3fc16906-cf90-4c24-b7db-4709d79fd8ee\")>,\n",
       " <selenium.webdriver.remote.webelement.WebElement (session=\"bc2896d44be6f6af3c22b4e3e73c1c84\", element=\"1ebb2c92-111c-4b53-b858-1139bc225e68\")>,\n",
       " <selenium.webdriver.remote.webelement.WebElement (session=\"bc2896d44be6f6af3c22b4e3e73c1c84\", element=\"dc5e1655-37ac-48f8-8a16-2173d4c72721\")>,\n",
       " <selenium.webdriver.remote.webelement.WebElement (session=\"bc2896d44be6f6af3c22b4e3e73c1c84\", element=\"775cd234-77a6-4578-a856-492c8a65a73c\")>,\n",
       " <selenium.webdriver.remote.webelement.WebElement (session=\"bc2896d44be6f6af3c22b4e3e73c1c84\", element=\"a3c21db6-b429-490f-8439-51e3806ae0da\")>,\n",
       " <selenium.webdriver.remote.webelement.WebElement (session=\"bc2896d44be6f6af3c22b4e3e73c1c84\", element=\"b6736f52-a774-416a-92d0-19a9aca83387\")>,\n",
       " <selenium.webdriver.remote.webelement.WebElement (session=\"bc2896d44be6f6af3c22b4e3e73c1c84\", element=\"a5ffd314-fdb7-429c-aa1d-89fc41260b7c\")>,\n",
       " <selenium.webdriver.remote.webelement.WebElement (session=\"bc2896d44be6f6af3c22b4e3e73c1c84\", element=\"f7ce6daa-3a7f-4496-9774-4c1093673657\")>,\n",
       " <selenium.webdriver.remote.webelement.WebElement (session=\"bc2896d44be6f6af3c22b4e3e73c1c84\", element=\"78063a88-dfdc-4133-95b7-f397ef0a8ce3\")>,\n",
       " <selenium.webdriver.remote.webelement.WebElement (session=\"bc2896d44be6f6af3c22b4e3e73c1c84\", element=\"7496dce4-7cee-4a6e-b898-b788df1e17a2\")>,\n",
       " <selenium.webdriver.remote.webelement.WebElement (session=\"bc2896d44be6f6af3c22b4e3e73c1c84\", element=\"76a614de-576d-4b91-8755-e6aee8cd8247\")>,\n",
       " <selenium.webdriver.remote.webelement.WebElement (session=\"bc2896d44be6f6af3c22b4e3e73c1c84\", element=\"1bba171d-cb3a-4fa3-a073-f7b10dace35e\")>,\n",
       " <selenium.webdriver.remote.webelement.WebElement (session=\"bc2896d44be6f6af3c22b4e3e73c1c84\", element=\"cef209a8-ffd1-4fed-bdb2-aff354de8f90\")>,\n",
       " <selenium.webdriver.remote.webelement.WebElement (session=\"bc2896d44be6f6af3c22b4e3e73c1c84\", element=\"489a6ac1-536f-469d-9dbb-af080a11bdc6\")>,\n",
       " <selenium.webdriver.remote.webelement.WebElement (session=\"bc2896d44be6f6af3c22b4e3e73c1c84\", element=\"bda65839-2a04-4261-ab38-9c16a3cc9891\")>,\n",
       " <selenium.webdriver.remote.webelement.WebElement (session=\"bc2896d44be6f6af3c22b4e3e73c1c84\", element=\"8ce71bbd-94d0-4f0d-9ad2-40d27ca39239\")>,\n",
       " <selenium.webdriver.remote.webelement.WebElement (session=\"bc2896d44be6f6af3c22b4e3e73c1c84\", element=\"43df3bd4-39d6-4b86-825a-806fd8149bbb\")>,\n",
       " <selenium.webdriver.remote.webelement.WebElement (session=\"bc2896d44be6f6af3c22b4e3e73c1c84\", element=\"407714f6-52de-42d9-b8f8-e256cf844437\")>,\n",
       " <selenium.webdriver.remote.webelement.WebElement (session=\"bc2896d44be6f6af3c22b4e3e73c1c84\", element=\"433fc178-84df-46c3-be4e-24afb04ba7af\")>,\n",
       " <selenium.webdriver.remote.webelement.WebElement (session=\"bc2896d44be6f6af3c22b4e3e73c1c84\", element=\"4d34a6fb-3eb5-4ebb-a872-6af4f0a1f426\")>,\n",
       " <selenium.webdriver.remote.webelement.WebElement (session=\"bc2896d44be6f6af3c22b4e3e73c1c84\", element=\"7d691c75-5823-4a07-8a1c-7b3adf7e0f4b\")>,\n",
       " <selenium.webdriver.remote.webelement.WebElement (session=\"bc2896d44be6f6af3c22b4e3e73c1c84\", element=\"e66da49d-d534-4bd1-bc95-d55aae779253\")>,\n",
       " <selenium.webdriver.remote.webelement.WebElement (session=\"bc2896d44be6f6af3c22b4e3e73c1c84\", element=\"7cd184b4-0b92-4d21-806f-c93f98629899\")>,\n",
       " <selenium.webdriver.remote.webelement.WebElement (session=\"bc2896d44be6f6af3c22b4e3e73c1c84\", element=\"56aa8b59-1423-4d95-af2d-1c3d455350c8\")>,\n",
       " <selenium.webdriver.remote.webelement.WebElement (session=\"bc2896d44be6f6af3c22b4e3e73c1c84\", element=\"a8275c7c-8ec4-4016-915d-e69bbbe048f2\")>,\n",
       " <selenium.webdriver.remote.webelement.WebElement (session=\"bc2896d44be6f6af3c22b4e3e73c1c84\", element=\"b96854cd-528e-45c4-85f2-3227cd9024ac\")>,\n",
       " <selenium.webdriver.remote.webelement.WebElement (session=\"bc2896d44be6f6af3c22b4e3e73c1c84\", element=\"1a101bf8-c0c4-4336-8525-0633e6734c34\")>,\n",
       " <selenium.webdriver.remote.webelement.WebElement (session=\"bc2896d44be6f6af3c22b4e3e73c1c84\", element=\"a6ce6e43-fa07-4e17-adf3-d43f526a1f13\")>,\n",
       " <selenium.webdriver.remote.webelement.WebElement (session=\"bc2896d44be6f6af3c22b4e3e73c1c84\", element=\"3e25928a-a831-49ae-a2ad-85abdff48bdb\")>,\n",
       " <selenium.webdriver.remote.webelement.WebElement (session=\"bc2896d44be6f6af3c22b4e3e73c1c84\", element=\"80cd3923-327a-48a5-b5d9-621f9b87d075\")>,\n",
       " <selenium.webdriver.remote.webelement.WebElement (session=\"bc2896d44be6f6af3c22b4e3e73c1c84\", element=\"0b32bb33-17f5-4ef4-a54a-f6cf03ed6289\")>,\n",
       " <selenium.webdriver.remote.webelement.WebElement (session=\"bc2896d44be6f6af3c22b4e3e73c1c84\", element=\"949ae808-06c7-4bd5-bb88-56362268ecd0\")>,\n",
       " <selenium.webdriver.remote.webelement.WebElement (session=\"bc2896d44be6f6af3c22b4e3e73c1c84\", element=\"738e5f5e-2ab2-4f51-9bc4-8a30bcf25fb7\")>,\n",
       " <selenium.webdriver.remote.webelement.WebElement (session=\"bc2896d44be6f6af3c22b4e3e73c1c84\", element=\"b8b52610-b80b-45a5-a4ef-b17c4e10fe57\")>,\n",
       " <selenium.webdriver.remote.webelement.WebElement (session=\"bc2896d44be6f6af3c22b4e3e73c1c84\", element=\"3bd6ff44-3323-4e2d-af97-1afa81203376\")>]"
      ]
     },
     "execution_count": 137,
     "metadata": {},
     "output_type": "execute_result"
    }
   ],
   "source": [
    "shoe_tags_myn2=driver.find_elements_by_xpath('//h4[@class=\"product-product\"]')\n",
    "shoe_tags_myn2"
   ]
  },
  {
   "cell_type": "code",
   "execution_count": 139,
   "id": "2821ecff",
   "metadata": {},
   "outputs": [
    {
     "data": {
      "text/plain": [
       "['Men Leather Driving Shoes',\n",
       " 'Women Dropset Training Shoes',\n",
       " 'Men Leather Sneakers',\n",
       " 'Men Leather Monks',\n",
       " 'Men Basketball Shoes',\n",
       " 'Women Trekking Shoes',\n",
       " 'Men Printed Trekking Shoes',\n",
       " 'Men Training or Gym Shoes',\n",
       " 'Men MAX CUSHIONING ELITE-LUCID',\n",
       " 'Women Eternity NITRO Shoes',\n",
       " 'Men Walking Shoes',\n",
       " 'Embellished Chelsea Boots',\n",
       " 'Men Mid-Top Chelsea Boots',\n",
       " 'Men Leather Formal Oxfords',\n",
       " 'Men Leather Driving Shoes',\n",
       " 'Men Formal Derbys',\n",
       " 'Unisex Boston Super Grip Clogs',\n",
       " 'Men Solid Leather Formal Derbys',\n",
       " 'Men Textured Formal Leather Loafers',\n",
       " 'Ustraa black',\n",
       " 'Men Leather Formal Loafers',\n",
       " 'High-Top Block Heeled Boots',\n",
       " 'Embellished Leather Flatform Sandals',\n",
       " 'Embellished Wedge Sandals',\n",
       " 'Leather Block Pumps',\n",
       " 'Leather Slim Heels',\n",
       " 'Women Open Toe Flats',\n",
       " 'Women Leather Loafers',\n",
       " 'Embellish Mid-Top Heeled Boots',\n",
       " 'Leather Party Block Sandals',\n",
       " 'Unisex Ok Basketball MT',\n",
       " 'Men GENERATION ZEROGRAND STITCHLITE',\n",
       " 'Men Textured Leather Loafers',\n",
       " 'Men Textured Leather Loafers',\n",
       " 'Men Formal Leather Derby',\n",
       " 'Men Solid Loafers',\n",
       " 'Women REDMOND V2 TrekkingShoe',\n",
       " 'Men Leather Formal Monks',\n",
       " 'PEAKFREAK OUTDRY Trekking Shoe',\n",
       " 'Men Printed Slip-On Sneakers',\n",
       " 'Men Textured Leather Loafers',\n",
       " 'Men Leather Formal Loafers',\n",
       " 'Men Black Leather Loafers',\n",
       " 'Women Leather Pumps',\n",
       " 'Men Formal Leather Slip-Ons',\n",
       " 'Women Leather Block Heels',\n",
       " 'Solid Slip On Shoes',\n",
       " 'Men Solid Leather Formal Loafers',\n",
       " 'Men Textured Leather Formal Loafers',\n",
       " 'Men Solid Leather Formal Derbys']"
      ]
     },
     "execution_count": 139,
     "metadata": {},
     "output_type": "execute_result"
    }
   ],
   "source": [
    "shoe_myntra2=[]\n",
    "for i in shoe_tags_myn2:\n",
    "    sd2=i.text\n",
    "    shoe_myntra2.append(sd2)\n",
    "shoe_myntra2"
   ]
  },
  {
   "cell_type": "code",
   "execution_count": 140,
   "id": "36349a97",
   "metadata": {},
   "outputs": [
    {
     "data": {
      "text/plain": [
       "[<selenium.webdriver.remote.webelement.WebElement (session=\"bc2896d44be6f6af3c22b4e3e73c1c84\", element=\"0e09ddaf-0152-4e51-9b97-a64194b9b823\")>,\n",
       " <selenium.webdriver.remote.webelement.WebElement (session=\"bc2896d44be6f6af3c22b4e3e73c1c84\", element=\"0c5ee2ac-8201-4e9f-8693-30394694aeba\")>,\n",
       " <selenium.webdriver.remote.webelement.WebElement (session=\"bc2896d44be6f6af3c22b4e3e73c1c84\", element=\"67380067-4685-4cf3-ae53-540530f7329e\")>,\n",
       " <selenium.webdriver.remote.webelement.WebElement (session=\"bc2896d44be6f6af3c22b4e3e73c1c84\", element=\"8a23758f-5644-46a5-9156-feb60a6cf6f6\")>,\n",
       " <selenium.webdriver.remote.webelement.WebElement (session=\"bc2896d44be6f6af3c22b4e3e73c1c84\", element=\"e87381f2-91ec-44d6-92af-3dce698cb4f3\")>,\n",
       " <selenium.webdriver.remote.webelement.WebElement (session=\"bc2896d44be6f6af3c22b4e3e73c1c84\", element=\"7ef3c001-4e72-4310-8948-435551a9cf57\")>,\n",
       " <selenium.webdriver.remote.webelement.WebElement (session=\"bc2896d44be6f6af3c22b4e3e73c1c84\", element=\"43071ac7-dfc3-47d2-8872-15e2f7eb63d2\")>,\n",
       " <selenium.webdriver.remote.webelement.WebElement (session=\"bc2896d44be6f6af3c22b4e3e73c1c84\", element=\"2de9e849-07e8-4458-baa2-e51786da34b1\")>,\n",
       " <selenium.webdriver.remote.webelement.WebElement (session=\"bc2896d44be6f6af3c22b4e3e73c1c84\", element=\"cca8df6e-4278-40bf-a76a-d6ba335e67b2\")>,\n",
       " <selenium.webdriver.remote.webelement.WebElement (session=\"bc2896d44be6f6af3c22b4e3e73c1c84\", element=\"f0893b6b-3f7d-43d6-a3ed-36b2fe07bddd\")>,\n",
       " <selenium.webdriver.remote.webelement.WebElement (session=\"bc2896d44be6f6af3c22b4e3e73c1c84\", element=\"4176644c-007c-429d-9c7e-b19106b1ef33\")>,\n",
       " <selenium.webdriver.remote.webelement.WebElement (session=\"bc2896d44be6f6af3c22b4e3e73c1c84\", element=\"d8bdfdce-0d11-45b5-818b-a9f3071fc0ad\")>,\n",
       " <selenium.webdriver.remote.webelement.WebElement (session=\"bc2896d44be6f6af3c22b4e3e73c1c84\", element=\"3e6fcd10-934c-4076-acf6-c754081c7f96\")>,\n",
       " <selenium.webdriver.remote.webelement.WebElement (session=\"bc2896d44be6f6af3c22b4e3e73c1c84\", element=\"9d604490-a2cc-4809-8de0-46d6b159fc03\")>,\n",
       " <selenium.webdriver.remote.webelement.WebElement (session=\"bc2896d44be6f6af3c22b4e3e73c1c84\", element=\"e4ee3ee9-4b10-4bef-a221-28e71b8e4df8\")>,\n",
       " <selenium.webdriver.remote.webelement.WebElement (session=\"bc2896d44be6f6af3c22b4e3e73c1c84\", element=\"78d80b15-0caf-47e2-9227-d04d00055e67\")>,\n",
       " <selenium.webdriver.remote.webelement.WebElement (session=\"bc2896d44be6f6af3c22b4e3e73c1c84\", element=\"914c08bf-a373-449b-9681-7dc13401d707\")>,\n",
       " <selenium.webdriver.remote.webelement.WebElement (session=\"bc2896d44be6f6af3c22b4e3e73c1c84\", element=\"8b59ab1f-97ad-4016-af16-2d5678d65ee7\")>,\n",
       " <selenium.webdriver.remote.webelement.WebElement (session=\"bc2896d44be6f6af3c22b4e3e73c1c84\", element=\"65e01105-fb4c-4fa2-8f8f-2f7522ab6668\")>,\n",
       " <selenium.webdriver.remote.webelement.WebElement (session=\"bc2896d44be6f6af3c22b4e3e73c1c84\", element=\"9750a08e-38a8-4464-928c-aab25258ec06\")>,\n",
       " <selenium.webdriver.remote.webelement.WebElement (session=\"bc2896d44be6f6af3c22b4e3e73c1c84\", element=\"c247c387-c765-418f-9905-d149e0675b27\")>,\n",
       " <selenium.webdriver.remote.webelement.WebElement (session=\"bc2896d44be6f6af3c22b4e3e73c1c84\", element=\"a3c5b397-d684-4895-bfac-8b9868f80c75\")>,\n",
       " <selenium.webdriver.remote.webelement.WebElement (session=\"bc2896d44be6f6af3c22b4e3e73c1c84\", element=\"8bcd8c23-77da-4a4b-a21b-0e2dffe8e2bc\")>,\n",
       " <selenium.webdriver.remote.webelement.WebElement (session=\"bc2896d44be6f6af3c22b4e3e73c1c84\", element=\"de0926d4-5243-413c-bcab-8c5cef874b94\")>,\n",
       " <selenium.webdriver.remote.webelement.WebElement (session=\"bc2896d44be6f6af3c22b4e3e73c1c84\", element=\"ced6fc1d-104e-40f6-89cd-7b3b219cbc7f\")>,\n",
       " <selenium.webdriver.remote.webelement.WebElement (session=\"bc2896d44be6f6af3c22b4e3e73c1c84\", element=\"5bd8df02-57c5-4316-a243-ce2fe0e9694b\")>,\n",
       " <selenium.webdriver.remote.webelement.WebElement (session=\"bc2896d44be6f6af3c22b4e3e73c1c84\", element=\"e2358434-45ce-42ed-8fc4-cbaa6bc35f29\")>,\n",
       " <selenium.webdriver.remote.webelement.WebElement (session=\"bc2896d44be6f6af3c22b4e3e73c1c84\", element=\"4f0250bf-704a-48f7-bd1f-8542bfe75366\")>,\n",
       " <selenium.webdriver.remote.webelement.WebElement (session=\"bc2896d44be6f6af3c22b4e3e73c1c84\", element=\"1e09121c-0619-49df-81f4-f1ab6066864e\")>,\n",
       " <selenium.webdriver.remote.webelement.WebElement (session=\"bc2896d44be6f6af3c22b4e3e73c1c84\", element=\"f915e3d8-912f-4fc7-b5d0-f50342c15c16\")>,\n",
       " <selenium.webdriver.remote.webelement.WebElement (session=\"bc2896d44be6f6af3c22b4e3e73c1c84\", element=\"1eef4f2a-6435-4ddd-8934-78e510b8c1bb\")>,\n",
       " <selenium.webdriver.remote.webelement.WebElement (session=\"bc2896d44be6f6af3c22b4e3e73c1c84\", element=\"eb3ff148-7ec8-48cd-af1c-2a0b812fda7a\")>,\n",
       " <selenium.webdriver.remote.webelement.WebElement (session=\"bc2896d44be6f6af3c22b4e3e73c1c84\", element=\"cdd1eaec-67a1-4b88-aec0-35adcee94d4b\")>,\n",
       " <selenium.webdriver.remote.webelement.WebElement (session=\"bc2896d44be6f6af3c22b4e3e73c1c84\", element=\"68a3dbf4-8213-4a02-bcd4-9677448bfeca\")>,\n",
       " <selenium.webdriver.remote.webelement.WebElement (session=\"bc2896d44be6f6af3c22b4e3e73c1c84\", element=\"11847b0b-fc38-4002-996f-db1c37369aa5\")>,\n",
       " <selenium.webdriver.remote.webelement.WebElement (session=\"bc2896d44be6f6af3c22b4e3e73c1c84\", element=\"845cda0d-2ca0-4db7-a6be-965c21ee1e99\")>,\n",
       " <selenium.webdriver.remote.webelement.WebElement (session=\"bc2896d44be6f6af3c22b4e3e73c1c84\", element=\"cd343d2b-1986-45ff-84a5-4ff390f56eac\")>,\n",
       " <selenium.webdriver.remote.webelement.WebElement (session=\"bc2896d44be6f6af3c22b4e3e73c1c84\", element=\"b2f51c33-4f99-428e-a1f3-a84913657814\")>,\n",
       " <selenium.webdriver.remote.webelement.WebElement (session=\"bc2896d44be6f6af3c22b4e3e73c1c84\", element=\"bd6879a2-c0ea-4723-bcda-a2286bbf2e7f\")>,\n",
       " <selenium.webdriver.remote.webelement.WebElement (session=\"bc2896d44be6f6af3c22b4e3e73c1c84\", element=\"4f6ac579-30ef-4a48-af9d-26b296074a0e\")>,\n",
       " <selenium.webdriver.remote.webelement.WebElement (session=\"bc2896d44be6f6af3c22b4e3e73c1c84\", element=\"60e3f453-02aa-454c-8a3d-2e2f47e468e1\")>,\n",
       " <selenium.webdriver.remote.webelement.WebElement (session=\"bc2896d44be6f6af3c22b4e3e73c1c84\", element=\"888508d8-6e35-455a-9326-70550be5452b\")>,\n",
       " <selenium.webdriver.remote.webelement.WebElement (session=\"bc2896d44be6f6af3c22b4e3e73c1c84\", element=\"9700fe7e-95b4-46ec-83b6-dff0c3e2a715\")>,\n",
       " <selenium.webdriver.remote.webelement.WebElement (session=\"bc2896d44be6f6af3c22b4e3e73c1c84\", element=\"eed9cbd4-3c56-4e68-ba0c-8e640fa95565\")>,\n",
       " <selenium.webdriver.remote.webelement.WebElement (session=\"bc2896d44be6f6af3c22b4e3e73c1c84\", element=\"e233e5f4-d5be-4396-ae98-bc8a9b4a70b4\")>,\n",
       " <selenium.webdriver.remote.webelement.WebElement (session=\"bc2896d44be6f6af3c22b4e3e73c1c84\", element=\"4a20ffc1-32f4-44e4-a971-eee616faecef\")>,\n",
       " <selenium.webdriver.remote.webelement.WebElement (session=\"bc2896d44be6f6af3c22b4e3e73c1c84\", element=\"e1e9c884-a32f-482a-8445-d636be7f1e67\")>,\n",
       " <selenium.webdriver.remote.webelement.WebElement (session=\"bc2896d44be6f6af3c22b4e3e73c1c84\", element=\"ddfe7470-be41-47bb-97c5-47b3ab9e9c52\")>,\n",
       " <selenium.webdriver.remote.webelement.WebElement (session=\"bc2896d44be6f6af3c22b4e3e73c1c84\", element=\"a12be103-49fe-4e7d-8be4-66f7e3fc5766\")>,\n",
       " <selenium.webdriver.remote.webelement.WebElement (session=\"bc2896d44be6f6af3c22b4e3e73c1c84\", element=\"ac664ca1-c6a4-4c11-86e1-d82f2c5783fc\")>]"
      ]
     },
     "execution_count": 140,
     "metadata": {},
     "output_type": "execute_result"
    }
   ],
   "source": [
    "price_tags_myn2=driver.find_elements_by_xpath('//div[@class=\"product-price\"]')\n",
    "price_tags_myn2"
   ]
  },
  {
   "cell_type": "code",
   "execution_count": 141,
   "id": "e5a563e4",
   "metadata": {},
   "outputs": [
    {
     "data": {
      "text/plain": [
       "['Rs. 8499',\n",
       " 'Rs. 12999',\n",
       " 'Rs. 7890',\n",
       " 'Rs. 8999',\n",
       " 'Rs. 7999',\n",
       " 'Rs. 8999',\n",
       " 'Rs. 11599',\n",
       " 'Rs. 7999',\n",
       " 'Rs. 7599Rs. 9499(20% OFF)',\n",
       " 'Rs. 9099Rs. 12999(30% OFF)',\n",
       " 'Rs. 7199Rs. 8999(20% OFF)',\n",
       " 'Rs. 10900',\n",
       " 'Rs. 10500Rs. 10900(Rs. 400 OFF)',\n",
       " 'Rs. 10999',\n",
       " 'Rs. 9499',\n",
       " 'Rs. 9990',\n",
       " 'Rs. 9290',\n",
       " 'Rs. 8499Rs. 9999(15% OFF)',\n",
       " 'Rs. 8990',\n",
       " 'Rs. 8990',\n",
       " 'Rs. 7490',\n",
       " 'Rs. 7900',\n",
       " 'Rs. 8299',\n",
       " 'Rs. 7999',\n",
       " 'Rs. 7499Rs. 9999(25% OFF)',\n",
       " 'Rs. 7199Rs. 11999(40% OFF)',\n",
       " 'Rs. 8575',\n",
       " 'Rs. 7505Rs. 9500(21% OFF)',\n",
       " 'Rs. 7990',\n",
       " 'Rs. 10500',\n",
       " 'Rs. 7999',\n",
       " 'Rs. 11999',\n",
       " 'Rs. 7990',\n",
       " 'Rs. 8490',\n",
       " 'Rs. 7990',\n",
       " 'Rs. 8990',\n",
       " 'Rs. 7999',\n",
       " 'Rs. 9995',\n",
       " 'Rs. 9999',\n",
       " 'Rs. 10999',\n",
       " 'Rs. 7699Rs. 10999(30% OFF)',\n",
       " 'Rs. 7490',\n",
       " 'Rs. 8490',\n",
       " 'Rs. 8999',\n",
       " 'Rs. 8990',\n",
       " 'Rs. 8550Rs. 9500(10% OFF)',\n",
       " 'Rs. 7990',\n",
       " 'Rs. 9990',\n",
       " 'Rs. 8990',\n",
       " 'Rs. 9990']"
      ]
     },
     "execution_count": 141,
     "metadata": {},
     "output_type": "execute_result"
    }
   ],
   "source": [
    "price_myntra2=[]\n",
    "for i in price_tags_myn2:\n",
    "    pr2=i.text\n",
    "    price_myntra2.append(pr2)\n",
    "price_myntra2\n"
   ]
  },
  {
   "cell_type": "code",
   "execution_count": 143,
   "id": "222171d0",
   "metadata": {},
   "outputs": [
    {
     "name": "stdout",
     "output_type": "stream",
     "text": [
      "50 50 50\n"
     ]
    }
   ],
   "source": [
    "print(len(brand_myntra2),len(shoe_myntra2),len(price_myntra2))"
   ]
  },
  {
   "cell_type": "code",
   "execution_count": 144,
   "id": "fd93693c",
   "metadata": {},
   "outputs": [],
   "source": [
    "brand_myntra.extend(brand_myntra2)\n",
    "shoe_myntra.extend(shoe_myntra2)\n",
    "price_myntra.extend(price_myntra2)"
   ]
  },
  {
   "cell_type": "code",
   "execution_count": 145,
   "id": "e4dff4a3",
   "metadata": {},
   "outputs": [
    {
     "name": "stdout",
     "output_type": "stream",
     "text": [
      "100 100 100\n"
     ]
    }
   ],
   "source": [
    "print(len(brand_myntra),len(shoe_myntra),len(price_myntra))"
   ]
  },
  {
   "cell_type": "code",
   "execution_count": 146,
   "id": "e72571bc",
   "metadata": {},
   "outputs": [],
   "source": [
    "myntra_shoes=pd.DataFrame({})\n",
    "myntra_shoes['Brand Name']=brand_myntra\n",
    "myntra_shoes['Shoe Description']=shoe_myntra\n",
    "myntra_shoes['Price']=price_myntra"
   ]
  },
  {
   "cell_type": "code",
   "execution_count": 147,
   "id": "27343fd2",
   "metadata": {},
   "outputs": [
    {
     "data": {
      "text/html": [
       "<div>\n",
       "<style scoped>\n",
       "    .dataframe tbody tr th:only-of-type {\n",
       "        vertical-align: middle;\n",
       "    }\n",
       "\n",
       "    .dataframe tbody tr th {\n",
       "        vertical-align: top;\n",
       "    }\n",
       "\n",
       "    .dataframe thead th {\n",
       "        text-align: right;\n",
       "    }\n",
       "</style>\n",
       "<table border=\"1\" class=\"dataframe\">\n",
       "  <thead>\n",
       "    <tr style=\"text-align: right;\">\n",
       "      <th></th>\n",
       "      <th>Brand Name</th>\n",
       "      <th>Shoe Description</th>\n",
       "      <th>Price</th>\n",
       "    </tr>\n",
       "  </thead>\n",
       "  <tbody>\n",
       "    <tr>\n",
       "      <th>0</th>\n",
       "      <td>Puma</td>\n",
       "      <td>Men Jamming 2.0 Running Shoes</td>\n",
       "      <td>Rs. 11049Rs. 12999(15% OFF)</td>\n",
       "    </tr>\n",
       "    <tr>\n",
       "      <th>1</th>\n",
       "      <td>ALDO</td>\n",
       "      <td>Men Leather Driving Shoes</td>\n",
       "      <td>Rs. 12999</td>\n",
       "    </tr>\n",
       "    <tr>\n",
       "      <th>2</th>\n",
       "      <td>Skechers</td>\n",
       "      <td>Men Max Cushioning Running</td>\n",
       "      <td>Rs. 7649Rs. 8999(15% OFF)</td>\n",
       "    </tr>\n",
       "    <tr>\n",
       "      <th>3</th>\n",
       "      <td>one8 x PUMA</td>\n",
       "      <td>Men Fuse One8 Training Shoes</td>\n",
       "      <td>Rs. 7999</td>\n",
       "    </tr>\n",
       "    <tr>\n",
       "      <th>4</th>\n",
       "      <td>ADIDAS</td>\n",
       "      <td>Men Dropset Training Shoes</td>\n",
       "      <td>Rs. 12999</td>\n",
       "    </tr>\n",
       "    <tr>\n",
       "      <th>...</th>\n",
       "      <td>...</td>\n",
       "      <td>...</td>\n",
       "      <td>...</td>\n",
       "    </tr>\n",
       "    <tr>\n",
       "      <th>95</th>\n",
       "      <td>Saint G</td>\n",
       "      <td>Women Leather Block Heels</td>\n",
       "      <td>Rs. 8550Rs. 9500(10% OFF)</td>\n",
       "    </tr>\n",
       "    <tr>\n",
       "      <th>96</th>\n",
       "      <td>DAVINCHI</td>\n",
       "      <td>Solid Slip On Shoes</td>\n",
       "      <td>Rs. 7990</td>\n",
       "    </tr>\n",
       "    <tr>\n",
       "      <th>97</th>\n",
       "      <td>J.FONTINI</td>\n",
       "      <td>Men Solid Leather Formal Loafers</td>\n",
       "      <td>Rs. 9990</td>\n",
       "    </tr>\n",
       "    <tr>\n",
       "      <th>98</th>\n",
       "      <td>J.FONTINI</td>\n",
       "      <td>Men Textured Leather Formal Loafers</td>\n",
       "      <td>Rs. 8990</td>\n",
       "    </tr>\n",
       "    <tr>\n",
       "      <th>99</th>\n",
       "      <td>DAVINCHI</td>\n",
       "      <td>Men Solid Leather Formal Derbys</td>\n",
       "      <td>Rs. 9990</td>\n",
       "    </tr>\n",
       "  </tbody>\n",
       "</table>\n",
       "<p>100 rows × 3 columns</p>\n",
       "</div>"
      ],
      "text/plain": [
       "     Brand Name                     Shoe Description  \\\n",
       "0          Puma        Men Jamming 2.0 Running Shoes   \n",
       "1          ALDO            Men Leather Driving Shoes   \n",
       "2      Skechers           Men Max Cushioning Running   \n",
       "3   one8 x PUMA         Men Fuse One8 Training Shoes   \n",
       "4        ADIDAS           Men Dropset Training Shoes   \n",
       "..          ...                                  ...   \n",
       "95      Saint G            Women Leather Block Heels   \n",
       "96     DAVINCHI                  Solid Slip On Shoes   \n",
       "97    J.FONTINI     Men Solid Leather Formal Loafers   \n",
       "98    J.FONTINI  Men Textured Leather Formal Loafers   \n",
       "99     DAVINCHI      Men Solid Leather Formal Derbys   \n",
       "\n",
       "                          Price  \n",
       "0   Rs. 11049Rs. 12999(15% OFF)  \n",
       "1                     Rs. 12999  \n",
       "2     Rs. 7649Rs. 8999(15% OFF)  \n",
       "3                      Rs. 7999  \n",
       "4                     Rs. 12999  \n",
       "..                          ...  \n",
       "95    Rs. 8550Rs. 9500(10% OFF)  \n",
       "96                     Rs. 7990  \n",
       "97                     Rs. 9990  \n",
       "98                     Rs. 8990  \n",
       "99                     Rs. 9990  \n",
       "\n",
       "[100 rows x 3 columns]"
      ]
     },
     "execution_count": 147,
     "metadata": {},
     "output_type": "execute_result"
    }
   ],
   "source": [
    "myntra_shoes"
   ]
  },
  {
   "cell_type": "markdown",
   "id": "68c2181b",
   "metadata": {},
   "source": [
    "# question8"
   ]
  },
  {
   "cell_type": "code",
   "execution_count": 148,
   "id": "7341c4aa",
   "metadata": {},
   "outputs": [],
   "source": [
    "import selenium\n",
    "import pandas as pd\n",
    "from selenium import webdriver\n",
    "import warnings\n",
    "warnings.filterwarnings(\"ignore\")\n",
    "import time\n"
   ]
  },
  {
   "cell_type": "code",
   "execution_count": 149,
   "id": "b5d231e3",
   "metadata": {},
   "outputs": [],
   "source": [
    "driver=webdriver.Chrome(r\"C:\\Users\\reach\\chromedriver.exe\")"
   ]
  },
  {
   "cell_type": "code",
   "execution_count": 151,
   "id": "5bf9d427",
   "metadata": {},
   "outputs": [],
   "source": [
    "driver.get(\"https://www.amazon.in/\")\n"
   ]
  },
  {
   "cell_type": "code",
   "execution_count": 152,
   "id": "29daf184",
   "metadata": {},
   "outputs": [],
   "source": [
    "search_field_dest=driver.find_element_by_xpath('/html/body/div[2]/header/div/div[1]/div[2]/div/form/div[2]/div[1]/input')\n",
    "search_field_dest.send_keys(\"laptop\")"
   ]
  },
  {
   "cell_type": "code",
   "execution_count": 154,
   "id": "e87673ea",
   "metadata": {},
   "outputs": [],
   "source": [
    "search_amazon=driver.find_element_by_xpath('/html/body/div[2]/header/div/div[1]/div[2]/div/form/div[3]/div/span/input')\n",
    "search_amazon.click()\n"
   ]
  },
  {
   "cell_type": "code",
   "execution_count": 155,
   "id": "ce30d4d4",
   "metadata": {},
   "outputs": [],
   "source": [
    "cpu_filter1=driver.find_element_by_xpath('/html/body/div[2]/div[2]/div[1]/div[2]/div/div[3]/span/div[1]/div/div/div[6]/ul[4]/li[13]/span/a/div/label/i')\n",
    "cpu_filter1.click()\n"
   ]
  },
  {
   "cell_type": "markdown",
   "id": "010bc406",
   "metadata": {},
   "source": [
    "intel icore i7:"
   ]
  },
  {
   "cell_type": "code",
   "execution_count": 157,
   "id": "9c5b2f02",
   "metadata": {},
   "outputs": [],
   "source": [
    "url_amazon1=\"https://www.amazon.in/s?k=laptop&rh=n%3A1375424031%2Cp_n_feature_thirteen_browse-bin%3A12598163031&dc&crid=1LVMFIX0VG1PV&qid=1650784402&rnid=12598141031&sprefix=laptop%2Caps%2C791&ref=sr_nr_p_n_feature_thirteen_browse-bin_13\""
   ]
  },
  {
   "cell_type": "code",
   "execution_count": 158,
   "id": "d0c4d2f4",
   "metadata": {},
   "outputs": [],
   "source": [
    "driver.get(url_amazon1)"
   ]
  },
  {
   "cell_type": "code",
   "execution_count": 159,
   "id": "ca47d680",
   "metadata": {},
   "outputs": [],
   "source": [
    "titles_amazon=[]\n",
    "price_amazon=[]"
   ]
  },
  {
   "cell_type": "code",
   "execution_count": 160,
   "id": "bc466b2e",
   "metadata": {},
   "outputs": [
    {
     "data": {
      "text/plain": [
       "[<selenium.webdriver.remote.webelement.WebElement (session=\"b0fc9fa1a5f5bc1d41add074280a761f\", element=\"74187966-78fa-4f89-b3d9-c0f3dd4a5192\")>,\n",
       " <selenium.webdriver.remote.webelement.WebElement (session=\"b0fc9fa1a5f5bc1d41add074280a761f\", element=\"2b39c716-17a8-47f8-acd7-df6441471d8c\")>,\n",
       " <selenium.webdriver.remote.webelement.WebElement (session=\"b0fc9fa1a5f5bc1d41add074280a761f\", element=\"ef9ae94f-7e4f-4979-bec8-ec281d9bbbec\")>,\n",
       " <selenium.webdriver.remote.webelement.WebElement (session=\"b0fc9fa1a5f5bc1d41add074280a761f\", element=\"6c44334e-913a-47e1-85aa-210d7e73f25a\")>,\n",
       " <selenium.webdriver.remote.webelement.WebElement (session=\"b0fc9fa1a5f5bc1d41add074280a761f\", element=\"b23ecefe-bdd4-4aa7-9fea-edf33c71ec12\")>,\n",
       " <selenium.webdriver.remote.webelement.WebElement (session=\"b0fc9fa1a5f5bc1d41add074280a761f\", element=\"c2079a04-137e-43fb-9f34-01c8f7c0d697\")>,\n",
       " <selenium.webdriver.remote.webelement.WebElement (session=\"b0fc9fa1a5f5bc1d41add074280a761f\", element=\"0bcb8dfa-9226-4e69-b8fd-be881b307799\")>,\n",
       " <selenium.webdriver.remote.webelement.WebElement (session=\"b0fc9fa1a5f5bc1d41add074280a761f\", element=\"43a50ad5-59fc-4a30-b86c-48b8b7f54d7b\")>,\n",
       " <selenium.webdriver.remote.webelement.WebElement (session=\"b0fc9fa1a5f5bc1d41add074280a761f\", element=\"c08c69e9-5eb6-4537-b3aa-1b5420ef6c04\")>,\n",
       " <selenium.webdriver.remote.webelement.WebElement (session=\"b0fc9fa1a5f5bc1d41add074280a761f\", element=\"f27813a3-3b2b-4e2a-9476-468446ce9b95\")>,\n",
       " <selenium.webdriver.remote.webelement.WebElement (session=\"b0fc9fa1a5f5bc1d41add074280a761f\", element=\"7b5634ed-922a-4e70-b086-537cc3a231a1\")>,\n",
       " <selenium.webdriver.remote.webelement.WebElement (session=\"b0fc9fa1a5f5bc1d41add074280a761f\", element=\"e8e71259-78fa-47c9-9c5b-ba3794303cef\")>,\n",
       " <selenium.webdriver.remote.webelement.WebElement (session=\"b0fc9fa1a5f5bc1d41add074280a761f\", element=\"12f63277-40f4-48bf-bbae-18592286578e\")>,\n",
       " <selenium.webdriver.remote.webelement.WebElement (session=\"b0fc9fa1a5f5bc1d41add074280a761f\", element=\"200815d1-49a4-4a64-884a-9315d1547916\")>,\n",
       " <selenium.webdriver.remote.webelement.WebElement (session=\"b0fc9fa1a5f5bc1d41add074280a761f\", element=\"743e5da2-30f0-4676-a9a3-5b7e5d1a9f10\")>,\n",
       " <selenium.webdriver.remote.webelement.WebElement (session=\"b0fc9fa1a5f5bc1d41add074280a761f\", element=\"b3dc2847-0fad-4b4e-98e0-8b1552fab23a\")>,\n",
       " <selenium.webdriver.remote.webelement.WebElement (session=\"b0fc9fa1a5f5bc1d41add074280a761f\", element=\"1e56194d-d974-4f67-8a3a-9964c71415e3\")>,\n",
       " <selenium.webdriver.remote.webelement.WebElement (session=\"b0fc9fa1a5f5bc1d41add074280a761f\", element=\"7f4363d1-0ea9-45a1-b3af-c25a00c6e66c\")>,\n",
       " <selenium.webdriver.remote.webelement.WebElement (session=\"b0fc9fa1a5f5bc1d41add074280a761f\", element=\"47a3e66d-19bc-4992-be31-ffba7a596fd7\")>,\n",
       " <selenium.webdriver.remote.webelement.WebElement (session=\"b0fc9fa1a5f5bc1d41add074280a761f\", element=\"ac5fee4a-229e-4492-89ac-5bb72f457d4c\")>,\n",
       " <selenium.webdriver.remote.webelement.WebElement (session=\"b0fc9fa1a5f5bc1d41add074280a761f\", element=\"61856db7-2854-4590-acc0-2ed3b9752967\")>,\n",
       " <selenium.webdriver.remote.webelement.WebElement (session=\"b0fc9fa1a5f5bc1d41add074280a761f\", element=\"f6cf6b22-2a41-4850-a5bb-1e7bdda31a1d\")>,\n",
       " <selenium.webdriver.remote.webelement.WebElement (session=\"b0fc9fa1a5f5bc1d41add074280a761f\", element=\"9034b0c5-d048-4d9e-b4a6-6cd678955f7e\")>,\n",
       " <selenium.webdriver.remote.webelement.WebElement (session=\"b0fc9fa1a5f5bc1d41add074280a761f\", element=\"e41241ef-54ed-4860-a5da-07837cbfac9c\")>,\n",
       " <selenium.webdriver.remote.webelement.WebElement (session=\"b0fc9fa1a5f5bc1d41add074280a761f\", element=\"482782c5-7ec0-402a-acbf-360b9393d7f3\")>,\n",
       " <selenium.webdriver.remote.webelement.WebElement (session=\"b0fc9fa1a5f5bc1d41add074280a761f\", element=\"8b29cbdb-8c30-4f13-bb25-58670a62dde5\")>,\n",
       " <selenium.webdriver.remote.webelement.WebElement (session=\"b0fc9fa1a5f5bc1d41add074280a761f\", element=\"7fec4501-2ef9-48eb-a08b-a5d150ed0abb\")>,\n",
       " <selenium.webdriver.remote.webelement.WebElement (session=\"b0fc9fa1a5f5bc1d41add074280a761f\", element=\"fe4064a4-47b1-44c6-93b7-cb73ed0d1844\")>,\n",
       " <selenium.webdriver.remote.webelement.WebElement (session=\"b0fc9fa1a5f5bc1d41add074280a761f\", element=\"6aada5c8-b4a3-469e-a9a8-60f87c7d0e3e\")>,\n",
       " <selenium.webdriver.remote.webelement.WebElement (session=\"b0fc9fa1a5f5bc1d41add074280a761f\", element=\"990b80ee-178e-4d38-a731-1f3c9d82d989\")>]"
      ]
     },
     "execution_count": 160,
     "metadata": {},
     "output_type": "execute_result"
    }
   ],
   "source": [
    "title_tags_azn=driver.find_elements_by_xpath('//span[@class=\"a-size-medium a-color-base a-text-normal\"]')  \n",
    "title_tags_azn\n"
   ]
  },
  {
   "cell_type": "code",
   "execution_count": 161,
   "id": "dffecabc",
   "metadata": {},
   "outputs": [
    {
     "data": {
      "text/plain": [
       "30"
      ]
     },
     "execution_count": 161,
     "metadata": {},
     "output_type": "execute_result"
    }
   ],
   "source": [
    "len(title_tags_azn)"
   ]
  },
  {
   "cell_type": "code",
   "execution_count": 162,
   "id": "5a3d535e",
   "metadata": {},
   "outputs": [
    {
     "data": {
      "text/plain": [
       "['LG Gram 14 inches Ultra-Light Intel Evo 11th Gen Core i7 Laptop (16 GB RAM, 512 GB SSD, New Windows 11 Home Preload, Iris Xe Graphics, USC -C x 2 (with Power), 0.999Kg, (14Z90P-G.AH85A2, Black)',\n",
       " 'LG Gram Intel Evo 11th Gen Core i7 17 inches Ultra-Light Laptop (16 GB RAM, 512 GB SSD, New Windows 11 Home Preload, Iris Xe Graphics, USC -C x 2 (with Power), 1.35 kg, 17Z90P-G.AH85A2, Black)',\n",
       " 'Lenovo ThinkBook 15 Intel 11th Gen Core i7 15.6\"(39.62 cm)FHD Thin and Light Laptop (16GB/512GB SSD/Windows 11 Home/MS Office H&S 2021/Iris® Xe Graphics/Backlit/Mineral Grey/1.7 Kg) 20VE00W4IH',\n",
       " 'ASUS VivoBook 14 (2021), 14-inch (35.56 cms) FHD, Intel Core i7-1065G7 10th Gen, Thin and Light Laptop (16GB/512GB SSD/Integrated Graphics/Office 2021/Windows 11/Silver/1.6 Kg), X415JA-EK701WS',\n",
       " 'HP Pavilion 14, 11th Gen Intel Core i7-16GB RAM/1TB SSD 14 inch(35.6 cm) Laptop/Intel Iris Xe Graphics/Backlit Keyboard/Alexa/B&O Audio/Fast Charge/FPR/Win 11/MS Office, 14-dv1029TU,Natural Silver',\n",
       " 'LG Gram 16 inches Intel Evo 11th Gen Core i7 Ultra-Light Laptop (16 GB RAM, 512 GB SSD, New Windows 11 Home Preload, Iris Xe Graphics, USC -C x 2 (with Power), 1.19 kg, 16Z90P-G.AH85A2, Black)',\n",
       " 'HP Pavilion x360 11th Gen Intel Core i7 14 inch(35.6 cm) FHD Multitouch 2-in-1 Laptop(16GB RAM/512GB SSD/B&O/Win 11/FPR/Backlit KB/Intel Iris Xe Graphics/Pen/Alexa/MS Office/Silver/1.52Kg) 14-dy1047TU',\n",
       " 'Dell Alienware x17 R1 (2021) i7-11800H Gaming Laptop, 32GB, 1TB SSD, Win 11 + MSO\\'21, NVIDIA RTX 3070 8GB, 17.3\" (43.94 cms) FHD 360Hz, Backlit KB + Alien FX, Lunar Light (D569935WIN9)',\n",
       " 'Lenovo IdeaPad Gaming 3 Intel Core i7 10th Gen 39.62 cm (15.6\") FHD IPS 250Nits Gaming Laptop (8GB/512GB SSD/Win10/NVIDIA GTX 1650 4GB GDDR6 Graphics/120Hz/Onyx Black/2.2Kg), 81Y4019EIN',\n",
       " 'LG Gram Intel Evo 11th Gen Core i7 17 inches Ultra-Light Laptop (16 GB RAM, 512 GB SSD, New Windows 11 Home Preload, Iris Xe Graphics, USC -C x 2 (with Power), 1.35 kg, 17Z90P-G.AH85A2, Black)']"
      ]
     },
     "execution_count": 162,
     "metadata": {},
     "output_type": "execute_result"
    }
   ],
   "source": [
    "for i in title_tags_azn:\n",
    "    t1=i.text\n",
    "    titles_amazon.append(t1)\n",
    "titles_amazon[0:10]\n"
   ]
  },
  {
   "cell_type": "code",
   "execution_count": 164,
   "id": "6f7c8aec",
   "metadata": {},
   "outputs": [
    {
     "data": {
      "text/plain": [
       "[<selenium.webdriver.remote.webelement.WebElement (session=\"b0fc9fa1a5f5bc1d41add074280a761f\", element=\"657bdab7-0e3d-47dd-9bbf-086641357397\")>,\n",
       " <selenium.webdriver.remote.webelement.WebElement (session=\"b0fc9fa1a5f5bc1d41add074280a761f\", element=\"94df8af4-38bf-4679-b514-0caef80a8c32\")>,\n",
       " <selenium.webdriver.remote.webelement.WebElement (session=\"b0fc9fa1a5f5bc1d41add074280a761f\", element=\"42b7d3d4-54b3-4211-b99f-0fd7df2a80c2\")>,\n",
       " <selenium.webdriver.remote.webelement.WebElement (session=\"b0fc9fa1a5f5bc1d41add074280a761f\", element=\"6229f2de-8ed3-4ee2-9a2a-5e134d5cc5e7\")>,\n",
       " <selenium.webdriver.remote.webelement.WebElement (session=\"b0fc9fa1a5f5bc1d41add074280a761f\", element=\"15134e4c-09ac-4011-95b8-c5809320a1c9\")>,\n",
       " <selenium.webdriver.remote.webelement.WebElement (session=\"b0fc9fa1a5f5bc1d41add074280a761f\", element=\"ba45bdbc-857b-4e9f-8e51-d395cbea4dc6\")>,\n",
       " <selenium.webdriver.remote.webelement.WebElement (session=\"b0fc9fa1a5f5bc1d41add074280a761f\", element=\"a70d490e-7dd9-4cc1-bf57-58230457fab0\")>,\n",
       " <selenium.webdriver.remote.webelement.WebElement (session=\"b0fc9fa1a5f5bc1d41add074280a761f\", element=\"6a0e2c34-b0c3-4f76-b31c-6f203d72e1af\")>,\n",
       " <selenium.webdriver.remote.webelement.WebElement (session=\"b0fc9fa1a5f5bc1d41add074280a761f\", element=\"eb4667fb-ea68-46cd-83df-92937ef2f7fa\")>,\n",
       " <selenium.webdriver.remote.webelement.WebElement (session=\"b0fc9fa1a5f5bc1d41add074280a761f\", element=\"a469504c-23a8-452b-a758-b1af69087158\")>,\n",
       " <selenium.webdriver.remote.webelement.WebElement (session=\"b0fc9fa1a5f5bc1d41add074280a761f\", element=\"a069e85b-ac5f-45b4-ab6d-d7e7122d09b3\")>,\n",
       " <selenium.webdriver.remote.webelement.WebElement (session=\"b0fc9fa1a5f5bc1d41add074280a761f\", element=\"5e67a76c-0932-46af-84d2-df3e25d1720a\")>,\n",
       " <selenium.webdriver.remote.webelement.WebElement (session=\"b0fc9fa1a5f5bc1d41add074280a761f\", element=\"f0de31bd-6eb4-42b1-912e-085e2bab85ea\")>,\n",
       " <selenium.webdriver.remote.webelement.WebElement (session=\"b0fc9fa1a5f5bc1d41add074280a761f\", element=\"5d69d803-f49c-4336-a2c4-dad2292062aa\")>,\n",
       " <selenium.webdriver.remote.webelement.WebElement (session=\"b0fc9fa1a5f5bc1d41add074280a761f\", element=\"c95b6fc6-dd14-4a8d-97db-5fff0d8a02eb\")>,\n",
       " <selenium.webdriver.remote.webelement.WebElement (session=\"b0fc9fa1a5f5bc1d41add074280a761f\", element=\"d4816436-daa1-4fc0-a9b0-bc24865af8e0\")>,\n",
       " <selenium.webdriver.remote.webelement.WebElement (session=\"b0fc9fa1a5f5bc1d41add074280a761f\", element=\"5770396d-973e-4cad-8b49-ffd116243b64\")>,\n",
       " <selenium.webdriver.remote.webelement.WebElement (session=\"b0fc9fa1a5f5bc1d41add074280a761f\", element=\"55049f78-30d1-439e-9be2-ef3417ed53e6\")>,\n",
       " <selenium.webdriver.remote.webelement.WebElement (session=\"b0fc9fa1a5f5bc1d41add074280a761f\", element=\"97f7dc83-d890-4c64-8ca5-ea02f9e58b87\")>,\n",
       " <selenium.webdriver.remote.webelement.WebElement (session=\"b0fc9fa1a5f5bc1d41add074280a761f\", element=\"7c1ebf43-9fdf-41e9-bba2-ac91cc2b3ab3\")>,\n",
       " <selenium.webdriver.remote.webelement.WebElement (session=\"b0fc9fa1a5f5bc1d41add074280a761f\", element=\"b59f6a40-80b8-4ece-8a6e-7b70d33b25bd\")>,\n",
       " <selenium.webdriver.remote.webelement.WebElement (session=\"b0fc9fa1a5f5bc1d41add074280a761f\", element=\"1fe49441-0b58-4e0c-99d4-0b318273f1b6\")>,\n",
       " <selenium.webdriver.remote.webelement.WebElement (session=\"b0fc9fa1a5f5bc1d41add074280a761f\", element=\"ad5db76d-8033-4968-ab9f-045787431c0a\")>,\n",
       " <selenium.webdriver.remote.webelement.WebElement (session=\"b0fc9fa1a5f5bc1d41add074280a761f\", element=\"6f62e5c4-ed01-47a8-a817-a006b0fd7e1f\")>,\n",
       " <selenium.webdriver.remote.webelement.WebElement (session=\"b0fc9fa1a5f5bc1d41add074280a761f\", element=\"8ce5c47b-f84d-4c86-84c8-9bffb361d666\")>,\n",
       " <selenium.webdriver.remote.webelement.WebElement (session=\"b0fc9fa1a5f5bc1d41add074280a761f\", element=\"b46b0952-4060-4ad3-9a76-0466e0818c32\")>,\n",
       " <selenium.webdriver.remote.webelement.WebElement (session=\"b0fc9fa1a5f5bc1d41add074280a761f\", element=\"3aa8f173-6f86-46a8-a8ac-4bdff98d16b2\")>,\n",
       " <selenium.webdriver.remote.webelement.WebElement (session=\"b0fc9fa1a5f5bc1d41add074280a761f\", element=\"04985914-1be3-4045-bbe8-5f89e7ac8593\")>,\n",
       " <selenium.webdriver.remote.webelement.WebElement (session=\"b0fc9fa1a5f5bc1d41add074280a761f\", element=\"4107850f-77cf-4e91-8d3b-3c1dd24032e6\")>,\n",
       " <selenium.webdriver.remote.webelement.WebElement (session=\"b0fc9fa1a5f5bc1d41add074280a761f\", element=\"e48a509a-bb32-4b82-a28e-9c6e5eda8d9c\")>]"
      ]
     },
     "execution_count": 164,
     "metadata": {},
     "output_type": "execute_result"
    }
   ],
   "source": [
    "price_tags_azn=driver.find_elements_by_xpath('//span[@class=\"a-price-whole\"]')\n",
    "price_tags_azn\n"
   ]
  },
  {
   "cell_type": "code",
   "execution_count": 165,
   "id": "2ad9a671",
   "metadata": {},
   "outputs": [
    {
     "data": {
      "text/plain": [
       "30"
      ]
     },
     "execution_count": 165,
     "metadata": {},
     "output_type": "execute_result"
    }
   ],
   "source": [
    "len(price_tags_azn)"
   ]
  },
  {
   "cell_type": "code",
   "execution_count": 166,
   "id": "4c27f9f3",
   "metadata": {},
   "outputs": [
    {
     "data": {
      "text/plain": [
       "['88,499',\n",
       " '93,999',\n",
       " '86,990',\n",
       " '57,490',\n",
       " '86,990',\n",
       " '89,611',\n",
       " '86,990',\n",
       " '3,25,428',\n",
       " '68,990',\n",
       " '93,999']"
      ]
     },
     "execution_count": 166,
     "metadata": {},
     "output_type": "execute_result"
    }
   ],
   "source": [
    "for i in price_tags_azn:\n",
    "    p1=i.text\n",
    "    price_amazon.append(p1)\n",
    "price_amazon[0:10]\n"
   ]
  },
  {
   "cell_type": "code",
   "execution_count": 167,
   "id": "c8aedc1e",
   "metadata": {},
   "outputs": [
    {
     "name": "stdout",
     "output_type": "stream",
     "text": [
      "30 30\n"
     ]
    }
   ],
   "source": [
    "print(len(titles_amazon),len(price_amazon))\n"
   ]
  },
  {
   "cell_type": "code",
   "execution_count": 168,
   "id": "784899b7",
   "metadata": {},
   "outputs": [],
   "source": [
    "Intel_Core_i7=pd.DataFrame({})\n",
    "Intel_Core_i7['Title of Laptop']=titles_amazon[0:10]\n",
    "Intel_Core_i7['Price of Laptop']=price_amazon[0:10]\n"
   ]
  },
  {
   "cell_type": "code",
   "execution_count": 169,
   "id": "c997daf3",
   "metadata": {},
   "outputs": [
    {
     "data": {
      "text/html": [
       "<div>\n",
       "<style scoped>\n",
       "    .dataframe tbody tr th:only-of-type {\n",
       "        vertical-align: middle;\n",
       "    }\n",
       "\n",
       "    .dataframe tbody tr th {\n",
       "        vertical-align: top;\n",
       "    }\n",
       "\n",
       "    .dataframe thead th {\n",
       "        text-align: right;\n",
       "    }\n",
       "</style>\n",
       "<table border=\"1\" class=\"dataframe\">\n",
       "  <thead>\n",
       "    <tr style=\"text-align: right;\">\n",
       "      <th></th>\n",
       "      <th>Title of Laptop</th>\n",
       "      <th>Price of Laptop</th>\n",
       "    </tr>\n",
       "  </thead>\n",
       "  <tbody>\n",
       "    <tr>\n",
       "      <th>0</th>\n",
       "      <td>LG Gram 14 inches Ultra-Light Intel Evo 11th G...</td>\n",
       "      <td>88,499</td>\n",
       "    </tr>\n",
       "    <tr>\n",
       "      <th>1</th>\n",
       "      <td>LG Gram Intel Evo 11th Gen Core i7 17 inches U...</td>\n",
       "      <td>93,999</td>\n",
       "    </tr>\n",
       "    <tr>\n",
       "      <th>2</th>\n",
       "      <td>Lenovo ThinkBook 15 Intel 11th Gen Core i7 15....</td>\n",
       "      <td>86,990</td>\n",
       "    </tr>\n",
       "    <tr>\n",
       "      <th>3</th>\n",
       "      <td>ASUS VivoBook 14 (2021), 14-inch (35.56 cms) F...</td>\n",
       "      <td>57,490</td>\n",
       "    </tr>\n",
       "    <tr>\n",
       "      <th>4</th>\n",
       "      <td>HP Pavilion 14, 11th Gen Intel Core i7-16GB RA...</td>\n",
       "      <td>86,990</td>\n",
       "    </tr>\n",
       "    <tr>\n",
       "      <th>5</th>\n",
       "      <td>LG Gram 16 inches Intel Evo 11th Gen Core i7 U...</td>\n",
       "      <td>89,611</td>\n",
       "    </tr>\n",
       "    <tr>\n",
       "      <th>6</th>\n",
       "      <td>HP Pavilion x360 11th Gen Intel Core i7 14 inc...</td>\n",
       "      <td>86,990</td>\n",
       "    </tr>\n",
       "    <tr>\n",
       "      <th>7</th>\n",
       "      <td>Dell Alienware x17 R1 (2021) i7-11800H Gaming ...</td>\n",
       "      <td>3,25,428</td>\n",
       "    </tr>\n",
       "    <tr>\n",
       "      <th>8</th>\n",
       "      <td>Lenovo IdeaPad Gaming 3 Intel Core i7 10th Gen...</td>\n",
       "      <td>68,990</td>\n",
       "    </tr>\n",
       "    <tr>\n",
       "      <th>9</th>\n",
       "      <td>LG Gram Intel Evo 11th Gen Core i7 17 inches U...</td>\n",
       "      <td>93,999</td>\n",
       "    </tr>\n",
       "  </tbody>\n",
       "</table>\n",
       "</div>"
      ],
      "text/plain": [
       "                                     Title of Laptop Price of Laptop\n",
       "0  LG Gram 14 inches Ultra-Light Intel Evo 11th G...          88,499\n",
       "1  LG Gram Intel Evo 11th Gen Core i7 17 inches U...          93,999\n",
       "2  Lenovo ThinkBook 15 Intel 11th Gen Core i7 15....          86,990\n",
       "3  ASUS VivoBook 14 (2021), 14-inch (35.56 cms) F...          57,490\n",
       "4  HP Pavilion 14, 11th Gen Intel Core i7-16GB RA...          86,990\n",
       "5  LG Gram 16 inches Intel Evo 11th Gen Core i7 U...          89,611\n",
       "6  HP Pavilion x360 11th Gen Intel Core i7 14 inc...          86,990\n",
       "7  Dell Alienware x17 R1 (2021) i7-11800H Gaming ...        3,25,428\n",
       "8  Lenovo IdeaPad Gaming 3 Intel Core i7 10th Gen...          68,990\n",
       "9  LG Gram Intel Evo 11th Gen Core i7 17 inches U...          93,999"
      ]
     },
     "execution_count": 169,
     "metadata": {},
     "output_type": "execute_result"
    }
   ],
   "source": [
    "Intel_Core_i7"
   ]
  },
  {
   "cell_type": "markdown",
   "id": "290dac93",
   "metadata": {},
   "source": [
    "intel icore i9"
   ]
  },
  {
   "cell_type": "code",
   "execution_count": 176,
   "id": "9e3d5fb6",
   "metadata": {},
   "outputs": [],
   "source": [
    "search_field_dest=driver.find_element_by_xpath('/html/body/div[2]/header/div/div[1]/div[2]/div/form/div[2]/div[1]/input')\n",
    "search_field_dest.send_keys(\"laptop\")\n"
   ]
  },
  {
   "cell_type": "code",
   "execution_count": 177,
   "id": "bf9c8b8a",
   "metadata": {},
   "outputs": [],
   "source": [
    "search_amazon=driver.find_element_by_xpath('/html/body/div[2]/header/div/div[1]/div[2]/div/form/div[3]/div/span/input')\n",
    "search_amazon.click()\n"
   ]
  },
  {
   "cell_type": "code",
   "execution_count": 178,
   "id": "dc50cc84",
   "metadata": {},
   "outputs": [],
   "source": [
    "cpu_filter2=driver.find_element_by_xpath('/html/body/div[2]/div[2]/div[1]/div[2]/div/div[3]/span/div[1]/div/div/div[6]/ul[4]/li[12]/span/a/div/label/i')\n",
    "cpu_filter2.click()\n",
    "\n"
   ]
  },
  {
   "cell_type": "code",
   "execution_count": 179,
   "id": "da6c1414",
   "metadata": {},
   "outputs": [],
   "source": [
    "url_amazon2=\"https://www.amazon.in/s?k=laptop&i=computers&rh=n%3A1375424031%2Cp_n_feature_thirteen_browse-bin%3A16757432031&dc&qid=1650785008&rnid=12598141031&ref=sr_nr_p_n_feature_thirteen_browse-bin_12\"\n"
   ]
  },
  {
   "cell_type": "code",
   "execution_count": 180,
   "id": "8b0dfec3",
   "metadata": {},
   "outputs": [],
   "source": [
    "driver.get(url_amazon2)"
   ]
  },
  {
   "cell_type": "code",
   "execution_count": 181,
   "id": "b247ce8d",
   "metadata": {},
   "outputs": [],
   "source": [
    "titles_amazon2=[]\n",
    "price_amazon2=[]"
   ]
  },
  {
   "cell_type": "code",
   "execution_count": 183,
   "id": "cc56fb84",
   "metadata": {},
   "outputs": [
    {
     "data": {
      "text/plain": [
       "[<selenium.webdriver.remote.webelement.WebElement (session=\"b0fc9fa1a5f5bc1d41add074280a761f\", element=\"c16b5952-0d63-451f-99f7-d86285bfce3b\")>,\n",
       " <selenium.webdriver.remote.webelement.WebElement (session=\"b0fc9fa1a5f5bc1d41add074280a761f\", element=\"9f419453-afe1-4780-86a9-dbb4de979558\")>,\n",
       " <selenium.webdriver.remote.webelement.WebElement (session=\"b0fc9fa1a5f5bc1d41add074280a761f\", element=\"205ffdf9-8fb5-47e9-8883-a9d293a6fc4a\")>,\n",
       " <selenium.webdriver.remote.webelement.WebElement (session=\"b0fc9fa1a5f5bc1d41add074280a761f\", element=\"c7cfb1a9-bcb2-4fa8-ba44-8c7decb0f746\")>,\n",
       " <selenium.webdriver.remote.webelement.WebElement (session=\"b0fc9fa1a5f5bc1d41add074280a761f\", element=\"eccf57c3-ebc5-4100-a1fb-801e2f717099\")>,\n",
       " <selenium.webdriver.remote.webelement.WebElement (session=\"b0fc9fa1a5f5bc1d41add074280a761f\", element=\"95954ddd-995f-4592-9146-036a070468b3\")>,\n",
       " <selenium.webdriver.remote.webelement.WebElement (session=\"b0fc9fa1a5f5bc1d41add074280a761f\", element=\"590387e8-8045-42b9-939e-9b7ee75d3f64\")>,\n",
       " <selenium.webdriver.remote.webelement.WebElement (session=\"b0fc9fa1a5f5bc1d41add074280a761f\", element=\"c758e59f-e181-4b70-a9d2-aacaaba3277e\")>,\n",
       " <selenium.webdriver.remote.webelement.WebElement (session=\"b0fc9fa1a5f5bc1d41add074280a761f\", element=\"030eef0e-f18d-498f-bf48-afdeb2058cb5\")>,\n",
       " <selenium.webdriver.remote.webelement.WebElement (session=\"b0fc9fa1a5f5bc1d41add074280a761f\", element=\"ab931c32-4c78-4eb4-9f5e-dd8a273802f2\")>]"
      ]
     },
     "execution_count": 183,
     "metadata": {},
     "output_type": "execute_result"
    }
   ],
   "source": [
    "title_tags_amazon2=driver.find_elements_by_xpath('//span[@class=\"a-size-medium a-color-base a-text-normal\"]')  \n",
    "title_tags_amazon2[0:10]"
   ]
  },
  {
   "cell_type": "code",
   "execution_count": 185,
   "id": "0b3dd863",
   "metadata": {},
   "outputs": [
    {
     "data": {
      "text/plain": [
       "['Acer Predator Helios 300 11th Gen Intel Core i9-11900H 15.6\" (39.62cms) FHD IPS Gaming Laptop (16 GB/1TB SSD/Win 11 Home/6 GB Graphics/NVIDIA GeForce RTX 3060/360 Hz, Black, 2.3 kg) PH315-54',\n",
       " 'ASUS ROG Strix SCAR 15 (2022), 15.6-inch (39.62 cms) 2K WQHD 240Hz/3ms, Core i9-12900H 12th Gen, RTX 3080 Ti 16GB Graphics, Gaming Laptop (32GB/1TB SSD/Win 11/Office 2021/Black/2.3 Kg), G533ZX-LN024WS',\n",
       " 'Acer Predator Helios 300 11th Gen Intel Core i9-11900H 15.6\" (39.62cms) FHD IPS Gaming Laptop (16 GB/1TB SSD/Win 11 Home/6 GB Graphics/NVIDIA GeForce RTX 3060/360 Hz, Black, 2.3 kg) PH315-54',\n",
       " 'ASUS ROG Strix Scar 15 (2022), 15.6-inch (39.62 cms) 2K WQHD 240Hz/3ms, Core i9-12900H 12th Gen, RTX 3070 Ti 8GB Graphics, Gaming Laptop (32GB/2TB SSD/Win 11/Office 2021/Black/2.3 Kg), G533ZW-LN106WS',\n",
       " 'ASUS TUF Gaming F15 (2021), 15.6\" (39.62 cms) FHD 240Hz, Intel Core i9-11900H 11th Gen, GeForce RTX 3060 6GB Graphics, Gaming Laptop(16GB/1TB SSD/Office 2019/Windows 10/Gray/2.3 Kg), FX566HM-AZ096TS',\n",
       " 'ASUS ROG Zephyrus M16 (2022), 16-inch (40.64 cms) 2K QHD 165Hz/3ms, Core i9-12900H 12th Gen, RTX 3080 Ti 16GB Graphics, Gaming Laptop (32GB/2TB SSD/Win 11/Office 2021/Black/2 Kg), GU603ZX-K8024WS',\n",
       " 'ASUS ROG Strix Scar 15 (2022), 15.6\" (39.62 cms) 2K WQHD 240Hz/3ms, Intel Core i9-12900H 12th Gen, RTX 3070 Ti 8GB Graphics, Gaming Laptop (32GB/1TB SSD/Win 11/Office 2021/Black/2.3 kg) G533ZW-LN136WS',\n",
       " '(Renewed) HP Omen 15-dh0139TX Gaming Laptop (9th Gen i9-9880H/16GB/1TB HDD + 512GB SSD/Win 10/8GB NVIDIA RTX 2080 Graphics) & Z3700 Wireless Mouse',\n",
       " 'HP Envy 15- 11th Gen Intel Core i9/32GB/1TB SSD/15.6 inch(39.6 cm) 400 nits,4K AMOLED Touch, TUV + Win 11 Pro 64/NVIDIA GeForce RTX 3060 6GB Graphics/Alexa/FPR /B&O/2.14kg,15-ep1087TX, Natural Silver',\n",
       " 'Dell Precision 5550 || i9 -10885H || 16GB || 1TB NVMe || T2000 4 GB || Win 10 Pro (Free Upgrade Win 11Pro) / 15.6 FHD+ / 3 Year ADP']"
      ]
     },
     "execution_count": 185,
     "metadata": {},
     "output_type": "execute_result"
    }
   ],
   "source": [
    "for i in title_tags_amazon2:\n",
    "    tle2=i.text\n",
    "    titles_amazon2.append(tle2)\n",
    "titles_amazon2[0:10]"
   ]
  },
  {
   "cell_type": "code",
   "execution_count": 186,
   "id": "f9f26178",
   "metadata": {},
   "outputs": [
    {
     "data": {
      "text/plain": [
       "[<selenium.webdriver.remote.webelement.WebElement (session=\"b0fc9fa1a5f5bc1d41add074280a761f\", element=\"1c9d3677-632a-4846-853c-81baef8f7217\")>,\n",
       " <selenium.webdriver.remote.webelement.WebElement (session=\"b0fc9fa1a5f5bc1d41add074280a761f\", element=\"6ce5da6c-5a53-4404-ae25-559efca5e55f\")>,\n",
       " <selenium.webdriver.remote.webelement.WebElement (session=\"b0fc9fa1a5f5bc1d41add074280a761f\", element=\"a59c63f5-3ed6-4a95-9554-2e0dcc517cba\")>,\n",
       " <selenium.webdriver.remote.webelement.WebElement (session=\"b0fc9fa1a5f5bc1d41add074280a761f\", element=\"ca25f718-0ffa-4a6a-828c-7ca11f1866c2\")>,\n",
       " <selenium.webdriver.remote.webelement.WebElement (session=\"b0fc9fa1a5f5bc1d41add074280a761f\", element=\"fa8a2cdf-5c72-411f-acbb-b216ca9d1c2c\")>,\n",
       " <selenium.webdriver.remote.webelement.WebElement (session=\"b0fc9fa1a5f5bc1d41add074280a761f\", element=\"1257fd8f-9b82-43bd-8127-73298b25d9d2\")>,\n",
       " <selenium.webdriver.remote.webelement.WebElement (session=\"b0fc9fa1a5f5bc1d41add074280a761f\", element=\"2cdf4ec4-6051-42cc-8b8c-b78e1bdc0e8c\")>,\n",
       " <selenium.webdriver.remote.webelement.WebElement (session=\"b0fc9fa1a5f5bc1d41add074280a761f\", element=\"84b36d0c-94e0-4a3e-a490-e99b6bf10a72\")>,\n",
       " <selenium.webdriver.remote.webelement.WebElement (session=\"b0fc9fa1a5f5bc1d41add074280a761f\", element=\"7593bfda-63df-461e-9fa6-4e5e47366577\")>,\n",
       " <selenium.webdriver.remote.webelement.WebElement (session=\"b0fc9fa1a5f5bc1d41add074280a761f\", element=\"5be1c483-ef89-4636-8257-93bf0a181625\")>]"
      ]
     },
     "execution_count": 186,
     "metadata": {},
     "output_type": "execute_result"
    }
   ],
   "source": [
    "price_tags_amazon2=driver.find_elements_by_xpath('//span[@class=\"a-price-whole\"]')\n",
    "price_tags_amazon2[0:10]\n"
   ]
  },
  {
   "cell_type": "code",
   "execution_count": 187,
   "id": "818914d8",
   "metadata": {},
   "outputs": [
    {
     "data": {
      "text/plain": [
       "['1,44,990',\n",
       " '3,01,899',\n",
       " '1,44,990',\n",
       " '2,85,990',\n",
       " '1,77,885',\n",
       " '3,31,990',\n",
       " '2,32,499',\n",
       " '1,38,000',\n",
       " '2,02,990',\n",
       " '2,25,000']"
      ]
     },
     "execution_count": 187,
     "metadata": {},
     "output_type": "execute_result"
    }
   ],
   "source": [
    "for i in price_tags_amazon2:\n",
    "    pr2=i.text\n",
    "    price_amazon2.append(pr2)\n",
    "price_amazon2[0:10]\n"
   ]
  },
  {
   "cell_type": "code",
   "execution_count": 188,
   "id": "3a0f7645",
   "metadata": {},
   "outputs": [
    {
     "name": "stdout",
     "output_type": "stream",
     "text": [
      "10 10\n"
     ]
    }
   ],
   "source": [
    "print(len(titles_amazon2),len(price_amazon2))"
   ]
  },
  {
   "cell_type": "code",
   "execution_count": 189,
   "id": "6366c585",
   "metadata": {},
   "outputs": [],
   "source": [
    "Intel_Core_i9=pd.DataFrame({})\n",
    "Intel_Core_i9['Title of Laptop']=titles_amazon2[0:10]\n",
    "Intel_Core_i9['Price of Laptop']=price_amazon2[0:10]\n"
   ]
  },
  {
   "cell_type": "code",
   "execution_count": 190,
   "id": "79247c70",
   "metadata": {},
   "outputs": [
    {
     "data": {
      "text/html": [
       "<div>\n",
       "<style scoped>\n",
       "    .dataframe tbody tr th:only-of-type {\n",
       "        vertical-align: middle;\n",
       "    }\n",
       "\n",
       "    .dataframe tbody tr th {\n",
       "        vertical-align: top;\n",
       "    }\n",
       "\n",
       "    .dataframe thead th {\n",
       "        text-align: right;\n",
       "    }\n",
       "</style>\n",
       "<table border=\"1\" class=\"dataframe\">\n",
       "  <thead>\n",
       "    <tr style=\"text-align: right;\">\n",
       "      <th></th>\n",
       "      <th>Title of Laptop</th>\n",
       "      <th>Price of Laptop</th>\n",
       "    </tr>\n",
       "  </thead>\n",
       "  <tbody>\n",
       "    <tr>\n",
       "      <th>0</th>\n",
       "      <td>Acer Predator Helios 300 11th Gen Intel Core i...</td>\n",
       "      <td>1,44,990</td>\n",
       "    </tr>\n",
       "    <tr>\n",
       "      <th>1</th>\n",
       "      <td>ASUS ROG Strix SCAR 15 (2022), 15.6-inch (39.6...</td>\n",
       "      <td>3,01,899</td>\n",
       "    </tr>\n",
       "    <tr>\n",
       "      <th>2</th>\n",
       "      <td>Acer Predator Helios 300 11th Gen Intel Core i...</td>\n",
       "      <td>1,44,990</td>\n",
       "    </tr>\n",
       "    <tr>\n",
       "      <th>3</th>\n",
       "      <td>ASUS ROG Strix Scar 15 (2022), 15.6-inch (39.6...</td>\n",
       "      <td>2,85,990</td>\n",
       "    </tr>\n",
       "    <tr>\n",
       "      <th>4</th>\n",
       "      <td>ASUS TUF Gaming F15 (2021), 15.6\" (39.62 cms) ...</td>\n",
       "      <td>1,77,885</td>\n",
       "    </tr>\n",
       "    <tr>\n",
       "      <th>5</th>\n",
       "      <td>ASUS ROG Zephyrus M16 (2022), 16-inch (40.64 c...</td>\n",
       "      <td>3,31,990</td>\n",
       "    </tr>\n",
       "    <tr>\n",
       "      <th>6</th>\n",
       "      <td>ASUS ROG Strix Scar 15 (2022), 15.6\" (39.62 cm...</td>\n",
       "      <td>2,32,499</td>\n",
       "    </tr>\n",
       "    <tr>\n",
       "      <th>7</th>\n",
       "      <td>(Renewed) HP Omen 15-dh0139TX Gaming Laptop (9...</td>\n",
       "      <td>1,38,000</td>\n",
       "    </tr>\n",
       "    <tr>\n",
       "      <th>8</th>\n",
       "      <td>HP Envy 15- 11th Gen Intel Core i9/32GB/1TB SS...</td>\n",
       "      <td>2,02,990</td>\n",
       "    </tr>\n",
       "    <tr>\n",
       "      <th>9</th>\n",
       "      <td>Dell Precision 5550 || i9 -10885H || 16GB || 1...</td>\n",
       "      <td>2,25,000</td>\n",
       "    </tr>\n",
       "  </tbody>\n",
       "</table>\n",
       "</div>"
      ],
      "text/plain": [
       "                                     Title of Laptop Price of Laptop\n",
       "0  Acer Predator Helios 300 11th Gen Intel Core i...        1,44,990\n",
       "1  ASUS ROG Strix SCAR 15 (2022), 15.6-inch (39.6...        3,01,899\n",
       "2  Acer Predator Helios 300 11th Gen Intel Core i...        1,44,990\n",
       "3  ASUS ROG Strix Scar 15 (2022), 15.6-inch (39.6...        2,85,990\n",
       "4  ASUS TUF Gaming F15 (2021), 15.6\" (39.62 cms) ...        1,77,885\n",
       "5  ASUS ROG Zephyrus M16 (2022), 16-inch (40.64 c...        3,31,990\n",
       "6  ASUS ROG Strix Scar 15 (2022), 15.6\" (39.62 cm...        2,32,499\n",
       "7  (Renewed) HP Omen 15-dh0139TX Gaming Laptop (9...        1,38,000\n",
       "8  HP Envy 15- 11th Gen Intel Core i9/32GB/1TB SS...        2,02,990\n",
       "9  Dell Precision 5550 || i9 -10885H || 16GB || 1...        2,25,000"
      ]
     },
     "execution_count": 190,
     "metadata": {},
     "output_type": "execute_result"
    }
   ],
   "source": [
    "Intel_Core_i9"
   ]
  },
  {
   "cell_type": "markdown",
   "id": "39074619",
   "metadata": {},
   "source": [
    "# question9"
   ]
  },
  {
   "cell_type": "code",
   "execution_count": 191,
   "id": "3e0dc5a8",
   "metadata": {},
   "outputs": [],
   "source": [
    "import selenium\n",
    "import pandas as pd\n",
    "from selenium import webdriver\n",
    "import warnings\n",
    "warnings.filterwarnings(\"ignore\")\n",
    "import time\n"
   ]
  },
  {
   "cell_type": "code",
   "execution_count": 192,
   "id": "a2b337f0",
   "metadata": {},
   "outputs": [],
   "source": [
    "driver=webdriver.Chrome(r\"C:\\Users\\reach\\chromedriver.exe\")"
   ]
  },
  {
   "cell_type": "code",
   "execution_count": 193,
   "id": "2e624aa1",
   "metadata": {},
   "outputs": [],
   "source": [
    "driver.get('https://www.ambitionbox.com/')\n"
   ]
  },
  {
   "cell_type": "code",
   "execution_count": 195,
   "id": "15958a5c",
   "metadata": {},
   "outputs": [],
   "source": [
    "jobs=driver.find_element_by_xpath('/html/body/div[1]/nav/nav/a[6]')\n",
    "jobs.click()\n"
   ]
  },
  {
   "cell_type": "code",
   "execution_count": 196,
   "id": "cd1938fb",
   "metadata": {},
   "outputs": [],
   "source": [
    "search_designation=driver.find_element_by_xpath('/html/body/div/div/div/div[2]/div[1]/div[1]/div/div/div/div/span/input')\n",
    "search_designation.send_keys(\"Data Scientist\")\n"
   ]
  },
  {
   "cell_type": "code",
   "execution_count": 197,
   "id": "b6e73dd2",
   "metadata": {},
   "outputs": [],
   "source": [
    "search_button=driver.find_element_by_xpath('/html/body/div/div/div/div[2]/div[1]/div[1]/div/div/div/button/span')\n",
    "search_button.click()\n"
   ]
  },
  {
   "cell_type": "code",
   "execution_count": 198,
   "id": "7d72f5e0",
   "metadata": {},
   "outputs": [],
   "source": [
    "url=\"https://www.ambitionbox.com/jobs/search?designation=data-scientist\"\n"
   ]
  },
  {
   "cell_type": "code",
   "execution_count": 199,
   "id": "47575f93",
   "metadata": {},
   "outputs": [],
   "source": [
    "driver.get(url)"
   ]
  },
  {
   "cell_type": "code",
   "execution_count": 200,
   "id": "7b50d68d",
   "metadata": {},
   "outputs": [],
   "source": [
    "search_location=driver.find_element_by_xpath('/html/body/div/div/div/div[2]/div[1]/div[2]/div[1]/div/div/div/div[2]/div[1]/p')\n",
    "search_location.click()\n"
   ]
  },
  {
   "cell_type": "code",
   "execution_count": 201,
   "id": "b14b0f53",
   "metadata": {},
   "outputs": [],
   "source": [
    "find_location=driver.find_element_by_xpath('/html/body/div/div/div/div[2]/div[1]/div[2]/div[1]/div/div/div/div[2]/div[2]/div/div[2]/input')\n",
    "find_location.send_keys(\"Noida\")\n"
   ]
  },
  {
   "cell_type": "code",
   "execution_count": 203,
   "id": "65315af0",
   "metadata": {},
   "outputs": [],
   "source": [
    "location=driver.find_element_by_xpath('/html/body/div/div/div/div[2]/div[1]/div[2]/div[1]/div/div/div/div[2]/div[2]/div/div[3]/div[1]/div[1]/div/label')\n",
    "location.click()\n"
   ]
  },
  {
   "cell_type": "code",
   "execution_count": 205,
   "id": "646864e9",
   "metadata": {},
   "outputs": [],
   "source": [
    "url2=\"https://www.ambitionbox.com/jobs/search?designation=data-scientist&location=Noida\"\n"
   ]
  },
  {
   "cell_type": "code",
   "execution_count": 206,
   "id": "3ff0473a",
   "metadata": {},
   "outputs": [],
   "source": [
    "driver.get(url2)"
   ]
  },
  {
   "cell_type": "code",
   "execution_count": 207,
   "id": "f10f3561",
   "metadata": {},
   "outputs": [],
   "source": [
    "comp_names=[]\n",
    "no_of_days=[]\n",
    "rating=[]"
   ]
  },
  {
   "cell_type": "code",
   "execution_count": 208,
   "id": "cad454c0",
   "metadata": {},
   "outputs": [
    {
     "data": {
      "text/plain": [
       "[<selenium.webdriver.remote.webelement.WebElement (session=\"9542bfc603a8ae665a22f8aa83045b19\", element=\"74bd4241-a5ab-4f3e-b344-f4ebcecd9f9d\")>,\n",
       " <selenium.webdriver.remote.webelement.WebElement (session=\"9542bfc603a8ae665a22f8aa83045b19\", element=\"a5ecdb01-ab61-4b60-94e0-29f295d78d37\")>,\n",
       " <selenium.webdriver.remote.webelement.WebElement (session=\"9542bfc603a8ae665a22f8aa83045b19\", element=\"dd5a896f-26b1-44d2-927b-e7c7583d074a\")>,\n",
       " <selenium.webdriver.remote.webelement.WebElement (session=\"9542bfc603a8ae665a22f8aa83045b19\", element=\"eac7d71d-f82b-413c-a6d5-b24a8306232c\")>,\n",
       " <selenium.webdriver.remote.webelement.WebElement (session=\"9542bfc603a8ae665a22f8aa83045b19\", element=\"c21a221b-0192-43ef-afae-37ddc1f451e5\")>,\n",
       " <selenium.webdriver.remote.webelement.WebElement (session=\"9542bfc603a8ae665a22f8aa83045b19\", element=\"87dbc98f-acba-4825-8673-b187fe2af012\")>,\n",
       " <selenium.webdriver.remote.webelement.WebElement (session=\"9542bfc603a8ae665a22f8aa83045b19\", element=\"702c6cb9-9ba9-4fe8-931f-223794b2f722\")>,\n",
       " <selenium.webdriver.remote.webelement.WebElement (session=\"9542bfc603a8ae665a22f8aa83045b19\", element=\"db283cc2-e8bf-42de-a0bd-1bd10792a939\")>,\n",
       " <selenium.webdriver.remote.webelement.WebElement (session=\"9542bfc603a8ae665a22f8aa83045b19\", element=\"d23fe6ff-408a-44f5-967d-2c1b6fad66b8\")>,\n",
       " <selenium.webdriver.remote.webelement.WebElement (session=\"9542bfc603a8ae665a22f8aa83045b19\", element=\"b8809fce-7508-414a-a036-af05da8b7542\")>,\n",
       " <selenium.webdriver.remote.webelement.WebElement (session=\"9542bfc603a8ae665a22f8aa83045b19\", element=\"d9c79daf-4caa-409d-85f1-f01153ee03c1\")>]"
      ]
     },
     "execution_count": 208,
     "metadata": {},
     "output_type": "execute_result"
    }
   ],
   "source": [
    "comptags=driver.find_elements_by_xpath('//div[@class=\"company-info\"]/p')\n",
    "comptags\n"
   ]
  },
  {
   "cell_type": "code",
   "execution_count": 209,
   "id": "eb5edbe5",
   "metadata": {},
   "outputs": [
    {
     "data": {
      "text/plain": [
       "[' · ',\n",
       " 'GENPACT India Private Limited',\n",
       " 'Tech Mahindra Ltd',\n",
       " 'GENPACT India Private Limited',\n",
       " 'HCL Technologies',\n",
       " 'Bristlecone India Limited',\n",
       " 'Zyoin',\n",
       " 'Newgen Software Technologies Ltd.',\n",
       " 'JK Technosoft Ltd',\n",
       " 'Microsoft India (R and D) Pvt Ltd',\n",
       " 'Paytm Payments Bank Limited']"
      ]
     },
     "execution_count": 209,
     "metadata": {},
     "output_type": "execute_result"
    }
   ],
   "source": [
    "for i in comptags:\n",
    "    name=i.text\n",
    "    comp_names.append(name)\n",
    "comp_names"
   ]
  },
  {
   "cell_type": "code",
   "execution_count": 210,
   "id": "6c1ec7a7",
   "metadata": {},
   "outputs": [
    {
     "data": {
      "text/plain": [
       "' · '"
      ]
     },
     "execution_count": 210,
     "metadata": {},
     "output_type": "execute_result"
    }
   ],
   "source": [
    "comp_names.pop(0)"
   ]
  },
  {
   "cell_type": "code",
   "execution_count": 212,
   "id": "272cc3bf",
   "metadata": {},
   "outputs": [
    {
     "data": {
      "text/plain": [
       "[<selenium.webdriver.remote.webelement.WebElement (session=\"9542bfc603a8ae665a22f8aa83045b19\", element=\"73fed23b-3913-4d26-b20a-1aa09e50cd97\")>,\n",
       " <selenium.webdriver.remote.webelement.WebElement (session=\"9542bfc603a8ae665a22f8aa83045b19\", element=\"5c1f2a1c-248b-4bf6-a1b5-b8e41ef55333\")>,\n",
       " <selenium.webdriver.remote.webelement.WebElement (session=\"9542bfc603a8ae665a22f8aa83045b19\", element=\"b3179c95-9fe8-4e89-9186-385b0eaef327\")>,\n",
       " <selenium.webdriver.remote.webelement.WebElement (session=\"9542bfc603a8ae665a22f8aa83045b19\", element=\"579532dc-dd70-4a42-ac06-930a42c23ff4\")>,\n",
       " <selenium.webdriver.remote.webelement.WebElement (session=\"9542bfc603a8ae665a22f8aa83045b19\", element=\"65d6bcfc-e03b-468f-8715-71c71f3d3ded\")>,\n",
       " <selenium.webdriver.remote.webelement.WebElement (session=\"9542bfc603a8ae665a22f8aa83045b19\", element=\"ec1ecbd6-743c-4dce-ba5f-d48afd742182\")>,\n",
       " <selenium.webdriver.remote.webelement.WebElement (session=\"9542bfc603a8ae665a22f8aa83045b19\", element=\"19c8cc20-58f3-4f18-97bc-53cb921eb4a1\")>,\n",
       " <selenium.webdriver.remote.webelement.WebElement (session=\"9542bfc603a8ae665a22f8aa83045b19\", element=\"b4c96b01-05e2-4f02-b54d-41a832a1dcbe\")>,\n",
       " <selenium.webdriver.remote.webelement.WebElement (session=\"9542bfc603a8ae665a22f8aa83045b19\", element=\"87a04674-8b32-4221-86c1-97d1ff233b47\")>,\n",
       " <selenium.webdriver.remote.webelement.WebElement (session=\"9542bfc603a8ae665a22f8aa83045b19\", element=\"1b64cd20-3cd2-46c6-a744-6445ffac839f\")>,\n",
       " <selenium.webdriver.remote.webelement.WebElement (session=\"9542bfc603a8ae665a22f8aa83045b19\", element=\"7244db55-dd90-42d2-8fef-2aa26236377f\")>,\n",
       " <selenium.webdriver.remote.webelement.WebElement (session=\"9542bfc603a8ae665a22f8aa83045b19\", element=\"203f4a79-241c-4639-82b6-c0a3e4d000c0\")>,\n",
       " <selenium.webdriver.remote.webelement.WebElement (session=\"9542bfc603a8ae665a22f8aa83045b19\", element=\"df37acf8-e106-491a-b31c-01718fd16a31\")>,\n",
       " <selenium.webdriver.remote.webelement.WebElement (session=\"9542bfc603a8ae665a22f8aa83045b19\", element=\"cd2f26bd-0d4e-476e-99de-6cea19c0a7ea\")>,\n",
       " <selenium.webdriver.remote.webelement.WebElement (session=\"9542bfc603a8ae665a22f8aa83045b19\", element=\"5a6bbfe2-7886-4586-bde0-dcd5a0cdbae0\")>,\n",
       " <selenium.webdriver.remote.webelement.WebElement (session=\"9542bfc603a8ae665a22f8aa83045b19\", element=\"8794fe6a-d73c-47b0-986f-1e518501ab5a\")>,\n",
       " <selenium.webdriver.remote.webelement.WebElement (session=\"9542bfc603a8ae665a22f8aa83045b19\", element=\"10d600db-b3d3-48ba-b2d9-e1a52277c7c2\")>,\n",
       " <selenium.webdriver.remote.webelement.WebElement (session=\"9542bfc603a8ae665a22f8aa83045b19\", element=\"4550c2db-953c-4b7f-ad5b-9f2805aa88fe\")>,\n",
       " <selenium.webdriver.remote.webelement.WebElement (session=\"9542bfc603a8ae665a22f8aa83045b19\", element=\"1fb71c6c-cde9-4195-b06b-e64d7f403cfa\")>,\n",
       " <selenium.webdriver.remote.webelement.WebElement (session=\"9542bfc603a8ae665a22f8aa83045b19\", element=\"d60a5de2-163f-453e-8a7c-16f3f029ba35\")>]"
      ]
     },
     "execution_count": 212,
     "metadata": {},
     "output_type": "execute_result"
    }
   ],
   "source": [
    "days_tags=driver.find_elements_by_xpath('//span[@class=\"body-small-l\"]')\n",
    "days_tags\n"
   ]
  },
  {
   "cell_type": "code",
   "execution_count": 213,
   "id": "eb991ec6",
   "metadata": {},
   "outputs": [
    {
     "data": {
      "text/plain": [
       "['7d ago',\n",
       " 'via naukri.com',\n",
       " '21d ago',\n",
       " 'via naukri.com',\n",
       " '24d ago',\n",
       " 'via naukri.com',\n",
       " '28d ago',\n",
       " 'via naukri.com',\n",
       " '2d ago',\n",
       " 'via naukri.com',\n",
       " '6d ago',\n",
       " 'via hirist.com',\n",
       " '8d ago',\n",
       " 'via naukri.com',\n",
       " '17d ago',\n",
       " 'via naukri.com',\n",
       " '2mon ago',\n",
       " 'via naukri.com',\n",
       " '27d ago',\n",
       " 'via naukri.com']"
      ]
     },
     "execution_count": 213,
     "metadata": {},
     "output_type": "execute_result"
    }
   ],
   "source": [
    "days_no=[]\n",
    "for i in days_tags:\n",
    "    day=i.text\n",
    "    days_no.append(day)\n",
    "days_no"
   ]
  },
  {
   "cell_type": "code",
   "execution_count": 214,
   "id": "2d39a7a1",
   "metadata": {},
   "outputs": [
    {
     "data": {
      "text/plain": [
       "['7d ago',\n",
       " '21d ago',\n",
       " '24d ago',\n",
       " '28d ago',\n",
       " '2d ago',\n",
       " '6d ago',\n",
       " '8d ago',\n",
       " '17d ago',\n",
       " '2mon ago',\n",
       " '27d ago']"
      ]
     },
     "execution_count": 214,
     "metadata": {},
     "output_type": "execute_result"
    }
   ],
   "source": [
    "no_of_days_posted=[]\n",
    "for i in range(0,len(days_no),2):\n",
    "    no_of_days_posted.append(days_no[i])\n",
    "no_of_days_posted"
   ]
  },
  {
   "cell_type": "code",
   "execution_count": 215,
   "id": "0c130ebe",
   "metadata": {},
   "outputs": [
    {
     "data": {
      "text/plain": [
       "[<selenium.webdriver.remote.webelement.WebElement (session=\"9542bfc603a8ae665a22f8aa83045b19\", element=\"b09116cf-39cb-4994-a9fd-388d9eacacf4\")>,\n",
       " <selenium.webdriver.remote.webelement.WebElement (session=\"9542bfc603a8ae665a22f8aa83045b19\", element=\"2718fbc9-8752-482a-9159-3e28da76466a\")>,\n",
       " <selenium.webdriver.remote.webelement.WebElement (session=\"9542bfc603a8ae665a22f8aa83045b19\", element=\"c18ddd5b-4cde-431d-98b2-3d410b70cccb\")>,\n",
       " <selenium.webdriver.remote.webelement.WebElement (session=\"9542bfc603a8ae665a22f8aa83045b19\", element=\"5dd99ac4-63a6-47ed-aa33-9e659705a704\")>,\n",
       " <selenium.webdriver.remote.webelement.WebElement (session=\"9542bfc603a8ae665a22f8aa83045b19\", element=\"e169c07a-f6bc-4a76-819c-a79d9b9ab18b\")>,\n",
       " <selenium.webdriver.remote.webelement.WebElement (session=\"9542bfc603a8ae665a22f8aa83045b19\", element=\"9bd3b921-bb75-4b5c-bddb-af15e0666ce9\")>,\n",
       " <selenium.webdriver.remote.webelement.WebElement (session=\"9542bfc603a8ae665a22f8aa83045b19\", element=\"3b086911-5b7d-419e-8bf9-cefe8e2ece8c\")>,\n",
       " <selenium.webdriver.remote.webelement.WebElement (session=\"9542bfc603a8ae665a22f8aa83045b19\", element=\"8b8bff0f-6fa0-4a03-8ce8-78fe0390eb32\")>,\n",
       " <selenium.webdriver.remote.webelement.WebElement (session=\"9542bfc603a8ae665a22f8aa83045b19\", element=\"c9d73b54-0ab7-4901-a462-7d55940df19b\")>,\n",
       " <selenium.webdriver.remote.webelement.WebElement (session=\"9542bfc603a8ae665a22f8aa83045b19\", element=\"a0b8e111-b445-4942-900b-96ea65061266\")>]"
      ]
     },
     "execution_count": 215,
     "metadata": {},
     "output_type": "execute_result"
    }
   ],
   "source": [
    "rating_tags=driver.find_elements_by_xpath('//span[@class=\"body-small\"]')\n",
    "rating_tags"
   ]
  },
  {
   "cell_type": "code",
   "execution_count": 216,
   "id": "26690067",
   "metadata": {},
   "outputs": [
    {
     "data": {
      "text/plain": [
       "['4.0', '3.7', '4.0', '3.8', '3.8', '4.1', '3.5', '3.6', '4.3', '3.7']"
      ]
     },
     "execution_count": 216,
     "metadata": {},
     "output_type": "execute_result"
    }
   ],
   "source": [
    "for i in rating_tags:\n",
    "    ratings=i.text\n",
    "    rating.append(ratings)\n",
    "rating\n"
   ]
  },
  {
   "cell_type": "code",
   "execution_count": 217,
   "id": "0ffe5012",
   "metadata": {},
   "outputs": [
    {
     "name": "stdout",
     "output_type": "stream",
     "text": [
      "10 10 10\n"
     ]
    }
   ],
   "source": [
    "print(len(comp_names),len(no_of_days_posted),len(rating))\n"
   ]
  },
  {
   "cell_type": "code",
   "execution_count": 218,
   "id": "0e0fcf52",
   "metadata": {},
   "outputs": [],
   "source": [
    "ds_ambition_box=pd.DataFrame({})\n",
    "ds_ambition_box['Company Name']=comp_names\n",
    "ds_ambition_box['No. of days ago when job was posted']=no_of_days_posted\n",
    "ds_ambition_box['Rating of the company']=rating\n"
   ]
  },
  {
   "cell_type": "code",
   "execution_count": 219,
   "id": "3d757d5d",
   "metadata": {},
   "outputs": [
    {
     "data": {
      "text/html": [
       "<div>\n",
       "<style scoped>\n",
       "    .dataframe tbody tr th:only-of-type {\n",
       "        vertical-align: middle;\n",
       "    }\n",
       "\n",
       "    .dataframe tbody tr th {\n",
       "        vertical-align: top;\n",
       "    }\n",
       "\n",
       "    .dataframe thead th {\n",
       "        text-align: right;\n",
       "    }\n",
       "</style>\n",
       "<table border=\"1\" class=\"dataframe\">\n",
       "  <thead>\n",
       "    <tr style=\"text-align: right;\">\n",
       "      <th></th>\n",
       "      <th>Company Name</th>\n",
       "      <th>No. of days ago when job was posted</th>\n",
       "      <th>Rating of the company</th>\n",
       "    </tr>\n",
       "  </thead>\n",
       "  <tbody>\n",
       "    <tr>\n",
       "      <th>0</th>\n",
       "      <td>GENPACT India Private Limited</td>\n",
       "      <td>7d ago</td>\n",
       "      <td>4.0</td>\n",
       "    </tr>\n",
       "    <tr>\n",
       "      <th>1</th>\n",
       "      <td>Tech Mahindra Ltd</td>\n",
       "      <td>21d ago</td>\n",
       "      <td>3.7</td>\n",
       "    </tr>\n",
       "    <tr>\n",
       "      <th>2</th>\n",
       "      <td>GENPACT India Private Limited</td>\n",
       "      <td>24d ago</td>\n",
       "      <td>4.0</td>\n",
       "    </tr>\n",
       "    <tr>\n",
       "      <th>3</th>\n",
       "      <td>HCL Technologies</td>\n",
       "      <td>28d ago</td>\n",
       "      <td>3.8</td>\n",
       "    </tr>\n",
       "    <tr>\n",
       "      <th>4</th>\n",
       "      <td>Bristlecone India Limited</td>\n",
       "      <td>2d ago</td>\n",
       "      <td>3.8</td>\n",
       "    </tr>\n",
       "    <tr>\n",
       "      <th>5</th>\n",
       "      <td>Zyoin</td>\n",
       "      <td>6d ago</td>\n",
       "      <td>4.1</td>\n",
       "    </tr>\n",
       "    <tr>\n",
       "      <th>6</th>\n",
       "      <td>Newgen Software Technologies Ltd.</td>\n",
       "      <td>8d ago</td>\n",
       "      <td>3.5</td>\n",
       "    </tr>\n",
       "    <tr>\n",
       "      <th>7</th>\n",
       "      <td>JK Technosoft Ltd</td>\n",
       "      <td>17d ago</td>\n",
       "      <td>3.6</td>\n",
       "    </tr>\n",
       "    <tr>\n",
       "      <th>8</th>\n",
       "      <td>Microsoft India (R and D) Pvt Ltd</td>\n",
       "      <td>2mon ago</td>\n",
       "      <td>4.3</td>\n",
       "    </tr>\n",
       "    <tr>\n",
       "      <th>9</th>\n",
       "      <td>Paytm Payments Bank Limited</td>\n",
       "      <td>27d ago</td>\n",
       "      <td>3.7</td>\n",
       "    </tr>\n",
       "  </tbody>\n",
       "</table>\n",
       "</div>"
      ],
      "text/plain": [
       "                        Company Name No. of days ago when job was posted  \\\n",
       "0      GENPACT India Private Limited                              7d ago   \n",
       "1                  Tech Mahindra Ltd                             21d ago   \n",
       "2      GENPACT India Private Limited                             24d ago   \n",
       "3                   HCL Technologies                             28d ago   \n",
       "4          Bristlecone India Limited                              2d ago   \n",
       "5                              Zyoin                              6d ago   \n",
       "6  Newgen Software Technologies Ltd.                              8d ago   \n",
       "7                  JK Technosoft Ltd                             17d ago   \n",
       "8  Microsoft India (R and D) Pvt Ltd                            2mon ago   \n",
       "9        Paytm Payments Bank Limited                             27d ago   \n",
       "\n",
       "  Rating of the company  \n",
       "0                   4.0  \n",
       "1                   3.7  \n",
       "2                   4.0  \n",
       "3                   3.8  \n",
       "4                   3.8  \n",
       "5                   4.1  \n",
       "6                   3.5  \n",
       "7                   3.6  \n",
       "8                   4.3  \n",
       "9                   3.7  "
      ]
     },
     "execution_count": 219,
     "metadata": {},
     "output_type": "execute_result"
    }
   ],
   "source": [
    "ds_ambition_box"
   ]
  },
  {
   "cell_type": "markdown",
   "id": "59f3368e",
   "metadata": {},
   "source": [
    "# question 10"
   ]
  },
  {
   "cell_type": "code",
   "execution_count": 220,
   "id": "06ba6706",
   "metadata": {},
   "outputs": [],
   "source": [
    "import selenium\n",
    "import pandas as pd\n",
    "from selenium import webdriver\n",
    "import warnings\n",
    "warnings.filterwarnings(\"ignore\")\n",
    "import time\n"
   ]
  },
  {
   "cell_type": "code",
   "execution_count": 221,
   "id": "cb7478ca",
   "metadata": {},
   "outputs": [],
   "source": [
    "driver=webdriver.Chrome(r\"C:\\Users\\reach\\chromedriver.exe\")"
   ]
  },
  {
   "cell_type": "code",
   "execution_count": 222,
   "id": "4297713f",
   "metadata": {},
   "outputs": [],
   "source": [
    "driver.get('https://www.ambitionbox.com/')\n"
   ]
  },
  {
   "cell_type": "code",
   "execution_count": 224,
   "id": "4d12072a",
   "metadata": {},
   "outputs": [],
   "source": [
    "salaries=driver.find_element_by_xpath('/html/body/div[1]/nav/nav/a[4]')\n",
    "salaries.click()\n"
   ]
  },
  {
   "cell_type": "code",
   "execution_count": 225,
   "id": "070eccf0",
   "metadata": {},
   "outputs": [],
   "source": [
    "search_designation_sal=driver.find_element_by_xpath('/html/body/div/div/div/main/section[1]/div[2]/div[1]/span/input')\n",
    "search_designation_sal.send_keys(\"Data Scientist\")\n"
   ]
  },
  {
   "cell_type": "code",
   "execution_count": 226,
   "id": "c06b65a7",
   "metadata": {},
   "outputs": [],
   "source": [
    "ds_sal=driver.find_element_by_xpath('//div[@class=\"suggestion_wrap tt-suggestion tt-selectable\"]')\n",
    "ds_sal.click()\n"
   ]
  },
  {
   "cell_type": "code",
   "execution_count": 227,
   "id": "87d69eb3",
   "metadata": {},
   "outputs": [],
   "source": [
    "ds_comp_name=[]\n",
    "ds_total_sal_rcd=[]\n",
    "ds_exp_reqd=[]\n",
    "ds_avg_sal=[]\n",
    "ds_min_sal=[]\n",
    "ds_max_sal=[]\n"
   ]
  },
  {
   "cell_type": "code",
   "execution_count": 229,
   "id": "6f4dd9e6",
   "metadata": {},
   "outputs": [
    {
     "data": {
      "text/plain": [
       "[<selenium.webdriver.remote.webelement.WebElement (session=\"ec9391b5d43c146a9adfc092ad5b7c0c\", element=\"0325ca21-5b2d-4e54-b4be-7a08c9efd287\")>,\n",
       " <selenium.webdriver.remote.webelement.WebElement (session=\"ec9391b5d43c146a9adfc092ad5b7c0c\", element=\"e7dc14fa-6789-4984-9a09-61068b93bd15\")>,\n",
       " <selenium.webdriver.remote.webelement.WebElement (session=\"ec9391b5d43c146a9adfc092ad5b7c0c\", element=\"b3de25f5-5f8b-452f-9986-240ec195d8ff\")>,\n",
       " <selenium.webdriver.remote.webelement.WebElement (session=\"ec9391b5d43c146a9adfc092ad5b7c0c\", element=\"1a1dc2f9-11c8-4a2b-8a46-0f56bdc28775\")>,\n",
       " <selenium.webdriver.remote.webelement.WebElement (session=\"ec9391b5d43c146a9adfc092ad5b7c0c\", element=\"ee7b7b32-2987-4a7f-adb2-2cd27bb42d14\")>,\n",
       " <selenium.webdriver.remote.webelement.WebElement (session=\"ec9391b5d43c146a9adfc092ad5b7c0c\", element=\"de5d624b-c830-46ed-9734-2ba194e89949\")>,\n",
       " <selenium.webdriver.remote.webelement.WebElement (session=\"ec9391b5d43c146a9adfc092ad5b7c0c\", element=\"4a3883e0-2c9f-4e56-8aed-8ba642691650\")>,\n",
       " <selenium.webdriver.remote.webelement.WebElement (session=\"ec9391b5d43c146a9adfc092ad5b7c0c\", element=\"62344239-64f0-4232-9211-e3f72f86f95b\")>,\n",
       " <selenium.webdriver.remote.webelement.WebElement (session=\"ec9391b5d43c146a9adfc092ad5b7c0c\", element=\"cf58b956-a5c7-4d85-a835-131554c19e75\")>,\n",
       " <selenium.webdriver.remote.webelement.WebElement (session=\"ec9391b5d43c146a9adfc092ad5b7c0c\", element=\"00a06d4e-d9a9-409a-95bd-f94631fcfa6d\")>]"
      ]
     },
     "execution_count": 229,
     "metadata": {},
     "output_type": "execute_result"
    }
   ],
   "source": [
    "dscomp_tags=driver.find_elements_by_xpath('//div[@class=\"name\"]/a')\n",
    "dscomp_tags\n"
   ]
  },
  {
   "cell_type": "code",
   "execution_count": 231,
   "id": "a600ec02",
   "metadata": {},
   "outputs": [
    {
     "data": {
      "text/plain": [
       "['Walmart',\n",
       " 'Ab Inbev',\n",
       " 'Reliance Jio',\n",
       " 'ZS',\n",
       " 'Optum',\n",
       " 'Fractal Analytics',\n",
       " 'Tiger Analytics',\n",
       " 'UnitedHealth',\n",
       " 'Verizon',\n",
       " 'Ganit Business Solutions']"
      ]
     },
     "execution_count": 231,
     "metadata": {},
     "output_type": "execute_result"
    }
   ],
   "source": [
    "for i in dscomp_tags:\n",
    "    ct1=i.text\n",
    "    ds_comp_name.append(ct1)\n",
    "ds_comp_name"
   ]
  },
  {
   "cell_type": "code",
   "execution_count": 233,
   "id": "fcb2aed7",
   "metadata": {},
   "outputs": [
    {
     "data": {
      "text/plain": [
       "[<selenium.webdriver.remote.webelement.WebElement (session=\"ec9391b5d43c146a9adfc092ad5b7c0c\", element=\"06a0dadd-bb17-407a-b702-e8721440b347\")>,\n",
       " <selenium.webdriver.remote.webelement.WebElement (session=\"ec9391b5d43c146a9adfc092ad5b7c0c\", element=\"662d2ed2-1551-42c9-89f6-751b00ca045d\")>,\n",
       " <selenium.webdriver.remote.webelement.WebElement (session=\"ec9391b5d43c146a9adfc092ad5b7c0c\", element=\"0e945fbc-18d9-4537-b5e2-dd19ae84cf1a\")>,\n",
       " <selenium.webdriver.remote.webelement.WebElement (session=\"ec9391b5d43c146a9adfc092ad5b7c0c\", element=\"64592c1e-abd5-4617-8d77-3ba968ace50c\")>,\n",
       " <selenium.webdriver.remote.webelement.WebElement (session=\"ec9391b5d43c146a9adfc092ad5b7c0c\", element=\"b00092af-e742-476f-8c45-41564df480a9\")>,\n",
       " <selenium.webdriver.remote.webelement.WebElement (session=\"ec9391b5d43c146a9adfc092ad5b7c0c\", element=\"2f864a82-db81-438f-8bd1-ea1b10c2fd67\")>,\n",
       " <selenium.webdriver.remote.webelement.WebElement (session=\"ec9391b5d43c146a9adfc092ad5b7c0c\", element=\"9a7bdd18-83b4-4b1e-b99a-af0a13f736b3\")>,\n",
       " <selenium.webdriver.remote.webelement.WebElement (session=\"ec9391b5d43c146a9adfc092ad5b7c0c\", element=\"70289876-182a-4c88-b18d-b89b0c409bc8\")>,\n",
       " <selenium.webdriver.remote.webelement.WebElement (session=\"ec9391b5d43c146a9adfc092ad5b7c0c\", element=\"e48b3dcd-0701-470d-af46-60e43082b035\")>,\n",
       " <selenium.webdriver.remote.webelement.WebElement (session=\"ec9391b5d43c146a9adfc092ad5b7c0c\", element=\"f444e8a7-90d2-44f0-a0d6-9a4011d85f9e\")>]"
      ]
     },
     "execution_count": 233,
     "metadata": {},
     "output_type": "execute_result"
    }
   ],
   "source": [
    "dstotalrec_tags=driver.find_elements_by_xpath('//div[@class=\"name\"]/span')\n",
    "dstotalrec_tags\n"
   ]
  },
  {
   "cell_type": "code",
   "execution_count": 234,
   "id": "055730c8",
   "metadata": {},
   "outputs": [
    {
     "data": {
      "text/plain": [
       "['based on 11 salaries',\n",
       " 'based on 31 salaries',\n",
       " 'based on 10 salaries',\n",
       " 'based on 15 salaries',\n",
       " 'based on 28 salaries',\n",
       " 'based on 81 salaries',\n",
       " 'based on 46 salaries',\n",
       " 'based on 53 salaries',\n",
       " 'based on 14 salaries',\n",
       " 'based on 13 salaries']"
      ]
     },
     "execution_count": 234,
     "metadata": {},
     "output_type": "execute_result"
    }
   ],
   "source": [
    "for i in dstotalrec_tags:\n",
    "    tsr1=i.text\n",
    "    ds_total_sal_rcd.append(tsr1)\n",
    "ds_total_sal_rcd"
   ]
  },
  {
   "cell_type": "code",
   "execution_count": 236,
   "id": "ac12a4e3",
   "metadata": {},
   "outputs": [
    {
     "data": {
      "text/plain": [
       "[<selenium.webdriver.remote.webelement.WebElement (session=\"ec9391b5d43c146a9adfc092ad5b7c0c\", element=\"343e5de9-dc87-4e43-9197-abf9473cd1ac\")>,\n",
       " <selenium.webdriver.remote.webelement.WebElement (session=\"ec9391b5d43c146a9adfc092ad5b7c0c\", element=\"fac82da2-ce01-4ddd-923f-a4b6992275ef\")>,\n",
       " <selenium.webdriver.remote.webelement.WebElement (session=\"ec9391b5d43c146a9adfc092ad5b7c0c\", element=\"3f847464-1cfe-4c6d-bce6-cd2cb8bf1ea6\")>,\n",
       " <selenium.webdriver.remote.webelement.WebElement (session=\"ec9391b5d43c146a9adfc092ad5b7c0c\", element=\"6a280516-52c9-464a-b863-e39bab8a9fdc\")>,\n",
       " <selenium.webdriver.remote.webelement.WebElement (session=\"ec9391b5d43c146a9adfc092ad5b7c0c\", element=\"c7b2d5b5-2738-4c00-9133-42851b766836\")>,\n",
       " <selenium.webdriver.remote.webelement.WebElement (session=\"ec9391b5d43c146a9adfc092ad5b7c0c\", element=\"c5402261-f94f-4260-94ee-99c73e446c3f\")>,\n",
       " <selenium.webdriver.remote.webelement.WebElement (session=\"ec9391b5d43c146a9adfc092ad5b7c0c\", element=\"d39de7eb-8a56-421d-b56f-60f2ab4eae09\")>,\n",
       " <selenium.webdriver.remote.webelement.WebElement (session=\"ec9391b5d43c146a9adfc092ad5b7c0c\", element=\"6a473883-6fe8-4a6e-9c84-48a7cfda27ed\")>,\n",
       " <selenium.webdriver.remote.webelement.WebElement (session=\"ec9391b5d43c146a9adfc092ad5b7c0c\", element=\"5c80a8aa-ee4c-42f7-9aa7-b3847555f421\")>,\n",
       " <selenium.webdriver.remote.webelement.WebElement (session=\"ec9391b5d43c146a9adfc092ad5b7c0c\", element=\"f2a3230a-89ba-42a3-8d9f-1bb30111e77f\")>]"
      ]
     },
     "execution_count": 236,
     "metadata": {},
     "output_type": "execute_result"
    }
   ],
   "source": [
    "dsex_tags=driver.find_elements_by_xpath('//div[@class=\"salaries sbold-list-header\"]')\n",
    "dsex_tags\n"
   ]
  },
  {
   "cell_type": "code",
   "execution_count": 237,
   "id": "117dd5c5",
   "metadata": {},
   "outputs": [
    {
     "data": {
      "text/plain": [
       "[['3', 'yrs', 'exp'],\n",
       " ['3-4', 'yrs', 'exp'],\n",
       " ['4', 'yrs', 'exp'],\n",
       " ['2', 'yrs', 'exp'],\n",
       " ['3-4', 'yrs', 'exp'],\n",
       " ['2-4', 'yrs', 'exp'],\n",
       " ['2-4', 'yrs', 'exp'],\n",
       " ['2-4', 'yrs', 'exp'],\n",
       " ['4', 'yrs', 'exp'],\n",
       " ['4', 'yrs', 'exp']]"
      ]
     },
     "execution_count": 237,
     "metadata": {},
     "output_type": "execute_result"
    }
   ],
   "source": [
    "desc_tag=[]\n",
    "for i in dsex_tags:\n",
    "    exp1=i.text.split()[3:]\n",
    "    desc_tag.append(exp1)\n",
    "desc_tag"
   ]
  },
  {
   "cell_type": "code",
   "execution_count": 239,
   "id": "8ffc036f",
   "metadata": {},
   "outputs": [
    {
     "data": {
      "text/plain": [
       "[<selenium.webdriver.remote.webelement.WebElement (session=\"ec9391b5d43c146a9adfc092ad5b7c0c\", element=\"d305cde1-c963-466a-90c2-ccc20ae84515\")>,\n",
       " <selenium.webdriver.remote.webelement.WebElement (session=\"ec9391b5d43c146a9adfc092ad5b7c0c\", element=\"e1436494-d583-45c6-874c-60250d2b0c19\")>,\n",
       " <selenium.webdriver.remote.webelement.WebElement (session=\"ec9391b5d43c146a9adfc092ad5b7c0c\", element=\"cb5d0459-50f7-4bc8-a0fc-4b115148c4b2\")>,\n",
       " <selenium.webdriver.remote.webelement.WebElement (session=\"ec9391b5d43c146a9adfc092ad5b7c0c\", element=\"9e10cf59-1a6a-40b1-80bf-d4db33d55c66\")>,\n",
       " <selenium.webdriver.remote.webelement.WebElement (session=\"ec9391b5d43c146a9adfc092ad5b7c0c\", element=\"543e4980-664a-426d-ab2f-82f34ad62dae\")>,\n",
       " <selenium.webdriver.remote.webelement.WebElement (session=\"ec9391b5d43c146a9adfc092ad5b7c0c\", element=\"4a49dc9f-95fb-47ec-b9d4-61c53051397b\")>,\n",
       " <selenium.webdriver.remote.webelement.WebElement (session=\"ec9391b5d43c146a9adfc092ad5b7c0c\", element=\"073fecc4-af08-49c7-9431-ff817c8a39de\")>,\n",
       " <selenium.webdriver.remote.webelement.WebElement (session=\"ec9391b5d43c146a9adfc092ad5b7c0c\", element=\"13d1a8fa-57b6-4efc-819f-bdd6bf08e71a\")>,\n",
       " <selenium.webdriver.remote.webelement.WebElement (session=\"ec9391b5d43c146a9adfc092ad5b7c0c\", element=\"58256837-5e11-4530-8de9-6ff5eb40df7a\")>,\n",
       " <selenium.webdriver.remote.webelement.WebElement (session=\"ec9391b5d43c146a9adfc092ad5b7c0c\", element=\"9c3ad0d6-3e05-47eb-aac8-4faa371db8a1\")>]"
      ]
     },
     "execution_count": 239,
     "metadata": {},
     "output_type": "execute_result"
    }
   ],
   "source": [
    "dsav_tags=driver.find_elements_by_xpath('//div[@class=\"average-indicator-wrapper\"]/p')\n",
    "dsav_tags\n"
   ]
  },
  {
   "cell_type": "code",
   "execution_count": 240,
   "id": "0e0c8112",
   "metadata": {},
   "outputs": [
    {
     "data": {
      "text/plain": [
       "['₹ 29.7L',\n",
       " '₹ 20.5L',\n",
       " '₹ 18.9L',\n",
       " '₹ 15.9L',\n",
       " '₹ 15.4L',\n",
       " '₹ 15.1L',\n",
       " '₹ 14.8L',\n",
       " '₹ 14.0L',\n",
       " '₹ 12.7L',\n",
       " '₹ 12.4L']"
      ]
     },
     "execution_count": 240,
     "metadata": {},
     "output_type": "execute_result"
    }
   ],
   "source": [
    "for i in dsav_tags:\n",
    "    avg1=i.text\n",
    "    ds_avg_sal.append(avg1)\n",
    "ds_avg_sal"
   ]
  },
  {
   "cell_type": "code",
   "execution_count": 242,
   "id": "b6732c7f",
   "metadata": {},
   "outputs": [
    {
     "data": {
      "text/plain": [
       "[<selenium.webdriver.remote.webelement.WebElement (session=\"ec9391b5d43c146a9adfc092ad5b7c0c\", element=\"f9f17caa-0ba7-49bb-8563-30b34a6c1d20\")>,\n",
       " <selenium.webdriver.remote.webelement.WebElement (session=\"ec9391b5d43c146a9adfc092ad5b7c0c\", element=\"4886e975-b016-4ee6-89e8-20100dcd7b7b\")>,\n",
       " <selenium.webdriver.remote.webelement.WebElement (session=\"ec9391b5d43c146a9adfc092ad5b7c0c\", element=\"dc442934-3e5b-4ad3-a012-464af6dac2df\")>,\n",
       " <selenium.webdriver.remote.webelement.WebElement (session=\"ec9391b5d43c146a9adfc092ad5b7c0c\", element=\"a40f7959-36ec-4976-bcce-c597cdcf6c75\")>,\n",
       " <selenium.webdriver.remote.webelement.WebElement (session=\"ec9391b5d43c146a9adfc092ad5b7c0c\", element=\"b0a6cefc-9dd7-437a-b6ca-4eeb08805a00\")>,\n",
       " <selenium.webdriver.remote.webelement.WebElement (session=\"ec9391b5d43c146a9adfc092ad5b7c0c\", element=\"9ff1dcad-a94d-4233-a1c4-1aae8864ebe8\")>,\n",
       " <selenium.webdriver.remote.webelement.WebElement (session=\"ec9391b5d43c146a9adfc092ad5b7c0c\", element=\"de23ead4-8993-4aa6-9fee-91f9686fdc0f\")>,\n",
       " <selenium.webdriver.remote.webelement.WebElement (session=\"ec9391b5d43c146a9adfc092ad5b7c0c\", element=\"4fdf77cd-9afe-46fe-a09c-7086c6263095\")>,\n",
       " <selenium.webdriver.remote.webelement.WebElement (session=\"ec9391b5d43c146a9adfc092ad5b7c0c\", element=\"6d5bb429-c494-4126-acd4-e40192e35de8\")>,\n",
       " <selenium.webdriver.remote.webelement.WebElement (session=\"ec9391b5d43c146a9adfc092ad5b7c0c\", element=\"ff12cf4d-8fbf-4b7e-a2a6-a36c9b64c015\")>,\n",
       " <selenium.webdriver.remote.webelement.WebElement (session=\"ec9391b5d43c146a9adfc092ad5b7c0c\", element=\"2212a189-9cab-4ae4-856e-bd3bda407c9d\")>,\n",
       " <selenium.webdriver.remote.webelement.WebElement (session=\"ec9391b5d43c146a9adfc092ad5b7c0c\", element=\"35acce34-808c-43c3-ad49-d30ff5bd22ab\")>,\n",
       " <selenium.webdriver.remote.webelement.WebElement (session=\"ec9391b5d43c146a9adfc092ad5b7c0c\", element=\"2bb551e2-a399-4d54-ba52-adfc085805da\")>,\n",
       " <selenium.webdriver.remote.webelement.WebElement (session=\"ec9391b5d43c146a9adfc092ad5b7c0c\", element=\"cd38d8db-2417-4055-83a7-f00207d86934\")>,\n",
       " <selenium.webdriver.remote.webelement.WebElement (session=\"ec9391b5d43c146a9adfc092ad5b7c0c\", element=\"c3d6d0af-8125-4a8e-b6bf-fe85c4b39e32\")>,\n",
       " <selenium.webdriver.remote.webelement.WebElement (session=\"ec9391b5d43c146a9adfc092ad5b7c0c\", element=\"9e4470da-911a-4bed-8ab1-eda9e1196614\")>,\n",
       " <selenium.webdriver.remote.webelement.WebElement (session=\"ec9391b5d43c146a9adfc092ad5b7c0c\", element=\"ebae942a-0071-4ff3-8813-49006cfb121c\")>,\n",
       " <selenium.webdriver.remote.webelement.WebElement (session=\"ec9391b5d43c146a9adfc092ad5b7c0c\", element=\"a26ce9ce-d46e-4d0c-b566-5d4e233b1043\")>,\n",
       " <selenium.webdriver.remote.webelement.WebElement (session=\"ec9391b5d43c146a9adfc092ad5b7c0c\", element=\"2feae11c-4659-4ed7-bfb7-1994e9060313\")>,\n",
       " <selenium.webdriver.remote.webelement.WebElement (session=\"ec9391b5d43c146a9adfc092ad5b7c0c\", element=\"cea7b3c8-6e12-4f3b-84a4-3ec819171b35\")>]"
      ]
     },
     "execution_count": 242,
     "metadata": {},
     "output_type": "execute_result"
    }
   ],
   "source": [
    "ds_minmax_tags=driver.find_elements_by_xpath('//div[@class=\"value body-medium\"]')\n",
    "ds_minmax_tags"
   ]
  },
  {
   "cell_type": "code",
   "execution_count": 244,
   "id": "ea35ae1d",
   "metadata": {},
   "outputs": [
    {
     "data": {
      "text/plain": [
       "20"
      ]
     },
     "execution_count": 244,
     "metadata": {},
     "output_type": "execute_result"
    }
   ],
   "source": [
    "len(ds_minmax_tags)"
   ]
  },
  {
   "cell_type": "code",
   "execution_count": 245,
   "id": "626c6618",
   "metadata": {},
   "outputs": [
    {
     "data": {
      "text/plain": [
       "[['₹', '25.0L'],\n",
       " ['₹', '15.0L'],\n",
       " ['₹', '5.6L'],\n",
       " ['₹', '9.8L'],\n",
       " ['₹', '11.0L'],\n",
       " ['₹', '9.5L'],\n",
       " ['₹', '9.0L'],\n",
       " ['₹', '8.3L'],\n",
       " ['₹', '10.0L'],\n",
       " ['₹', '8.5L']]"
      ]
     },
     "execution_count": 245,
     "metadata": {},
     "output_type": "execute_result"
    }
   ],
   "source": [
    "min_sal=[]\n",
    "for i in ds_minmax_tags:\n",
    "    min_1=i.text.split()\n",
    "    min_sal.append(min_1)\n",
    "min_sal\n",
    "\n",
    "for i in range(0,len(min_sal),2):\n",
    "    ds_min_sal.append(min_sal[i])\n",
    "ds_min_sal"
   ]
  },
  {
   "cell_type": "code",
   "execution_count": 246,
   "id": "1a3e254d",
   "metadata": {},
   "outputs": [
    {
     "data": {
      "text/plain": [
       "[['₹', '35.0L'],\n",
       " ['₹', '25.5L'],\n",
       " ['₹', '26.2L'],\n",
       " ['₹', '20.0L'],\n",
       " ['₹', '22.4L'],\n",
       " ['₹', '22.0L'],\n",
       " ['₹', '20.0L'],\n",
       " ['₹', '20.5L'],\n",
       " ['₹', '21.0L'],\n",
       " ['₹', '15.0L']]"
      ]
     },
     "execution_count": 246,
     "metadata": {},
     "output_type": "execute_result"
    }
   ],
   "source": [
    "max_sal=[]\n",
    "for i in ds_minmax_tags:\n",
    "    max_1=i.text.split()\n",
    "    max_sal.append(max_1)\n",
    "max_sal\n",
    "\n",
    "for i in range(1,len(max_sal),2):\n",
    "    ds_max_sal.append(max_sal[i])\n",
    "ds_max_sal\n"
   ]
  },
  {
   "cell_type": "code",
   "execution_count": 247,
   "id": "1dff7f11",
   "metadata": {},
   "outputs": [
    {
     "name": "stdout",
     "output_type": "stream",
     "text": [
      "10 10 10 10 10 10\n"
     ]
    }
   ],
   "source": [
    "print(len(ds_comp_name),len(ds_total_sal_rcd),len(desc_tag),len(ds_avg_sal),len(ds_min_sal),len(ds_max_sal))\n"
   ]
  },
  {
   "cell_type": "code",
   "execution_count": 248,
   "id": "e434fe92",
   "metadata": {},
   "outputs": [],
   "source": [
    "salary_data_scientist_ambitionbox=pd.DataFrame({})\n",
    "salary_data_scientist_ambitionbox['Company Name']=ds_comp_name\n",
    "salary_data_scientist_ambitionbox['Total Salary Record']=ds_total_sal_rcd\n",
    "salary_data_scientist_ambitionbox['Experience Required']=desc_tag\n",
    "salary_data_scientist_ambitionbox['Average Salary']=ds_avg_sal\n",
    "salary_data_scientist_ambitionbox['Minimum Salary']=ds_min_sal\n",
    "salary_data_scientist_ambitionbox['Maximum Salary']=ds_max_sal"
   ]
  },
  {
   "cell_type": "code",
   "execution_count": 249,
   "id": "fd765de5",
   "metadata": {},
   "outputs": [
    {
     "data": {
      "text/html": [
       "<div>\n",
       "<style scoped>\n",
       "    .dataframe tbody tr th:only-of-type {\n",
       "        vertical-align: middle;\n",
       "    }\n",
       "\n",
       "    .dataframe tbody tr th {\n",
       "        vertical-align: top;\n",
       "    }\n",
       "\n",
       "    .dataframe thead th {\n",
       "        text-align: right;\n",
       "    }\n",
       "</style>\n",
       "<table border=\"1\" class=\"dataframe\">\n",
       "  <thead>\n",
       "    <tr style=\"text-align: right;\">\n",
       "      <th></th>\n",
       "      <th>Company Name</th>\n",
       "      <th>Total Salary Record</th>\n",
       "      <th>Experience Required</th>\n",
       "      <th>Average Salary</th>\n",
       "      <th>Minimum Salary</th>\n",
       "      <th>Maximum Salary</th>\n",
       "    </tr>\n",
       "  </thead>\n",
       "  <tbody>\n",
       "    <tr>\n",
       "      <th>0</th>\n",
       "      <td>Walmart</td>\n",
       "      <td>based on 11 salaries</td>\n",
       "      <td>[3, yrs, exp]</td>\n",
       "      <td>₹ 29.7L</td>\n",
       "      <td>[₹, 25.0L]</td>\n",
       "      <td>[₹, 35.0L]</td>\n",
       "    </tr>\n",
       "    <tr>\n",
       "      <th>1</th>\n",
       "      <td>Ab Inbev</td>\n",
       "      <td>based on 31 salaries</td>\n",
       "      <td>[3-4, yrs, exp]</td>\n",
       "      <td>₹ 20.5L</td>\n",
       "      <td>[₹, 15.0L]</td>\n",
       "      <td>[₹, 25.5L]</td>\n",
       "    </tr>\n",
       "    <tr>\n",
       "      <th>2</th>\n",
       "      <td>Reliance Jio</td>\n",
       "      <td>based on 10 salaries</td>\n",
       "      <td>[4, yrs, exp]</td>\n",
       "      <td>₹ 18.9L</td>\n",
       "      <td>[₹, 5.6L]</td>\n",
       "      <td>[₹, 26.2L]</td>\n",
       "    </tr>\n",
       "    <tr>\n",
       "      <th>3</th>\n",
       "      <td>ZS</td>\n",
       "      <td>based on 15 salaries</td>\n",
       "      <td>[2, yrs, exp]</td>\n",
       "      <td>₹ 15.9L</td>\n",
       "      <td>[₹, 9.8L]</td>\n",
       "      <td>[₹, 20.0L]</td>\n",
       "    </tr>\n",
       "    <tr>\n",
       "      <th>4</th>\n",
       "      <td>Optum</td>\n",
       "      <td>based on 28 salaries</td>\n",
       "      <td>[3-4, yrs, exp]</td>\n",
       "      <td>₹ 15.4L</td>\n",
       "      <td>[₹, 11.0L]</td>\n",
       "      <td>[₹, 22.4L]</td>\n",
       "    </tr>\n",
       "    <tr>\n",
       "      <th>5</th>\n",
       "      <td>Fractal Analytics</td>\n",
       "      <td>based on 81 salaries</td>\n",
       "      <td>[2-4, yrs, exp]</td>\n",
       "      <td>₹ 15.1L</td>\n",
       "      <td>[₹, 9.5L]</td>\n",
       "      <td>[₹, 22.0L]</td>\n",
       "    </tr>\n",
       "    <tr>\n",
       "      <th>6</th>\n",
       "      <td>Tiger Analytics</td>\n",
       "      <td>based on 46 salaries</td>\n",
       "      <td>[2-4, yrs, exp]</td>\n",
       "      <td>₹ 14.8L</td>\n",
       "      <td>[₹, 9.0L]</td>\n",
       "      <td>[₹, 20.0L]</td>\n",
       "    </tr>\n",
       "    <tr>\n",
       "      <th>7</th>\n",
       "      <td>UnitedHealth</td>\n",
       "      <td>based on 53 salaries</td>\n",
       "      <td>[2-4, yrs, exp]</td>\n",
       "      <td>₹ 14.0L</td>\n",
       "      <td>[₹, 8.3L]</td>\n",
       "      <td>[₹, 20.5L]</td>\n",
       "    </tr>\n",
       "    <tr>\n",
       "      <th>8</th>\n",
       "      <td>Verizon</td>\n",
       "      <td>based on 14 salaries</td>\n",
       "      <td>[4, yrs, exp]</td>\n",
       "      <td>₹ 12.7L</td>\n",
       "      <td>[₹, 10.0L]</td>\n",
       "      <td>[₹, 21.0L]</td>\n",
       "    </tr>\n",
       "    <tr>\n",
       "      <th>9</th>\n",
       "      <td>Ganit Business Solutions</td>\n",
       "      <td>based on 13 salaries</td>\n",
       "      <td>[4, yrs, exp]</td>\n",
       "      <td>₹ 12.4L</td>\n",
       "      <td>[₹, 8.5L]</td>\n",
       "      <td>[₹, 15.0L]</td>\n",
       "    </tr>\n",
       "  </tbody>\n",
       "</table>\n",
       "</div>"
      ],
      "text/plain": [
       "               Company Name   Total Salary Record Experience Required  \\\n",
       "0                   Walmart  based on 11 salaries       [3, yrs, exp]   \n",
       "1                  Ab Inbev  based on 31 salaries     [3-4, yrs, exp]   \n",
       "2              Reliance Jio  based on 10 salaries       [4, yrs, exp]   \n",
       "3                        ZS  based on 15 salaries       [2, yrs, exp]   \n",
       "4                     Optum  based on 28 salaries     [3-4, yrs, exp]   \n",
       "5         Fractal Analytics  based on 81 salaries     [2-4, yrs, exp]   \n",
       "6           Tiger Analytics  based on 46 salaries     [2-4, yrs, exp]   \n",
       "7              UnitedHealth  based on 53 salaries     [2-4, yrs, exp]   \n",
       "8                   Verizon  based on 14 salaries       [4, yrs, exp]   \n",
       "9  Ganit Business Solutions  based on 13 salaries       [4, yrs, exp]   \n",
       "\n",
       "  Average Salary Minimum Salary Maximum Salary  \n",
       "0        ₹ 29.7L     [₹, 25.0L]     [₹, 35.0L]  \n",
       "1        ₹ 20.5L     [₹, 15.0L]     [₹, 25.5L]  \n",
       "2        ₹ 18.9L      [₹, 5.6L]     [₹, 26.2L]  \n",
       "3        ₹ 15.9L      [₹, 9.8L]     [₹, 20.0L]  \n",
       "4        ₹ 15.4L     [₹, 11.0L]     [₹, 22.4L]  \n",
       "5        ₹ 15.1L      [₹, 9.5L]     [₹, 22.0L]  \n",
       "6        ₹ 14.8L      [₹, 9.0L]     [₹, 20.0L]  \n",
       "7        ₹ 14.0L      [₹, 8.3L]     [₹, 20.5L]  \n",
       "8        ₹ 12.7L     [₹, 10.0L]     [₹, 21.0L]  \n",
       "9        ₹ 12.4L      [₹, 8.5L]     [₹, 15.0L]  "
      ]
     },
     "execution_count": 249,
     "metadata": {},
     "output_type": "execute_result"
    }
   ],
   "source": [
    "salary_data_scientist_ambitionbox"
   ]
  },
  {
   "cell_type": "code",
   "execution_count": null,
   "id": "e94fc51b",
   "metadata": {},
   "outputs": [],
   "source": []
  }
 ],
 "metadata": {
  "kernelspec": {
   "display_name": "Python 3",
   "language": "python",
   "name": "python3"
  },
  "language_info": {
   "codemirror_mode": {
    "name": "ipython",
    "version": 3
   },
   "file_extension": ".py",
   "mimetype": "text/x-python",
   "name": "python",
   "nbconvert_exporter": "python",
   "pygments_lexer": "ipython3",
   "version": "3.8.8"
  }
 },
 "nbformat": 4,
 "nbformat_minor": 5
}
