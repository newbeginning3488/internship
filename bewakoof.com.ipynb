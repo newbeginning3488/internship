{
 "cells": [
  {
   "cell_type": "code",
   "execution_count": 1,
   "id": "5a7a9337",
   "metadata": {},
   "outputs": [],
   "source": [
    "import sys\n",
    "import time\n",
    "from bs4 import BeautifulSoup\n",
    "import requests\n"
   ]
  },
  {
   "cell_type": "code",
   "execution_count": 2,
   "id": "571dc65b",
   "metadata": {},
   "outputs": [
    {
     "data": {
      "text/plain": [
       "<Response [200]>"
      ]
     },
     "execution_count": 2,
     "metadata": {},
     "output_type": "execute_result"
    }
   ],
   "source": [
    "try:\n",
    "    \n",
    "    page_bw=requests.get('https://www.bewakoof.com/women-boyfriend-tshirts')\n",
    "    \n",
    "except Exception as e:\n",
    "    error_type,error_obj,error_info=sys.exc_info()\n",
    "    print('ERROR FOR LINK: ',url)\n",
    "    print(error_type,'Line: ',error_info.tb_lineno)\n",
    "    \n",
    "time.sleep(2)\n",
    "\n",
    "page_bw\n"
   ]
  },
  {
   "cell_type": "code",
   "execution_count": 3,
   "id": "9b171b30",
   "metadata": {},
   "outputs": [],
   "source": [
    "soup_bw=BeautifulSoup(page_bw.text,'html.parser')\n",
    "\n"
   ]
  },
  {
   "cell_type": "code",
   "execution_count": 4,
   "id": "fe5304aa",
   "metadata": {},
   "outputs": [
    {
     "data": {
      "text/plain": [
       "['Mickey Upside Down Oversized T-shirt',\n",
       " 'Squid Triangle Boyfriend T-shirt',\n",
       " \"Worst Enemies Boyfriend T-shirt For Women's\",\n",
       " \"Women's Wink Oversized T-shirt\",\n",
       " 'Feel Good Lilac Boyfriend T-shirt',\n",
       " \"Women's Black Polka Print Oversized T-shirt\",\n",
       " \"Women's Monkey Boyfriend T-shirt\",\n",
       " 'Ceylon Yellow Boyfriend T-Shirt',\n",
       " 'Killer Brown Plus Size Boyfriend T-shirt',\n",
       " \"Women's Purple Mickey AOP Oversized T-shirt\"]"
      ]
     },
     "execution_count": 4,
     "metadata": {},
     "output_type": "execute_result"
    }
   ],
   "source": [
    "pdt_name=[]\n",
    "for i in soup_bw('div',class_=\"productCardBox\"):\n",
    "    pdt_name.append(i.h3.text)\n",
    "    \n",
    "    \n",
    "pdt_name"
   ]
  },
  {
   "cell_type": "code",
   "execution_count": 5,
   "id": "c88fb9f1",
   "metadata": {},
   "outputs": [
    {
     "data": {
      "text/plain": [
       "['₹ 599',\n",
       " '₹ 349',\n",
       " '₹ 399',\n",
       " '₹ 399',\n",
       " '₹ 399',\n",
       " '₹ 599',\n",
       " '₹ 399',\n",
       " '₹ 349',\n",
       " '₹ 499',\n",
       " '₹ 599']"
      ]
     },
     "execution_count": 5,
     "metadata": {},
     "output_type": "execute_result"
    }
   ],
   "source": [
    "pdt_price=[]\n",
    "for i in soup_bw('div',class_=\"productPriceBox clearfix\"):\n",
    "    pdt_price.append(i.span.text)\n",
    "    \n",
    "    \n",
    "pdt_price\n"
   ]
  },
  {
   "cell_type": "code",
   "execution_count": 6,
   "id": "f7ac2ca2",
   "metadata": {},
   "outputs": [
    {
     "data": {
      "text/plain": [
       "['https://images.bewakoof.com/t320/yellow-mickey-upside-down-round-neck-boy-friend-t-shirt-433589-1643282742-1.jpg',\n",
       " 'https://images.bewakoof.com/t320/squid-triangle-boyfriend-t-shirt-t-shirt-438597-1641295448.jpg',\n",
       " 'https://images.bewakoof.com/t320/worst-enemies-boyfriend-t-shirts-381187-1637996038-1.jpg',\n",
       " 'https://images.bewakoof.com/t320/wink-new-women-s-boyfriend-t-shirts-391410-1630659149-1.jpg',\n",
       " 'https://images.bewakoof.com/t320/orchid-petal-boyfriend-t-shirts-454613-1640787308-1.jpg',\n",
       " 'https://images.bewakoof.com/t320/normal-is-boring-boy-friend-fit-tshirt-441305-1644558127-1.jpg',\n",
       " 'https://images.bewakoof.com/t320/monkey-boyfriend-t-shirt-387433-1639681465-1.jpg',\n",
       " 'https://images.bewakoof.com/t320/ceylon-yellow-boyfriend-t-shirts-404578-1640001145-1.jpg',\n",
       " 'https://images.bewakoof.com/t320/toffee-boyfriend-t-shirts-394637-1632978135-1.jpg',\n",
       " 'https://images.bewakoof.com/t320/mickey-colourful-boy-friend-fit-tshirt-441331-1647430243-1.jpg']"
      ]
     },
     "execution_count": 6,
     "metadata": {},
     "output_type": "execute_result"
    }
   ],
   "source": [
    "pdt_img=[]\n",
    "for i in soup_bw('div',class_=\"productCardImg false\"):\n",
    "    pdt_img.append(i.img.get('src'))\n",
    "    \n",
    "    \n",
    "pdt_img\n"
   ]
  },
  {
   "cell_type": "code",
   "execution_count": 7,
   "id": "6a432270",
   "metadata": {},
   "outputs": [
    {
     "name": "stdout",
     "output_type": "stream",
     "text": [
      "10 10 10\n"
     ]
    }
   ],
   "source": [
    "print(len(pdt_name),len(pdt_price),len(pdt_img))\n"
   ]
  },
  {
   "cell_type": "code",
   "execution_count": 8,
   "id": "93f25b95",
   "metadata": {},
   "outputs": [
    {
     "data": {
      "text/html": [
       "<div>\n",
       "<style scoped>\n",
       "    .dataframe tbody tr th:only-of-type {\n",
       "        vertical-align: middle;\n",
       "    }\n",
       "\n",
       "    .dataframe tbody tr th {\n",
       "        vertical-align: top;\n",
       "    }\n",
       "\n",
       "    .dataframe thead th {\n",
       "        text-align: right;\n",
       "    }\n",
       "</style>\n",
       "<table border=\"1\" class=\"dataframe\">\n",
       "  <thead>\n",
       "    <tr style=\"text-align: right;\">\n",
       "      <th></th>\n",
       "      <th>Product Name</th>\n",
       "      <th>Product Price</th>\n",
       "      <th>Product Image URL</th>\n",
       "    </tr>\n",
       "  </thead>\n",
       "  <tbody>\n",
       "    <tr>\n",
       "      <th>0</th>\n",
       "      <td>Women's Wink Oversized T-shirt</td>\n",
       "      <td>₹ 399</td>\n",
       "      <td>https://images.bewakoof.com/t320/wink-new-wome...</td>\n",
       "    </tr>\n",
       "    <tr>\n",
       "      <th>1</th>\n",
       "      <td>Worst Enemies Boyfriend T-shirt For Women's</td>\n",
       "      <td>₹ 399</td>\n",
       "      <td>https://images.bewakoof.com/t320/worst-enemies...</td>\n",
       "    </tr>\n",
       "    <tr>\n",
       "      <th>2</th>\n",
       "      <td>Killer Brown Boyfriend T-shirt</td>\n",
       "      <td>₹ 299</td>\n",
       "      <td>https://images.bewakoof.com/t320/toffee-boyfri...</td>\n",
       "    </tr>\n",
       "    <tr>\n",
       "      <th>3</th>\n",
       "      <td>Ceylon Yellow Boyfriend T-Shirt</td>\n",
       "      <td>₹ 349</td>\n",
       "      <td>https://images.bewakoof.com/t320/ceylon-yellow...</td>\n",
       "    </tr>\n",
       "    <tr>\n",
       "      <th>4</th>\n",
       "      <td>White All Over Printed Boyfriend T-Shirt</td>\n",
       "      <td>₹ 299</td>\n",
       "      <td>https://images.bewakoof.com/t320/white-all-ove...</td>\n",
       "    </tr>\n",
       "    <tr>\n",
       "      <th>5</th>\n",
       "      <td>Women's Monkey Boyfriend T-shirt</td>\n",
       "      <td>₹ 399</td>\n",
       "      <td>https://images.bewakoof.com/t320/monkey-boyfri...</td>\n",
       "    </tr>\n",
       "    <tr>\n",
       "      <th>6</th>\n",
       "      <td>Feel Good Lilac Plus Size Boyfriend T-shirt</td>\n",
       "      <td>₹ 699</td>\n",
       "      <td>https://images.bewakoof.com/t320/orchid-petal-...</td>\n",
       "    </tr>\n",
       "    <tr>\n",
       "      <th>7</th>\n",
       "      <td>Feel Good Lilac Boyfriend T-shirt</td>\n",
       "      <td>₹ 399</td>\n",
       "      <td>https://images.bewakoof.com/t320/orchid-petal-...</td>\n",
       "    </tr>\n",
       "    <tr>\n",
       "      <th>8</th>\n",
       "      <td>Killer Brown Plus Size Boyfriend T-shirt</td>\n",
       "      <td>₹ 499</td>\n",
       "      <td>https://images.bewakoof.com/t320/toffee-boyfri...</td>\n",
       "    </tr>\n",
       "    <tr>\n",
       "      <th>9</th>\n",
       "      <td>Women's White Mickey AOP Oversized T-shirt</td>\n",
       "      <td>₹ 599</td>\n",
       "      <td>https://images.bewakoof.com/t320/mickey-colour...</td>\n",
       "    </tr>\n",
       "  </tbody>\n",
       "</table>\n",
       "</div>"
      ],
      "text/plain": [
       "                                  Product Name Product Price  \\\n",
       "0               Women's Wink Oversized T-shirt         ₹ 399   \n",
       "1  Worst Enemies Boyfriend T-shirt For Women's         ₹ 399   \n",
       "2               Killer Brown Boyfriend T-shirt         ₹ 299   \n",
       "3              Ceylon Yellow Boyfriend T-Shirt         ₹ 349   \n",
       "4     White All Over Printed Boyfriend T-Shirt         ₹ 299   \n",
       "5             Women's Monkey Boyfriend T-shirt         ₹ 399   \n",
       "6  Feel Good Lilac Plus Size Boyfriend T-shirt         ₹ 699   \n",
       "7            Feel Good Lilac Boyfriend T-shirt         ₹ 399   \n",
       "8     Killer Brown Plus Size Boyfriend T-shirt         ₹ 499   \n",
       "9   Women's White Mickey AOP Oversized T-shirt         ₹ 599   \n",
       "\n",
       "                                   Product Image URL  \n",
       "0  https://images.bewakoof.com/t320/wink-new-wome...  \n",
       "1  https://images.bewakoof.com/t320/worst-enemies...  \n",
       "2  https://images.bewakoof.com/t320/toffee-boyfri...  \n",
       "3  https://images.bewakoof.com/t320/ceylon-yellow...  \n",
       "4  https://images.bewakoof.com/t320/white-all-ove...  \n",
       "5  https://images.bewakoof.com/t320/monkey-boyfri...  \n",
       "6  https://images.bewakoof.com/t320/orchid-petal-...  \n",
       "7  https://images.bewakoof.com/t320/orchid-petal-...  \n",
       "8  https://images.bewakoof.com/t320/toffee-boyfri...  \n",
       "9  https://images.bewakoof.com/t320/mickey-colour...  "
      ]
     },
     "execution_count": 8,
     "metadata": {},
     "output_type": "execute_result"
    }
   ],
   "source": [
    "import pandas as pd\n",
    "df_bewakoof_bf_tshirts=pd.DataFrame({'Product Name':pdt_name,'Product Price':pdt_price,'Product Image URL':pdt_img})\n",
    "df_bewakoof_bf_tshirts\n"
   ]
  },
  {
   "cell_type": "code",
   "execution_count": null,
   "id": "b4809465",
   "metadata": {},
   "outputs": [],
   "source": []
  }
 ],
 "metadata": {
  "kernelspec": {
   "display_name": "Python 3",
   "language": "python",
   "name": "python3"
  },
  "language_info": {
   "codemirror_mode": {
    "name": "ipython",
    "version": 3
   },
   "file_extension": ".py",
   "mimetype": "text/x-python",
   "name": "python",
   "nbconvert_exporter": "python",
   "pygments_lexer": "ipython3",
   "version": "3.8.8"
  }
 },
 "nbformat": 4,
 "nbformat_minor": 5
}
